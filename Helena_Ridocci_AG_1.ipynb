{
  "nbformat": 4,
  "nbformat_minor": 0,
  "metadata": {
    "colab": {
      "name": "Helena Ridocci AG-1.ipynb",
      "provenance": [],
      "include_colab_link": true
    },
    "kernelspec": {
      "name": "python3",
      "display_name": "Python 3"
    }
  },
  "cells": [
    {
      "cell_type": "markdown",
      "metadata": {
        "id": "view-in-github",
        "colab_type": "text"
      },
      "source": [
        "<a href=\"https://colab.research.google.com/github/hridog00/03MAIR---Algoritmos-de-Optimizacion---2019/blob/master/Helena_Ridocci_AG_1.ipynb\" target=\"_parent\"><img src=\"https://colab.research.google.com/assets/colab-badge.svg\" alt=\"Open In Colab\"/></a>"
      ]
    },
    {
      "cell_type": "markdown",
      "metadata": {
        "id": "ohXMuh-Tjeuq",
        "colab_type": "text"
      },
      "source": [
        "Actividad Guiada 1 de Algoritmos de Optimización\n",
        "\n",
        "Helena Ridocci\n",
        "\n",
        "https://colab.research.google.com/drive/1aklXg7M39eBs_BhCqO459aT_2mKp0SIL\n",
        "\n",
        "https://github.com/hridog00/03MAIR---Algoritmos-de-Optimizacion---2019\n"
      ]
    },
    {
      "cell_type": "markdown",
      "metadata": {
        "id": "uV7SdqZljNTV",
        "colab_type": "text"
      },
      "source": [
        "Torres Hanoi"
      ]
    },
    {
      "cell_type": "code",
      "metadata": {
        "id": "Rj8t5IRTju2W",
        "colab_type": "code",
        "colab": {
          "base_uri": "https://localhost:8080/",
          "height": 272
        },
        "outputId": "b8e10dfe-d3e2-4de6-d8a2-42d0e7a91eb5"
      },
      "source": [
        "def torres_hanoy(N, desde, hasta):\n",
        "  if N == 1:\n",
        "    print(\"Llevamos desde \", desde, \"hasta\",hasta)\n",
        "  else:\n",
        "    torres_hanoy(N-1, desde, 6-desde-hasta)\n",
        "    print(\"Llevamos desde \", desde, \"hasta\",hasta)\n",
        "    torres_hanoy(N-1, 6-desde-hasta, hasta)\n",
        "\n",
        "torres_hanoy(4,1, 3)\n",
        "\n"
      ],
      "execution_count": 27,
      "outputs": [
        {
          "output_type": "stream",
          "text": [
            "Llevamos desde  1 hasta 2\n",
            "Llevamos desde  1 hasta 3\n",
            "Llevamos desde  2 hasta 3\n",
            "Llevamos desde  1 hasta 2\n",
            "Llevamos desde  3 hasta 1\n",
            "Llevamos desde  3 hasta 2\n",
            "Llevamos desde  1 hasta 2\n",
            "Llevamos desde  1 hasta 3\n",
            "Llevamos desde  2 hasta 3\n",
            "Llevamos desde  2 hasta 1\n",
            "Llevamos desde  3 hasta 1\n",
            "Llevamos desde  2 hasta 3\n",
            "Llevamos desde  1 hasta 2\n",
            "Llevamos desde  1 hasta 3\n",
            "Llevamos desde  2 hasta 3\n"
          ],
          "name": "stdout"
        }
      ]
    },
    {
      "cell_type": "code",
      "metadata": {
        "id": "NIqSITr8p5wc",
        "colab_type": "code",
        "colab": {}
      },
      "source": [
        "def reinas(solucion, etapa):\n",
        "  #print('ETAPA ',etapa)\n",
        "  for i in range(1, len(solucion)+1):\n",
        "      solucion[etapa] = i\n",
        "      #print(solucion)\n",
        "      if es_prometedora(solucion[:etapa+1]):\n",
        "        if etapa == len(solucion) -1:\n",
        "          print(\"La solucion es\",solucion)\n",
        "        else:\n",
        "          #print(\"Es prometedora\")\n",
        "          reinas(solucion, etapa+1)\n",
        "  solucion[etapa] = 0\n",
        "\n",
        "def es_prometedora(solucion):\n",
        "  #print(\"Compruebo:\", solucion,'->' ,set(solucion))\n",
        "  if len(set(solucion)) != len(solucion):\n",
        "    return False\n",
        "  for i in range(len(solucion)-1):\n",
        "    if abs(i-(i+1)) == abs(solucion[i]-solucion[i+1]):\n",
        "      return False\n",
        "  return True\n",
        "\n",
        "\n"
      ],
      "execution_count": 0,
      "outputs": []
    },
    {
      "cell_type": "code",
      "metadata": {
        "id": "xOidf5UW3aio",
        "colab_type": "code",
        "colab": {
          "base_uri": "https://localhost:8080/",
          "height": 289
        },
        "outputId": "bf573ee1-3ac3-4220-adf0-94c99d7d76fc"
      },
      "source": [
        "solucion = [0,0,0,0]\n",
        "etapa = 0\n",
        "reinas(solucion, etapa)"
      ],
      "execution_count": 73,
      "outputs": [
        {
          "output_type": "stream",
          "text": [
            "Vuelvo aqui\n",
            "Vuelvo aqui\n",
            "Vuelvo aqui\n",
            "Vuelvo aqui\n",
            "La solucion es [2, 4, 1, 3]\n",
            "Vuelvo aqui\n",
            "Vuelvo aqui\n",
            "Vuelvo aqui\n",
            "La solucion es [3, 1, 4, 2]\n",
            "Vuelvo aqui\n",
            "Vuelvo aqui\n",
            "Vuelvo aqui\n",
            "Vuelvo aqui\n",
            "Vuelvo aqui\n",
            "Vuelvo aqui\n",
            "Vuelvo aqui\n"
          ],
          "name": "stdout"
        }
      ]
    },
    {
      "cell_type": "code",
      "metadata": {
        "id": "_FGLPiLZ3knm",
        "colab_type": "code",
        "colab": {
          "base_uri": "https://localhost:8080/",
          "height": 34
        },
        "outputId": "c2548e86-89b3-490b-8aa5-ff893dbd92e3"
      },
      "source": [
        "solucion"
      ],
      "execution_count": 30,
      "outputs": [
        {
          "output_type": "execute_result",
          "data": {
            "text/plain": [
              "[4, 0, 0, 0]"
            ]
          },
          "metadata": {
            "tags": []
          },
          "execution_count": 30
        }
      ]
    },
    {
      "cell_type": "code",
      "metadata": {
        "id": "SrCdp9Uz3qPN",
        "colab_type": "code",
        "colab": {}
      },
      "source": [
        ""
      ],
      "execution_count": 0,
      "outputs": []
    }
  ]
}