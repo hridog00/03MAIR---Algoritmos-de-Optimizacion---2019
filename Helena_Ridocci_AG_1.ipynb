{
  "nbformat": 4,
  "nbformat_minor": 0,
  "metadata": {
    "colab": {
      "name": "Helena Ridocci AG-1.ipynb",
      "provenance": [],
      "include_colab_link": true
    },
    "kernelspec": {
      "name": "python3",
      "display_name": "Python 3"
    }
  },
  "cells": [
    {
      "cell_type": "markdown",
      "metadata": {
        "id": "view-in-github",
        "colab_type": "text"
      },
      "source": [
        "<a href=\"https://colab.research.google.com/github/hridog00/03MAIR---Algoritmos-de-Optimizacion---2019/blob/master/Helena_Ridocci_AG_1.ipynb\" target=\"_parent\"><img src=\"https://colab.research.google.com/assets/colab-badge.svg\" alt=\"Open In Colab\"/></a>"
      ]
    },
    {
      "cell_type": "markdown",
      "metadata": {
        "id": "ohXMuh-Tjeuq",
        "colab_type": "text"
      },
      "source": [
        "Actividad Guiada 1 de Algoritmos de Optimización\n",
        "\n",
        "Helena Ridocci\n",
        "\n",
        "https://colab.research.google.com/drive/1aklXg7M39eBs_BhCqO459aT_2mKp0SIL\n",
        "\n",
        "https://github.com/hridog00/03MAIR---Algoritmos-de-Optimizacion---2019\n"
      ]
    },
    {
      "cell_type": "markdown",
      "metadata": {
        "id": "uV7SdqZljNTV",
        "colab_type": "text"
      },
      "source": [
        "Torres Hanoi"
      ]
    },
    {
      "cell_type": "code",
      "metadata": {
        "id": "Rj8t5IRTju2W",
        "colab_type": "code",
        "outputId": "b8e10dfe-d3e2-4de6-d8a2-42d0e7a91eb5",
        "colab": {
          "base_uri": "https://localhost:8080/",
          "height": 272
        }
      },
      "source": [
        "def torres_hanoy(N, desde, hasta):\n",
        "  if N == 1:\n",
        "    print(\"Llevamos desde \", desde, \"hasta\",hasta)\n",
        "  else:\n",
        "    torres_hanoy(N-1, desde, 6-desde-hasta)\n",
        "    print(\"Llevamos desde \", desde, \"hasta\",hasta)\n",
        "    torres_hanoy(N-1, 6-desde-hasta, hasta)\n",
        "\n",
        "torres_hanoy(4,1, 3)\n",
        "\n"
      ],
      "execution_count": 0,
      "outputs": [
        {
          "output_type": "stream",
          "text": [
            "Llevamos desde  1 hasta 2\n",
            "Llevamos desde  1 hasta 3\n",
            "Llevamos desde  2 hasta 3\n",
            "Llevamos desde  1 hasta 2\n",
            "Llevamos desde  3 hasta 1\n",
            "Llevamos desde  3 hasta 2\n",
            "Llevamos desde  1 hasta 2\n",
            "Llevamos desde  1 hasta 3\n",
            "Llevamos desde  2 hasta 3\n",
            "Llevamos desde  2 hasta 1\n",
            "Llevamos desde  3 hasta 1\n",
            "Llevamos desde  2 hasta 3\n",
            "Llevamos desde  1 hasta 2\n",
            "Llevamos desde  1 hasta 3\n",
            "Llevamos desde  2 hasta 3\n"
          ],
          "name": "stdout"
        }
      ]
    },
    {
      "cell_type": "code",
      "metadata": {
        "id": "NIqSITr8p5wc",
        "colab_type": "code",
        "colab": {}
      },
      "source": [
        "def reinas(solucion, etapa):\n",
        "  #print('ETAPA ',etapa)\n",
        "  for i in range(1, len(solucion)+1):\n",
        "      solucion[etapa] = i\n",
        "      #print(solucion)\n",
        "      if es_prometedora(solucion[:etapa+1]):\n",
        "        if etapa == len(solucion) -1:\n",
        "          print(\"La solucion es\",solucion)\n",
        "        else:\n",
        "          #print(\"Es prometedora\")\n",
        "          reinas(solucion, etapa+1)\n",
        "  solucion[etapa] = 0\n",
        "\n",
        "def es_prometedora(solucion):\n",
        "  #print(\"Compruebo:\", solucion,'->' ,set(solucion))\n",
        "  if len(set(solucion)) != len(solucion):\n",
        "    return False\n",
        "  for i in range(len(solucion)-1):\n",
        "    if abs(i-(i+1)) == abs(solucion[i]-solucion[i+1]):\n",
        "      return False\n",
        "  return True\n",
        "\n",
        "\n"
      ],
      "execution_count": 0,
      "outputs": []
    },
    {
      "cell_type": "code",
      "metadata": {
        "id": "xOidf5UW3aio",
        "colab_type": "code",
        "outputId": "bf573ee1-3ac3-4220-adf0-94c99d7d76fc",
        "colab": {
          "base_uri": "https://localhost:8080/",
          "height": 289
        }
      },
      "source": [
        "solucion = [0,0,0,0]\n",
        "etapa = 0\n",
        "reinas(solucion, etapa)"
      ],
      "execution_count": 0,
      "outputs": [
        {
          "output_type": "stream",
          "text": [
            "Vuelvo aqui\n",
            "Vuelvo aqui\n",
            "Vuelvo aqui\n",
            "Vuelvo aqui\n",
            "La solucion es [2, 4, 1, 3]\n",
            "Vuelvo aqui\n",
            "Vuelvo aqui\n",
            "Vuelvo aqui\n",
            "La solucion es [3, 1, 4, 2]\n",
            "Vuelvo aqui\n",
            "Vuelvo aqui\n",
            "Vuelvo aqui\n",
            "Vuelvo aqui\n",
            "Vuelvo aqui\n",
            "Vuelvo aqui\n",
            "Vuelvo aqui\n"
          ],
          "name": "stdout"
        }
      ]
    },
    {
      "cell_type": "code",
      "metadata": {
        "id": "_FGLPiLZ3knm",
        "colab_type": "code",
        "outputId": "c2548e86-89b3-490b-8aa5-ff893dbd92e3",
        "colab": {
          "base_uri": "https://localhost:8080/",
          "height": 34
        }
      },
      "source": [
        "solucion"
      ],
      "execution_count": 0,
      "outputs": [
        {
          "output_type": "execute_result",
          "data": {
            "text/plain": [
              "[4, 0, 0, 0]"
            ]
          },
          "metadata": {
            "tags": []
          },
          "execution_count": 30
        }
      ]
    },
    {
      "cell_type": "code",
      "metadata": {
        "id": "SrCdp9Uz3qPN",
        "colab_type": "code",
        "colab": {}
      },
      "source": [
        ""
      ],
      "execution_count": 0,
      "outputs": []
    },
    {
      "cell_type": "markdown",
      "metadata": {
        "id": "h3wtdSwG319n",
        "colab_type": "text"
      },
      "source": [
        "Puntos mas cercanos"
      ]
    },
    {
      "cell_type": "code",
      "metadata": {
        "id": "_CNYTS4o33oT",
        "colab_type": "code",
        "colab": {}
      },
      "source": [
        "import random\n",
        "ptos_1d = list(set([random.randrange(1,10000) for _ in range (1000)]))\n",
        "ptos_2d = [[random.randrange(1,10000), random.randrange(1,10000)] for _ in range (10000)]"
      ],
      "execution_count": 0,
      "outputs": []
    },
    {
      "cell_type": "code",
      "metadata": {
        "id": "Stg760hz4_FJ",
        "colab_type": "code",
        "colab": {}
      },
      "source": [
        "import math\n",
        "def distance_1d(pto1, pto2):\n",
        "    return abs(pto1-pto2)\n",
        "    \n",
        "    \n",
        "def distance_2d(pto1, pto2):\n",
        "    return math.sqrt((pto2[0]-pto1[0])**2 + (pto2[1]-pto1[1])**2)"
      ],
      "execution_count": 0,
      "outputs": []
    },
    {
      "cell_type": "code",
      "metadata": {
        "id": "RdYaH2Or_TJF",
        "colab_type": "code",
        "colab": {}
      },
      "source": [
        "def brute_force(ptos, get_distance):\n",
        "    #complejidad: n^2\n",
        "    ptos_mas_cercanos = [-1,-1]\n",
        "    distance = 10000\n",
        "    for i in range(len(ptos)):\n",
        "        for j in range(i+1, len(ptos)):\n",
        "            if get_distance(ptos[i], ptos[j]) < distance:\n",
        "                ptos_mas_cercanos[0] = ptos[i]\n",
        "                ptos_mas_cercanos[1] = ptos[j]\n",
        "                distance = get_distance(ptos[i], ptos[j])\n",
        "\n",
        "    print(\"Los puntos mas cercanos son \", ptos_mas_cercanos, \"con una distancia de \", distance)\n"
      ],
      "execution_count": 0,
      "outputs": []
    },
    {
      "cell_type": "code",
      "metadata": {
        "id": "uGrjCpwtDKNx",
        "colab_type": "code",
        "colab": {
          "base_uri": "https://localhost:8080/",
          "height": 34
        },
        "outputId": "02be46d4-25e6-4ed6-be15-16b57400f4c6"
      },
      "source": [
        "brute_force(ptos_2d, distance_2d)"
      ],
      "execution_count": 98,
      "outputs": [
        {
          "output_type": "stream",
          "text": [
            "Los puntos mas cercanos son  [[105, 60], [105, 61]] con una distancia de  1.0\n"
          ],
          "name": "stdout"
        }
      ]
    },
    {
      "cell_type": "markdown",
      "metadata": {
        "id": "X0Rhi3dxqFZF",
        "colab_type": "text"
      },
      "source": [
        "###Código para la resolución del problema mediante Divide y Venceras\n",
        "Se ha implementado un metodo recursivo y, de manera auxiliar, un objeto en el que encapsular el resultado, que contenga los puntos y la distancia entre ellos"
      ]
    },
    {
      "cell_type": "code",
      "metadata": {
        "id": "phofooH7mq3I",
        "colab_type": "code",
        "colab": {}
      },
      "source": [
        "\n",
        "class Result:\n",
        "    def __init__(self, p1, p2):\n",
        "        self.p1 = p1\n",
        "        self.p2 = p2\n",
        "        self.dist =  self.distance(p1, p2)\n",
        "    def distance(self, p1, p2):\n",
        "        if type(p1) == int and type(p2) == int:\n",
        "            return abs(p1 - p2)\n",
        "        else:\n",
        "            return math.sqrt((p2[0]-p1[0])**2 + (p2[1]-p1[1])**2)\n",
        "\n",
        "    def __str__(self):\n",
        "        return \"Los puntos mas cercanos son \"+ str(self.p1) +\" y \"+ str(self.p2) + \" con una distancia de \"+ str(self.dist)\n",
        "\n",
        "def find_min(res1, res2, res3):\n",
        "    if res1.dist <= res2.dist and res1.dist <= res3.dist:\n",
        "        return res1\n",
        "    if res2.dist <= res1.dist and res2.dist <= res3.dist:\n",
        "        return res2\n",
        "    if res3.dist <= res1.dist and res3.dist <= res2.dist:\n",
        "        return res3"
      ],
      "execution_count": 0,
      "outputs": []
    },
    {
      "cell_type": "markdown",
      "metadata": {
        "id": "-Zb-A4z_m7lq",
        "colab_type": "text"
      },
      "source": [
        "1 dimension"
      ]
    },
    {
      "cell_type": "code",
      "metadata": {
        "id": "zFNG4xEYn3fA",
        "colab_type": "code",
        "colab": {}
      },
      "source": [
        "def find_closest(S):\n",
        "    if len(S) == 1:\n",
        "        return Result(float(\"inf\"),0)\n",
        "    if len(S) == 2:\n",
        "        return Result(S[0] , S[1])\n",
        "    m = len(S)//2\n",
        "    S1 = S[:m]\n",
        "    S2 = S[m:]\n",
        "    dist1 = find_closest(S1)\n",
        "    dist2 = find_closest(S2)\n",
        "    dist12 = Result(S1[-1] , S2[0])\n",
        "    return find_min(dist1, dist2, dist12)"
      ],
      "execution_count": 0,
      "outputs": []
    },
    {
      "cell_type": "code",
      "metadata": {
        "id": "LMCDXrQxDfZV",
        "colab_type": "code",
        "colab": {}
      },
      "source": [
        "def divide_and_conquer_1d(ptos):\n",
        "    ptos.sort()\n",
        "    resultado = find_closest(ptos)\n",
        "    print(resultado)\n",
        "    "
      ],
      "execution_count": 0,
      "outputs": []
    },
    {
      "cell_type": "code",
      "metadata": {
        "id": "7mIo93XsAQL-",
        "colab_type": "code",
        "outputId": "a2935131-2cd5-48d3-b84b-56228ac1edf9",
        "colab": {
          "base_uri": "https://localhost:8080/",
          "height": 35
        }
      },
      "source": [
        "brute_force(ptos_1d, distance_1d)"
      ],
      "execution_count": 0,
      "outputs": [
        {
          "output_type": "stream",
          "text": [
            "Los puntos mas cercanos son  [23, 24] con una distancia de  1\n"
          ],
          "name": "stdout"
        }
      ]
    },
    {
      "cell_type": "code",
      "metadata": {
        "id": "Y8mYu30UBIeI",
        "colab_type": "code",
        "outputId": "0fa4ec3a-1770-4bae-ef57-cf0c61deaedc",
        "colab": {
          "base_uri": "https://localhost:8080/",
          "height": 35
        }
      },
      "source": [
        "divide_and_conquer_1d(ptos_1d)"
      ],
      "execution_count": 0,
      "outputs": [
        {
          "output_type": "stream",
          "text": [
            "Los puntos mas cercanos son 23 y 24 con una distancia de 1\n"
          ],
          "name": "stdout"
        }
      ]
    },
    {
      "cell_type": "markdown",
      "metadata": {
        "id": "1HMxe4n-nBfC",
        "colab_type": "text"
      },
      "source": [
        "2 dimensiones\n"
      ]
    },
    {
      "cell_type": "code",
      "metadata": {
        "id": "jM3EzwzRnSRn",
        "colab_type": "code",
        "colab": {}
      },
      "source": [
        "def ordenar_x(S):\n",
        "    S = sorted(S , key=lambda x: [x[0], x[1]])\n",
        "    return S\n",
        "\n",
        "\n",
        "def ordenar_y(S):\n",
        "    ptos = sorted(S , key=lambda x: [x[1], x[0]])\n",
        "    return ptos\n",
        "\n",
        "def find_ptos_d(S,m,d):\n",
        "    ptos = []\n",
        "    ptos.append(S[m])\n",
        "    x = S[m][0]\n",
        "    buscar = True\n",
        "    i = m-1\n",
        "    while buscar and i>=0:\n",
        "        if S[i][0] >= x-d:\n",
        "            ptos.append(S[i])\n",
        "            i -= 1\n",
        "        else:\n",
        "            buscar = False\n",
        "    buscar = True\n",
        "    i = m+1\n",
        "    while buscar and i<len(S):\n",
        "        if S[i][0] <= x+d:\n",
        "            ptos.append(S[i])\n",
        "            i += 1\n",
        "        else:\n",
        "            buscar = False\n",
        "    return ptos\n",
        "def distance_ptos_medios(d, ptos):\n",
        "    min_dist = d\n",
        "    res = Result([float(\"inf\"),float(\"inf\")],[0,0])\n",
        "    for i in range(len(ptos)):\n",
        "        j = i+1\n",
        "        while(j< len(ptos) and (ptos[j][0]-ptos[i][0]) < min_dist):\n",
        "            distance = distance_2d(ptos[i],ptos[j])\n",
        "            if ( distance < min_dist): \n",
        "                min_dist = distance\n",
        "                res = Result(ptos[i], ptos[j])\n",
        "            j+=1\n",
        "    return res\n",
        "\n",
        "\n",
        "def find_closest_2d(S):\n",
        "    if len(S) == 1:\n",
        "        return Result([float(\"inf\"),float(\"inf\")],[0,0])\n",
        "    if len(S) == 2:\n",
        "        return Result(S[0] , S[1])\n",
        "    m = len(S)//2\n",
        "    x = S[m][0]\n",
        "    S1 = S[:m]\n",
        "    S2 = S[m:]\n",
        "    dist1 = find_closest_2d(S1)\n",
        "    dist2 = find_closest_2d(S2)\n",
        "\n",
        "    d =  min(dist1.dist, dist2.dist)\n",
        "    #print('La distancia minima es', d)\n",
        "    ptos_medio  = ordenar_y(find_ptos_d(S, m, d))\n",
        "    ptos_medios_distance = distance_ptos_medios(d, ptos_medio)\n",
        "\n",
        "    return find_min(dist1, dist2, ptos_medios_distance)\n"
      ],
      "execution_count": 0,
      "outputs": []
    },
    {
      "cell_type": "code",
      "metadata": {
        "id": "jxTt0bc860gH",
        "colab_type": "code",
        "colab": {}
      },
      "source": [
        "def divide_and_conquer_2d(ptos):\n",
        "    S = ordenar_x(ptos)\n",
        "    print(find_closest_2d(S))"
      ],
      "execution_count": 0,
      "outputs": []
    },
    {
      "cell_type": "code",
      "metadata": {
        "id": "yn0H3vq-EcIe",
        "colab_type": "code",
        "colab": {}
      },
      "source": [
        "ptos_2d = [[random.randrange(1,10000), random.randrange(1,10000)] for _ in range (10000)]"
      ],
      "execution_count": 0,
      "outputs": []
    },
    {
      "cell_type": "code",
      "metadata": {
        "id": "uTVFWA6eDsun",
        "colab_type": "code",
        "colab": {
          "base_uri": "https://localhost:8080/",
          "height": 34
        },
        "outputId": "7832e211-e876-4bc8-9d28-85d4337b212c"
      },
      "source": [
        "brute_force(ptos_2d, distance_2d)"
      ],
      "execution_count": 119,
      "outputs": [
        {
          "output_type": "stream",
          "text": [
            "Los puntos mas cercanos son  [[1466, 9103], [1466, 9103]] con una distancia de  0.0\n"
          ],
          "name": "stdout"
        }
      ]
    },
    {
      "cell_type": "code",
      "metadata": {
        "id": "_-a_dgep7NaB",
        "colab_type": "code",
        "colab": {
          "base_uri": "https://localhost:8080/",
          "height": 34
        },
        "outputId": "aa7ae931-17d7-4ec9-c7aa-465fe642b351"
      },
      "source": [
        "divide_and_conquer_2d(ptos_2d)"
      ],
      "execution_count": 120,
      "outputs": [
        {
          "output_type": "stream",
          "text": [
            "Los puntos mas cercanos son [1466, 9103] y [1466, 9103] con una distancia de 0.0\n"
          ],
          "name": "stdout"
        }
      ]
    },
    {
      "cell_type": "code",
      "metadata": {
        "id": "vTf0ivvenqkz",
        "colab_type": "code",
        "colab": {}
      },
      "source": [
        ""
      ],
      "execution_count": 0,
      "outputs": []
    }
  ]
}