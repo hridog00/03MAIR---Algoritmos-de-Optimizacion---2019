{
  "nbformat": 4,
  "nbformat_minor": 0,
  "metadata": {
    "colab": {
      "name": "Helena Ridocci AG-1.ipynb",
      "provenance": [],
      "include_colab_link": true
    },
    "kernelspec": {
      "name": "python3",
      "display_name": "Python 3"
    }
  },
  "cells": [
    {
      "cell_type": "markdown",
      "metadata": {
        "id": "view-in-github",
        "colab_type": "text"
      },
      "source": [
        "<a href=\"https://colab.research.google.com/github/hridog00/03MAIR---Algoritmos-de-Optimizacion---2019/blob/master/Helena_Ridocci_AG_1.ipynb\" target=\"_parent\"><img src=\"https://colab.research.google.com/assets/colab-badge.svg\" alt=\"Open In Colab\"/></a>"
      ]
    },
    {
      "cell_type": "markdown",
      "metadata": {
        "id": "ohXMuh-Tjeuq",
        "colab_type": "text"
      },
      "source": [
        "Actividad Guiada 1 de Algoritmos de Optimización\n",
        "\n",
        "Helena Ridocci\n",
        "\n",
        "https://colab.research.google.com/drive/1aklXg7M39eBs_BhCqO459aT_2mKp0SIL\n",
        "\n",
        "https://github.com/hridog00/03MAIR---Algoritmos-de-Optimizacion---2019\n"
      ]
    },
    {
      "cell_type": "markdown",
      "metadata": {
        "id": "uV7SdqZljNTV",
        "colab_type": "text"
      },
      "source": [
        "Torres Hanoi"
      ]
    },
    {
      "cell_type": "code",
      "metadata": {
        "id": "Rj8t5IRTju2W",
        "colab_type": "code",
        "outputId": "b8e10dfe-d3e2-4de6-d8a2-42d0e7a91eb5",
        "colab": {
          "base_uri": "https://localhost:8080/",
          "height": 272
        }
      },
      "source": [
        "def torres_hanoy(N, desde, hasta):\n",
        "  if N == 1:\n",
        "    print(\"Llevamos desde \", desde, \"hasta\",hasta)\n",
        "  else:\n",
        "    torres_hanoy(N-1, desde, 6-desde-hasta)\n",
        "    print(\"Llevamos desde \", desde, \"hasta\",hasta)\n",
        "    torres_hanoy(N-1, 6-desde-hasta, hasta)\n",
        "\n",
        "torres_hanoy(4,1, 3)\n",
        "\n"
      ],
      "execution_count": 0,
      "outputs": [
        {
          "output_type": "stream",
          "text": [
            "Llevamos desde  1 hasta 2\n",
            "Llevamos desde  1 hasta 3\n",
            "Llevamos desde  2 hasta 3\n",
            "Llevamos desde  1 hasta 2\n",
            "Llevamos desde  3 hasta 1\n",
            "Llevamos desde  3 hasta 2\n",
            "Llevamos desde  1 hasta 2\n",
            "Llevamos desde  1 hasta 3\n",
            "Llevamos desde  2 hasta 3\n",
            "Llevamos desde  2 hasta 1\n",
            "Llevamos desde  3 hasta 1\n",
            "Llevamos desde  2 hasta 3\n",
            "Llevamos desde  1 hasta 2\n",
            "Llevamos desde  1 hasta 3\n",
            "Llevamos desde  2 hasta 3\n"
          ],
          "name": "stdout"
        }
      ]
    },
    {
      "cell_type": "code",
      "metadata": {
        "id": "NIqSITr8p5wc",
        "colab_type": "code",
        "colab": {}
      },
      "source": [
        "def reinas(solucion, etapa):\n",
        "  #print('ETAPA ',etapa)\n",
        "  for i in range(1, len(solucion)+1):\n",
        "      solucion[etapa] = i\n",
        "      #print(solucion)\n",
        "      if es_prometedora(solucion[:etapa+1]):\n",
        "        if etapa == len(solucion) -1:\n",
        "          print(\"La solucion es\",solucion)\n",
        "        else:\n",
        "          #print(\"Es prometedora\")\n",
        "          reinas(solucion, etapa+1)\n",
        "  solucion[etapa] = 0\n",
        "\n",
        "def es_prometedora(solucion):\n",
        "  #print(\"Compruebo:\", solucion,'->' ,set(solucion))\n",
        "  if len(set(solucion)) != len(solucion):\n",
        "    return False\n",
        "  for i in range(len(solucion)-1):\n",
        "    if abs(i-(i+1)) == abs(solucion[i]-solucion[i+1]):\n",
        "      return False\n",
        "  return True\n",
        "\n",
        "\n"
      ],
      "execution_count": 0,
      "outputs": []
    },
    {
      "cell_type": "code",
      "metadata": {
        "id": "xOidf5UW3aio",
        "colab_type": "code",
        "outputId": "bf573ee1-3ac3-4220-adf0-94c99d7d76fc",
        "colab": {
          "base_uri": "https://localhost:8080/",
          "height": 289
        }
      },
      "source": [
        "solucion = [0,0,0,0]\n",
        "etapa = 0\n",
        "reinas(solucion, etapa)"
      ],
      "execution_count": 0,
      "outputs": [
        {
          "output_type": "stream",
          "text": [
            "Vuelvo aqui\n",
            "Vuelvo aqui\n",
            "Vuelvo aqui\n",
            "Vuelvo aqui\n",
            "La solucion es [2, 4, 1, 3]\n",
            "Vuelvo aqui\n",
            "Vuelvo aqui\n",
            "Vuelvo aqui\n",
            "La solucion es [3, 1, 4, 2]\n",
            "Vuelvo aqui\n",
            "Vuelvo aqui\n",
            "Vuelvo aqui\n",
            "Vuelvo aqui\n",
            "Vuelvo aqui\n",
            "Vuelvo aqui\n",
            "Vuelvo aqui\n"
          ],
          "name": "stdout"
        }
      ]
    },
    {
      "cell_type": "code",
      "metadata": {
        "id": "_FGLPiLZ3knm",
        "colab_type": "code",
        "outputId": "c2548e86-89b3-490b-8aa5-ff893dbd92e3",
        "colab": {
          "base_uri": "https://localhost:8080/",
          "height": 34
        }
      },
      "source": [
        "solucion"
      ],
      "execution_count": 0,
      "outputs": [
        {
          "output_type": "execute_result",
          "data": {
            "text/plain": [
              "[4, 0, 0, 0]"
            ]
          },
          "metadata": {
            "tags": []
          },
          "execution_count": 30
        }
      ]
    },
    {
      "cell_type": "code",
      "metadata": {
        "id": "SrCdp9Uz3qPN",
        "colab_type": "code",
        "colab": {}
      },
      "source": [
        ""
      ],
      "execution_count": 0,
      "outputs": []
    },
    {
      "cell_type": "markdown",
      "metadata": {
        "id": "h3wtdSwG319n",
        "colab_type": "text"
      },
      "source": [
        "Puntos mas cercanos"
      ]
    },
    {
      "cell_type": "code",
      "metadata": {
        "id": "_CNYTS4o33oT",
        "colab_type": "code",
        "colab": {}
      },
      "source": [
        "import random\n",
        "ptos_1d = list(set([random.randrange(1,10000) for _ in range (1000)]))\n",
        "ptos_2d = [[random.randrange(1,10000), random.randrange(1,10000)] for _ in range (1000)]"
      ],
      "execution_count": 0,
      "outputs": []
    },
    {
      "cell_type": "code",
      "metadata": {
        "id": "Stg760hz4_FJ",
        "colab_type": "code",
        "colab": {}
      },
      "source": [
        "import math\n",
        "def distance_1d(pto1, pto2):\n",
        "    return abs(pto1-pto2)\n",
        "    \n",
        "def distance_2d(pto1, pto2):\n",
        "    return math.sqrt((pto2[0]-pto1[0])**2 + (pto2[1]-pto1[1])**2)"
      ],
      "execution_count": 0,
      "outputs": []
    },
    {
      "cell_type": "code",
      "metadata": {
        "id": "RdYaH2Or_TJF",
        "colab_type": "code",
        "colab": {}
      },
      "source": [
        "def brute_force(ptos, get_distance):\n",
        "    #complejidad: n^2\n",
        "    ptos_mas_cercanos = [-1,-1]\n",
        "    distance = 10000\n",
        "    for i in range(len(ptos)):\n",
        "        for j in range(i+1, len(ptos)):\n",
        "            if get_distance(ptos[i], ptos[j]) < distance:\n",
        "                ptos_mas_cercanos[0] = ptos[i]\n",
        "                ptos_mas_cercanos[1] = ptos[j]\n",
        "                distance = get_distance(ptos[i], ptos[j])\n",
        "\n",
        "    print(\"Los puntos mas cercanos son \", ptos_mas_cercanos, \"con una distancia de \", distance)\n"
      ],
      "execution_count": 0,
      "outputs": []
    },
    {
      "cell_type": "code",
      "metadata": {
        "id": "LMCDXrQxDfZV",
        "colab_type": "code",
        "colab": {}
      },
      "source": [
        "def divide_and_conquer(ptos, get_distance):\n",
        "    "
      ],
      "execution_count": 0,
      "outputs": []
    },
    {
      "cell_type": "code",
      "metadata": {
        "id": "7mIo93XsAQL-",
        "colab_type": "code",
        "colab": {
          "base_uri": "https://localhost:8080/",
          "height": 34
        },
        "outputId": "60a0f3e3-93b5-4aca-b16b-d93c76f362b9"
      },
      "source": [
        "brute_force(ptos_2d, distance_2d)"
      ],
      "execution_count": 22,
      "outputs": [
        {
          "output_type": "stream",
          "text": [
            "Los puntos mas cercanos son  [[2812, 9743], [2812, 9735]] con una distancia de  8.0\n"
          ],
          "name": "stdout"
        }
      ]
    },
    {
      "cell_type": "code",
      "metadata": {
        "id": "Y8mYu30UBIeI",
        "colab_type": "code",
        "colab": {}
      },
      "source": [
        ""
      ],
      "execution_count": 0,
      "outputs": []
    }
  ]
}