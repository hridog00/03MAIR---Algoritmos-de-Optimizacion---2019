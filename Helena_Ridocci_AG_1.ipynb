{
  "nbformat": 4,
  "nbformat_minor": 0,
  "metadata": {
    "colab": {
      "name": "Helena Ridocci AG-1.ipynb",
      "provenance": [],
      "include_colab_link": true
    },
    "kernelspec": {
      "name": "python3",
      "display_name": "Python 3"
    }
  },
  "cells": [
    {
      "cell_type": "markdown",
      "metadata": {
        "id": "view-in-github",
        "colab_type": "text"
      },
      "source": [
        "<a href=\"https://colab.research.google.com/github/hridog00/03MAIR---Algoritmos-de-Optimizacion---2019/blob/master/Helena_Ridocci_AG_1.ipynb\" target=\"_parent\"><img src=\"https://colab.research.google.com/assets/colab-badge.svg\" alt=\"Open In Colab\"/></a>"
      ]
    },
    {
      "cell_type": "markdown",
      "metadata": {
        "id": "ohXMuh-Tjeuq",
        "colab_type": "text"
      },
      "source": [
        "Actividad Guiada 1 de Algoritmos de Optimización\n",
        "\n",
        "Helena Ridocci\n",
        "\n",
        "https://colab.research.google.com/drive/1aklXg7M39eBs_BhCqO459aT_2mKp0SIL\n",
        "\n",
        "https://github.com/hridog00/03MAIR---Algoritmos-de-Optimizacion---2019\n"
      ]
    },
    {
      "cell_type": "markdown",
      "metadata": {
        "id": "uV7SdqZljNTV",
        "colab_type": "text"
      },
      "source": [
        "Algoritmo voraz"
      ]
    },
    {
      "cell_type": "code",
      "metadata": {
        "id": "Rj8t5IRTju2W",
        "colab_type": "code",
        "colab": {}
      },
      "source": [
        "def algortimo_voraz(sistema, valor):\n",
        "  sistema.sort()\n",
        "  solucion = []\n",
        "  while sum(solucion) != valor and len(sistema)>0:\n",
        "    if sum(solucion) + sistema[-1] <= valor:\n",
        "      solucion.append(sistema[-1])\n",
        "    else:\n",
        "      sistema = sistema[:-1]\n",
        "  if sum(solucion) == valor:\n",
        "    return solucion\n",
        "  else:\n",
        "    print(\"No se puede devolver la cantidad introducida con el sistema monetario disponible\")\n",
        "\n",
        "\n",
        "\n"
      ],
      "execution_count": 0,
      "outputs": []
    },
    {
      "cell_type": "code",
      "metadata": {
        "id": "88wjMs7Wmqen",
        "colab_type": "code",
        "colab": {
          "base_uri": "https://localhost:8080/",
          "height": 34
        },
        "outputId": "f8c5c84c-10ca-449b-b3c4-dee97f9af0c7"
      },
      "source": [
        "sistema = [0.1,0.2, 0.5, 1,2,5,10, 20, 50, 100, 200]\n",
        "algortimo_voraz(sistema, 8)"
      ],
      "execution_count": 22,
      "outputs": [
        {
          "output_type": "execute_result",
          "data": {
            "text/plain": [
              "[5, 2, 1]"
            ]
          },
          "metadata": {
            "tags": []
          },
          "execution_count": 22
        }
      ]
    },
    {
      "cell_type": "code",
      "metadata": {
        "id": "_pS8-a6pmsJb",
        "colab_type": "code",
        "colab": {}
      },
      "source": [
        "sistema.sort()"
      ],
      "execution_count": 0,
      "outputs": []
    },
    {
      "cell_type": "code",
      "metadata": {
        "id": "Hs73pxh3p4t0",
        "colab_type": "code",
        "colab": {
          "base_uri": "https://localhost:8080/",
          "height": 34
        },
        "outputId": "f0628d2f-5814-400f-f117-f1cb850a9f22"
      },
      "source": [
        "sistema"
      ],
      "execution_count": 24,
      "outputs": [
        {
          "output_type": "execute_result",
          "data": {
            "text/plain": [
              "[0.1, 0.2, 0.5, 1, 2, 5, 10, 20, 30, 50, 100, 200]"
            ]
          },
          "metadata": {
            "tags": []
          },
          "execution_count": 24
        }
      ]
    },
    {
      "cell_type": "code",
      "metadata": {
        "id": "NIqSITr8p5wc",
        "colab_type": "code",
        "colab": {}
      },
      "source": [
        ""
      ],
      "execution_count": 0,
      "outputs": []
    }
  ]
}