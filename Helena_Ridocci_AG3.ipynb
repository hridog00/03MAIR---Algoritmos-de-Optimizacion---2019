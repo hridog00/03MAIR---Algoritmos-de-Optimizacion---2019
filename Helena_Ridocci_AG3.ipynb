{
  "nbformat": 4,
  "nbformat_minor": 0,
  "metadata": {
    "colab": {
      "name": "Helena Ridocci - AG3",
      "provenance": [],
      "authorship_tag": "ABX9TyN/C5tkW45L0qNAoLg5GZpr",
      "include_colab_link": true
    },
    "kernelspec": {
      "name": "python3",
      "display_name": "Python 3"
    }
  },
  "cells": [
    {
      "cell_type": "markdown",
      "metadata": {
        "id": "view-in-github",
        "colab_type": "text"
      },
      "source": [
        "<a href=\"https://colab.research.google.com/github/hridog00/03MAIR---Algoritmos-de-Optimizacion---2019/blob/master/Helena_Ridocci_AG3.ipynb\" target=\"_parent\"><img src=\"https://colab.research.google.com/assets/colab-badge.svg\" alt=\"Open In Colab\"/></a>"
      ]
    },
    {
      "cell_type": "markdown",
      "metadata": {
        "id": "DSCwrEC1fB__",
        "colab_type": "text"
      },
      "source": [
        "Actividad Guiada 3 - AG3 <br>\n",
        "Helena Ridocci <br>\n",
        "URL: https://colab.research.google.com/drive/17EkhzI3aWrAMJboz3GAua69-x9Bkbp2E"
      ]
    },
    {
      "cell_type": "code",
      "metadata": {
        "id": "WoW0jk-bgXUj",
        "colab_type": "code",
        "colab": {}
      },
      "source": [
        "!pip install requests\n",
        "!pip install tsplib95"
      ],
      "execution_count": 0,
      "outputs": []
    },
    {
      "cell_type": "code",
      "metadata": {
        "id": "pw_Awmb1bLCZ",
        "colab_type": "code",
        "outputId": "268f9cdb-379d-4acd-8965-d4465583b203",
        "colab": {
          "base_uri": "https://localhost:8080/",
          "height": 35
        }
      },
      "source": [
        "import urllib.request\n",
        "\n",
        "file = \"swiss42.tsp\"\n",
        "\n",
        "urllib.request.urlretrieve(\"http://elib.zib.de/pub/mp-testdata/tsp/tsplib/tsp/swiss42.tsp\", file)"
      ],
      "execution_count": 0,
      "outputs": [
        {
          "output_type": "execute_result",
          "data": {
            "text/plain": [
              "('swiss42.tsp', <http.client.HTTPMessage at 0x7fa1ab3686a0>)"
            ]
          },
          "metadata": {
            "tags": []
          },
          "execution_count": 2
        }
      ]
    },
    {
      "cell_type": "code",
      "metadata": {
        "id": "ErEDtdYfgMHO",
        "colab_type": "code",
        "colab": {}
      },
      "source": [
        "import random\n",
        "import tsplib95\n",
        "import math "
      ],
      "execution_count": 0,
      "outputs": []
    },
    {
      "cell_type": "code",
      "metadata": {
        "id": "0mTFTaYJhdJM",
        "colab_type": "code",
        "colab": {}
      },
      "source": [
        "problem = tsplib95.load_problem(file)"
      ],
      "execution_count": 0,
      "outputs": []
    },
    {
      "cell_type": "code",
      "metadata": {
        "id": "Pxqyjs5Ehnbd",
        "colab_type": "code",
        "colab": {}
      },
      "source": [
        "nodos = list(problem.get_nodes())\n",
        "edges = list(problem.get_edges())"
      ],
      "execution_count": 0,
      "outputs": []
    },
    {
      "cell_type": "code",
      "metadata": {
        "id": "aKUU__rChs0s",
        "colab_type": "code",
        "outputId": "603b46ea-baa8-440a-b2f9-3f83142abb5a",
        "colab": {
          "base_uri": "https://localhost:8080/",
          "height": 35
        }
      },
      "source": [
        "print('Numero de ciudades :', len(nodos))"
      ],
      "execution_count": 0,
      "outputs": [
        {
          "output_type": "stream",
          "text": [
            "Numero de ciudades : 42\n"
          ],
          "name": "stdout"
        }
      ]
    },
    {
      "cell_type": "code",
      "metadata": {
        "id": "DtTDox-5yVoV",
        "colab_type": "code",
        "outputId": "4fae6c93-f019-496f-9513-27eafefd0938",
        "colab": {
          "base_uri": "https://localhost:8080/",
          "height": 35
        }
      },
      "source": [
        "type(nodos)"
      ],
      "execution_count": 0,
      "outputs": [
        {
          "output_type": "execute_result",
          "data": {
            "text/plain": [
              "list"
            ]
          },
          "metadata": {
            "tags": []
          },
          "execution_count": 14
        }
      ]
    },
    {
      "cell_type": "code",
      "metadata": {
        "id": "EjAOLHBwh-V4",
        "colab_type": "code",
        "colab": {}
      },
      "source": [
        "#Se genera una solucion aleatoria con comienzo en en el nodo 0\n",
        "def crear_solucion(Nodos): \n",
        "  solucion = [0]\n",
        "  for i in range(len(Nodos)-1):\n",
        "    solucion = solucion + [random.choice(list(set(Nodos) - set(solucion)))]\n",
        "  return solucion\n",
        "\n",
        "#Devuelve la distancia entre dos nodos\n",
        "def distancia(a,b, problem):\n",
        "  return problem.wfunc(a,b)\n",
        "\n",
        "#Devuelve la distancia total de una trayectoria\n",
        "def distancia_total(solucion, problem):\n",
        "  distancia_total = 0\n",
        "  for i in range(len(solucion)-1):\n",
        "    distancia_total += distancia(solucion[i] ,solucion[i+1] ,  problem)\n",
        "  return distancia_total + distancia(solucion[len(solucion)-1] ,solucion[0], problem)"
      ],
      "execution_count": 0,
      "outputs": []
    },
    {
      "cell_type": "code",
      "metadata": {
        "id": "gNF9O9CLjsNJ",
        "colab_type": "code",
        "outputId": "4a23e85f-50d5-4d5b-dc3a-4aacbed74011",
        "colab": {
          "base_uri": "https://localhost:8080/",
          "height": 35
        }
      },
      "source": [
        "solucion = crear_solucion(nodos)\n",
        "distancia_total(solucion,problem)"
      ],
      "execution_count": 0,
      "outputs": [
        {
          "output_type": "execute_result",
          "data": {
            "text/plain": [
              "5164"
            ]
          },
          "metadata": {
            "tags": []
          },
          "execution_count": 9
        }
      ]
    },
    {
      "cell_type": "markdown",
      "metadata": {
        "id": "mVtZH5cKlkdq",
        "colab_type": "text"
      },
      "source": [
        "Busqueda aleatoria"
      ]
    },
    {
      "cell_type": "code",
      "metadata": {
        "id": "BqjXCWlLj152",
        "colab_type": "code",
        "outputId": "23015769-6d4c-47e9-dbe8-ff1391618cf3",
        "colab": {
          "base_uri": "https://localhost:8080/",
          "height": 34
        }
      },
      "source": [
        "def busqueda_aleatoria(problem, N):\n",
        "  mejor_solucion = crear_solucion(nodos)\n",
        "  mejor_valor    = distancia_total(mejor_solucion, problem)\n",
        "\n",
        "  for i in range(N):\n",
        "      solucion = crear_solucion(nodos)\n",
        "      valor    = distancia_total(solucion, problem)\n",
        "      if valor < mejor_valor:\n",
        "        mejor_solucion = solucion\n",
        "        mejor_valor = valor\n",
        "\n",
        "  print(\"La mejor solucion es \",mejor_valor,  mejor_solucion)\n",
        "   \n",
        "busqueda_aleatoria(problem, 1000)"
      ],
      "execution_count": 0,
      "outputs": [
        {
          "output_type": "stream",
          "text": [
            "La mejor solucion es  3719 [0, 2, 1, 4, 10, 20, 33, 17, 31, 22, 12, 27, 19, 30, 38, 39, 21, 23, 28, 32, 34, 35, 16, 18, 40, 8, 29, 5, 14, 41, 11, 24, 9, 3, 7, 13, 15, 25, 37, 36, 6, 26]\n"
          ],
          "name": "stdout"
        }
      ]
    },
    {
      "cell_type": "markdown",
      "metadata": {
        "id": "pNnPT34_l2xY",
        "colab_type": "text"
      },
      "source": [
        "Busqueda local\n"
      ]
    },
    {
      "cell_type": "code",
      "metadata": {
        "id": "l6_1ot6RmKiO",
        "colab_type": "code",
        "colab": {}
      },
      "source": [
        "def genera_vecina(solucion):\n",
        "  #Generador de soluciones vecinas: 2-opt (intercambiar 2 nodos) Si hay N nodos se generan (N-1)x(N-2)/2 soluciones\n",
        "  #print(solucion)\n",
        "  mejor_solucion = []\n",
        "  mejor_distancia = 10e100\n",
        "  for i in range(1,len(solucion)-1):\n",
        "    for j in range(i+1, len(solucion)):\n",
        "      vecina = solucion[:i] + [solucion[j]] + solucion[i+1:j] + [solucion[i]] + solucion[j+1:] \n",
        "      distancia_vecina = distancia_total(vecina, problem)\n",
        "      if distancia_vecina <= mejor_distancia:\n",
        "        mejor_distancia = distancia_vecina\n",
        "        mejor_solucion = vecina\n",
        "  #print(mejor_distancia, mejor_solucion)\n",
        "  return mejor_solucion\n",
        "      \n",
        "solucion = crear_solucion(nodos)\n",
        "mejor_solucion = genera_vecina(solucion)\n"
      ],
      "execution_count": 0,
      "outputs": []
    },
    {
      "cell_type": "code",
      "metadata": {
        "id": "uldzD2zAlRMZ",
        "colab_type": "code",
        "outputId": "46223b0f-86ef-4dda-8606-76db587f3ac4",
        "colab": {
          "base_uri": "https://localhost:8080/",
          "height": 34
        }
      },
      "source": [
        "def busqueda_local(problem, N):\n",
        "  #problem = datos del problema\n",
        "  #N = numero de iteraciones\n",
        "  \n",
        "    mejor_solucion = []\n",
        "    mejor_distancia = 10e100\n",
        "  \n",
        "    solucion_referencia = crear_solucion(nodos)\n",
        "  \n",
        "    for i in range(N):\n",
        "        vecina = genera_vecina(solucion_referencia)\n",
        "        distancia_vecina = distancia_total(vecina, problem)\n",
        "        if distancia_vecina <= mejor_distancia:\n",
        "            mejor_solucion = vecina\n",
        "            mejor_distancia = distancia_vecina\n",
        "        \n",
        "        solucion_referencia = vecina\n",
        "    print(\"La mejor solución encontrada es \" , mejor_distancia , mejor_solucion)\n",
        "    return mejor_solucion\n",
        "mejor_solucion = busqueda_local(problem, 100)"
      ],
      "execution_count": 0,
      "outputs": [
        {
          "output_type": "stream",
          "text": [
            "La mejor solución encontrada es  1615 [0, 31, 17, 36, 35, 20, 33, 34, 32, 18, 12, 11, 10, 8, 29, 2, 27, 1, 14, 16, 15, 37, 7, 28, 30, 38, 22, 39, 24, 40, 21, 9, 23, 41, 25, 13, 19, 5, 26, 6, 4, 3]\n"
          ],
          "name": "stdout"
        }
      ]
    },
    {
      "cell_type": "code",
      "metadata": {
        "id": "qCeFI3cLrMM1",
        "colab_type": "code",
        "colab": {}
      },
      "source": [
        ""
      ],
      "execution_count": 0,
      "outputs": []
    },
    {
      "cell_type": "markdown",
      "metadata": {
        "id": "6MAJGHltrMjG",
        "colab_type": "text"
      },
      "source": [
        "Rcorrido simulado"
      ]
    },
    {
      "cell_type": "code",
      "metadata": {
        "id": "VxqIokCknz9H",
        "colab_type": "code",
        "colab": {}
      },
      "source": [
        "def genera_vecina_aleatorio(solucion):\n",
        "  #Generador de 1 solucion vecina 2-opt (intercambiar 2 nodos)\n",
        "  #Se puede mejorar haciendo que la elección no se uniforme sino entre las que estén más proximas\n",
        "  i = random.choice(range(1, len(solucion)) )\n",
        "  j = random.choice(list(set(range(1, len(solucion))) - {i}))\n",
        "  if j<i:\n",
        "    i,j=j,i\n",
        "  vecina = list(solucion[:i] + [solucion[j]] + solucion[i+1:j] + [solucion[i]] + solucion[j+1:])\n",
        "  return vecina"
      ],
      "execution_count": 0,
      "outputs": []
    },
    {
      "cell_type": "code",
      "metadata": {
        "id": "cK-J2yvxph6K",
        "colab_type": "code",
        "outputId": "e3a3025e-adbb-4f1a-f31b-931c41b0e324",
        "colab": {
          "base_uri": "https://localhost:8080/",
          "height": 1000
        }
      },
      "source": [
        "#Funcion de probabilidad para determinar si se cambia \n",
        "#    a una solución peor respecto a la de referencia(exponencial)\n",
        "def probabilidad(T,d):\n",
        "  if random.random() <= math.exp(-1*d / T)   :\n",
        "    return True\n",
        "  else:\n",
        "    return False\n",
        "\n",
        "\n",
        "def bajar_temperatura(T):\n",
        "  return T*.9999\n",
        "\n",
        "#####################################################################\n",
        "def recocido_simulado(problem, TEMPERATURA=1000):\n",
        "  #problem = datos del problema\n",
        "\n",
        "  solucion_referencia = crear_solucion(nodos)\n",
        "  distancia_referencia = distancia_total(solucion_referencia, problem)\n",
        "  \n",
        "  mejor_solucion = []\n",
        "  mejor_distancia = 10e100\n",
        "\n",
        "  while TEMPERATURA > 1:\n",
        "    #Genera una solución vecina(aleatoria)\n",
        "    vecina = genera_vecina_aleatorio(solucion_referencia) \n",
        "    \n",
        "    #Calcula su valor(distancia)\n",
        "    distancia_vecina = distancia_total(vecina, problem)\n",
        "    \n",
        "    #Si es la mejor solución de todas se guarda\n",
        "    if distancia_vecina < mejor_distancia:\n",
        "      mejor_solucion = vecina\n",
        "      mejor_distancia = distancia_vecina\n",
        "      print('\\t****Encontrada mejor solucion:', mejor_distancia , mejor_solucion, '\\n')\n",
        "    \n",
        "    #Si la nueva vecina es mejor se cambia y si es peor se cambia según \n",
        "    # una probabilidad dependiente de T y de |distancia_referencia - distancia_vecina|\n",
        "    p = probabilidad(TEMPERATURA, abs(distancia_referencia - distancia_vecina) )\n",
        "    if distancia_vecina < distancia_referencia or p :\n",
        "      solucion_referencia = vecina\n",
        "      distancia_referencia = distancia_vecina\n",
        "    \n",
        "    TEMPERATURA = bajar_temperatura(TEMPERATURA)\n",
        "\n",
        "  print(\"La mejor solución encontrada es :\" , mejor_distancia, mejor_solucion  )\n",
        "  return mejor_solucion\n",
        "\n",
        "sol = recocido_simulado(problem, TEMPERATURA=100000)"
      ],
      "execution_count": 0,
      "outputs": [
        {
          "output_type": "stream",
          "text": [
            "\t****Encontrada mejor solucion: 4970 [0, 33, 34, 13, 27, 12, 40, 20, 4, 8, 41, 19, 2, 31, 5, 29, 22, 37, 23, 28, 7, 16, 18, 38, 14, 15, 35, 25, 17, 21, 10, 3, 24, 32, 6, 9, 39, 1, 11, 26, 30, 36] \n",
            "\n",
            "\t****Encontrada mejor solucion: 4872 [0, 33, 34, 35, 27, 12, 40, 20, 9, 8, 41, 19, 2, 31, 5, 29, 22, 37, 23, 28, 7, 16, 18, 38, 14, 15, 4, 25, 17, 21, 10, 3, 24, 32, 6, 13, 39, 1, 11, 26, 30, 36] \n",
            "\n",
            "\t****Encontrada mejor solucion: 4824 [0, 33, 34, 35, 27, 12, 40, 20, 9, 8, 41, 19, 2, 31, 5, 29, 22, 37, 23, 36, 7, 16, 18, 38, 14, 15, 4, 25, 17, 21, 10, 3, 24, 32, 6, 13, 39, 1, 11, 26, 30, 28] \n",
            "\n",
            "\t****Encontrada mejor solucion: 4763 [0, 33, 34, 35, 27, 12, 40, 20, 9, 8, 41, 19, 2, 31, 5, 29, 22, 37, 23, 36, 7, 16, 18, 38, 14, 11, 4, 25, 15, 21, 10, 3, 24, 32, 6, 13, 26, 1, 17, 39, 30, 28] \n",
            "\n",
            "\t****Encontrada mejor solucion: 4651 [0, 33, 34, 35, 27, 12, 40, 20, 23, 8, 29, 19, 2, 31, 38, 41, 22, 37, 9, 36, 16, 7, 18, 5, 14, 11, 4, 25, 15, 21, 10, 6, 24, 32, 3, 13, 26, 1, 17, 28, 30, 39] \n",
            "\n",
            "\t****Encontrada mejor solucion: 4542 [0, 33, 34, 35, 27, 12, 40, 20, 23, 8, 29, 18, 2, 31, 38, 41, 22, 37, 9, 36, 16, 7, 19, 5, 14, 11, 4, 25, 15, 21, 10, 6, 24, 32, 3, 13, 26, 1, 17, 28, 30, 39] \n",
            "\n",
            "\t****Encontrada mejor solucion: 4365 [0, 33, 34, 35, 27, 12, 40, 20, 23, 8, 29, 18, 37, 31, 38, 41, 22, 2, 9, 36, 16, 7, 19, 5, 14, 11, 4, 25, 15, 21, 10, 6, 24, 32, 3, 13, 26, 1, 17, 28, 30, 39] \n",
            "\n",
            "\t****Encontrada mejor solucion: 4333 [0, 33, 34, 35, 27, 12, 40, 20, 10, 8, 29, 18, 37, 31, 38, 41, 22, 2, 9, 36, 16, 7, 19, 5, 14, 11, 4, 25, 15, 21, 23, 6, 24, 32, 3, 13, 26, 1, 17, 28, 30, 39] \n",
            "\n",
            "\t****Encontrada mejor solucion: 4237 [0, 36, 34, 35, 27, 12, 2, 20, 10, 8, 29, 18, 37, 31, 38, 41, 22, 40, 9, 33, 16, 7, 19, 5, 14, 11, 4, 25, 15, 21, 23, 6, 24, 32, 3, 13, 26, 1, 17, 28, 30, 39] \n",
            "\n",
            "\t****Encontrada mejor solucion: 4234 [0, 36, 34, 35, 2, 12, 27, 37, 10, 8, 29, 18, 20, 21, 38, 41, 22, 40, 9, 11, 16, 7, 19, 5, 14, 4, 39, 25, 15, 31, 23, 6, 24, 32, 3, 13, 26, 1, 17, 28, 30, 33] \n",
            "\n",
            "\t****Encontrada mejor solucion: 4197 [0, 36, 34, 35, 2, 12, 27, 37, 10, 8, 29, 18, 20, 24, 38, 41, 22, 40, 9, 11, 16, 7, 19, 5, 14, 4, 39, 25, 15, 31, 23, 6, 21, 32, 3, 13, 26, 1, 17, 28, 30, 33] \n",
            "\n",
            "\t****Encontrada mejor solucion: 4174 [0, 2, 14, 13, 30, 23, 12, 1, 21, 16, 20, 29, 35, 32, 40, 22, 39, 4, 27, 3, 24, 17, 31, 6, 7, 37, 33, 36, 28, 5, 41, 11, 25, 9, 10, 18, 26, 19, 34, 38, 8, 15] \n",
            "\n",
            "\t****Encontrada mejor solucion: 3993 [0, 1, 25, 4, 3, 32, 37, 26, 12, 31, 29, 13, 11, 16, 14, 35, 40, 36, 38, 22, 41, 10, 18, 23, 21, 9, 27, 24, 39, 30, 8, 17, 34, 20, 7, 5, 6, 19, 2, 33, 28, 15] \n",
            "\n",
            "\t****Encontrada mejor solucion: 3962 [0, 1, 25, 4, 3, 13, 37, 26, 19, 31, 29, 32, 11, 16, 14, 35, 40, 36, 38, 22, 41, 10, 18, 23, 21, 9, 27, 24, 39, 30, 8, 17, 34, 20, 7, 5, 6, 12, 2, 33, 28, 15] \n",
            "\n",
            "\t****Encontrada mejor solucion: 3778 [0, 7, 16, 17, 36, 37, 15, 38, 8, 3, 35, 26, 10, 33, 20, 18, 21, 6, 34, 11, 19, 14, 5, 23, 24, 40, 2, 27, 32, 4, 31, 29, 9, 25, 30, 22, 39, 28, 12, 41, 13, 1] \n",
            "\n",
            "\t****Encontrada mejor solucion: 3570 [0, 7, 16, 17, 36, 37, 15, 38, 8, 3, 35, 26, 10, 33, 20, 18, 2, 6, 34, 11, 19, 14, 5, 23, 24, 40, 21, 27, 32, 4, 31, 29, 9, 25, 30, 22, 39, 28, 12, 41, 13, 1] \n",
            "\n",
            "\t****Encontrada mejor solucion: 3537 [0, 5, 14, 18, 26, 4, 7, 3, 27, 20, 28, 29, 38, 6, 17, 35, 36, 31, 23, 40, 24, 21, 39, 25, 33, 34, 9, 22, 10, 37, 41, 8, 15, 13, 30, 2, 11, 16, 1, 32, 12, 19] \n",
            "\n",
            "\t****Encontrada mejor solucion: 3518 [0, 30, 15, 17, 16, 36, 10, 9, 12, 11, 28, 1, 6, 13, 22, 8, 41, 40, 24, 38, 34, 31, 3, 18, 23, 4, 14, 25, 21, 39, 5, 26, 27, 35, 20, 33, 32, 2, 7, 37, 29, 19] \n",
            "\n",
            "\t****Encontrada mejor solucion: 3422 [0, 30, 15, 17, 16, 36, 10, 9, 12, 11, 28, 1, 6, 13, 22, 8, 41, 40, 24, 38, 34, 31, 3, 18, 14, 4, 23, 25, 21, 39, 5, 26, 27, 35, 20, 33, 32, 2, 7, 37, 29, 19] \n",
            "\n",
            "\t****Encontrada mejor solucion: 3179 [0, 33, 34, 30, 29, 38, 32, 17, 35, 36, 12, 23, 41, 9, 10, 1, 14, 7, 4, 18, 11, 20, 19, 5, 13, 15, 8, 28, 3, 25, 27, 31, 16, 21, 40, 24, 39, 22, 2, 6, 37, 26] \n",
            "\n",
            "\t****Encontrada mejor solucion: 3136 [0, 25, 5, 26, 27, 2, 22, 21, 41, 10, 12, 4, 23, 8, 33, 36, 37, 6, 28, 3, 29, 1, 14, 15, 31, 35, 17, 34, 7, 32, 30, 20, 38, 39, 11, 19, 16, 13, 18, 40, 24, 9] \n",
            "\n",
            "\t****Encontrada mejor solucion: 3114 [0, 29, 20, 34, 27, 41, 23, 40, 10, 15, 14, 6, 1, 35, 36, 17, 33, 37, 7, 16, 22, 38, 21, 25, 4, 26, 11, 12, 19, 18, 8, 9, 30, 28, 24, 39, 3, 2, 31, 32, 5, 13] \n",
            "\n",
            "\t****Encontrada mejor solucion: 3097 [0, 29, 20, 34, 27, 41, 23, 40, 10, 15, 14, 6, 1, 35, 36, 17, 33, 37, 7, 16, 22, 38, 24, 25, 4, 26, 11, 12, 19, 18, 8, 9, 30, 28, 21, 39, 3, 2, 31, 32, 5, 13] \n",
            "\n",
            "\t****Encontrada mejor solucion: 3018 [0, 33, 20, 34, 22, 29, 3, 2, 19, 7, 14, 5, 1, 35, 36, 17, 13, 15, 37, 9, 41, 25, 23, 21, 27, 4, 11, 12, 10, 18, 16, 8, 24, 30, 40, 39, 38, 32, 31, 6, 28, 26] \n",
            "\n",
            "\t****Encontrada mejor solucion: 2998 [0, 33, 20, 34, 22, 29, 3, 2, 19, 7, 14, 5, 1, 35, 36, 17, 13, 15, 37, 9, 41, 25, 23, 21, 27, 4, 11, 12, 10, 18, 16, 8, 24, 38, 40, 39, 30, 31, 32, 6, 28, 26] \n",
            "\n",
            "\t****Encontrada mejor solucion: 2992 [0, 27, 29, 22, 25, 11, 5, 36, 17, 31, 2, 14, 15, 18, 19, 30, 10, 41, 8, 3, 39, 24, 9, 21, 40, 23, 35, 37, 26, 4, 28, 38, 33, 20, 34, 32, 6, 12, 13, 7, 16, 1] \n",
            "\n",
            "\t****Encontrada mejor solucion: 2954 [0, 27, 29, 22, 25, 11, 30, 36, 17, 31, 2, 14, 15, 18, 19, 5, 10, 41, 8, 3, 39, 24, 9, 21, 40, 23, 35, 37, 26, 4, 28, 38, 33, 20, 34, 32, 6, 12, 13, 7, 16, 1] \n",
            "\n",
            "\t****Encontrada mejor solucion: 2930 [0, 27, 29, 22, 25, 11, 30, 36, 17, 31, 2, 14, 15, 18, 7, 5, 10, 41, 8, 3, 39, 24, 9, 21, 40, 23, 35, 37, 26, 4, 28, 38, 33, 20, 34, 32, 6, 12, 13, 19, 16, 1] \n",
            "\n",
            "\t****Encontrada mejor solucion: 2822 [0, 27, 29, 9, 25, 41, 30, 36, 17, 19, 2, 31, 35, 37, 16, 5, 10, 11, 8, 3, 39, 24, 22, 21, 40, 23, 15, 18, 26, 4, 28, 38, 33, 20, 34, 32, 6, 12, 13, 14, 7, 1] \n",
            "\n",
            "\t****Encontrada mejor solucion: 2812 [0, 3, 19, 18, 8, 11, 25, 10, 2, 9, 21, 40, 24, 22, 30, 14, 4, 27, 38, 29, 12, 31, 17, 36, 15, 16, 37, 13, 41, 23, 39, 35, 6, 1, 26, 5, 7, 34, 33, 20, 32, 28] \n",
            "\n",
            "\t****Encontrada mejor solucion: 2718 [0, 3, 19, 18, 8, 11, 25, 10, 2, 9, 21, 40, 24, 22, 30, 6, 4, 27, 38, 29, 12, 31, 17, 36, 15, 16, 37, 13, 41, 23, 39, 35, 14, 1, 26, 5, 7, 34, 33, 20, 32, 28] \n",
            "\n",
            "\t****Encontrada mejor solucion: 2691 [0, 2, 25, 41, 9, 13, 7, 17, 31, 26, 14, 16, 19, 37, 1, 3, 28, 20, 15, 5, 4, 32, 27, 30, 10, 8, 6, 18, 33, 36, 35, 34, 38, 22, 24, 40, 21, 39, 23, 11, 12, 29] \n",
            "\n",
            "\t****Encontrada mejor solucion: 2683 [0, 2, 25, 41, 9, 20, 7, 17, 31, 26, 14, 16, 19, 37, 28, 3, 1, 13, 15, 5, 4, 32, 27, 30, 10, 8, 6, 18, 33, 36, 35, 34, 38, 22, 24, 40, 21, 39, 23, 11, 12, 29] \n",
            "\n",
            "\t****Encontrada mejor solucion: 2680 [0, 41, 40, 24, 22, 38, 27, 2, 26, 7, 14, 15, 35, 33, 34, 32, 16, 23, 21, 39, 4, 3, 6, 1, 5, 31, 20, 17, 36, 12, 18, 11, 10, 25, 9, 8, 29, 30, 28, 13, 19, 37] \n",
            "\n",
            "\t****Encontrada mejor solucion: 2675 [0, 41, 40, 24, 22, 38, 27, 4, 26, 7, 14, 15, 35, 31, 34, 20, 32, 23, 21, 39, 6, 3, 2, 1, 5, 16, 33, 17, 36, 12, 18, 11, 10, 25, 9, 8, 29, 30, 28, 13, 19, 37] \n",
            "\n",
            "\t****Encontrada mejor solucion: 2617 [0, 41, 40, 24, 22, 38, 3, 4, 37, 7, 14, 15, 35, 17, 34, 20, 33, 23, 21, 39, 27, 6, 2, 26, 5, 16, 32, 31, 36, 12, 18, 11, 10, 25, 9, 8, 29, 30, 28, 13, 19, 1] \n",
            "\n",
            "\t****Encontrada mejor solucion: 2606 [0, 23, 40, 24, 22, 38, 3, 4, 37, 7, 14, 15, 35, 31, 34, 20, 33, 41, 21, 39, 27, 6, 2, 26, 5, 16, 32, 17, 36, 12, 18, 11, 10, 25, 9, 8, 29, 30, 28, 13, 19, 1] \n",
            "\n",
            "\t****Encontrada mejor solucion: 2543 [0, 11, 40, 24, 22, 27, 3, 16, 14, 15, 7, 37, 35, 36, 34, 33, 20, 38, 21, 39, 41, 30, 13, 18, 2, 28, 32, 17, 31, 12, 23, 9, 10, 25, 29, 8, 4, 6, 26, 5, 19, 1] \n",
            "\n",
            "\t****Encontrada mejor solucion: 2496 [0, 11, 40, 24, 22, 27, 3, 16, 14, 15, 7, 37, 35, 36, 34, 33, 20, 38, 21, 39, 41, 30, 13, 18, 2, 28, 32, 17, 31, 12, 23, 9, 10, 25, 8, 29, 4, 6, 26, 5, 19, 1] \n",
            "\n",
            "\t****Encontrada mejor solucion: 2480 [0, 41, 23, 24, 38, 34, 20, 33, 37, 14, 13, 19, 15, 16, 6, 2, 27, 32, 4, 5, 12, 26, 11, 18, 7, 35, 36, 17, 31, 1, 30, 3, 8, 29, 40, 39, 21, 10, 25, 9, 22, 28] \n",
            "\n",
            "\t****Encontrada mejor solucion: 2469 [0, 30, 3, 26, 5, 7, 4, 35, 36, 15, 14, 19, 10, 18, 6, 1, 32, 9, 41, 25, 27, 2, 11, 12, 13, 16, 37, 17, 31, 33, 20, 34, 28, 29, 8, 40, 21, 39, 23, 38, 22, 24] \n",
            "\n",
            "\t****Encontrada mejor solucion: 2379 [0, 30, 3, 26, 5, 7, 6, 35, 36, 14, 15, 19, 10, 18, 4, 1, 32, 9, 41, 25, 27, 2, 11, 12, 13, 16, 37, 17, 31, 33, 20, 34, 28, 29, 8, 40, 21, 39, 23, 24, 22, 38] \n",
            "\n",
            "\t****Encontrada mejor solucion: 2338 [0, 30, 3, 26, 5, 7, 6, 35, 36, 14, 15, 19, 10, 18, 4, 1, 28, 9, 41, 25, 27, 2, 11, 12, 13, 16, 37, 17, 31, 33, 20, 34, 32, 29, 8, 40, 21, 39, 23, 24, 22, 38] \n",
            "\n",
            "\t****Encontrada mejor solucion: 2333 [0, 11, 12, 1, 7, 17, 31, 35, 36, 20, 15, 5, 26, 18, 25, 41, 8, 29, 30, 9, 32, 3, 13, 19, 37, 14, 16, 6, 2, 4, 28, 34, 33, 38, 39, 24, 40, 21, 10, 23, 22, 27] \n",
            "\n",
            "\t****Encontrada mejor solucion: 2320 [0, 2, 27, 4, 29, 28, 31, 35, 36, 17, 26, 18, 11, 12, 3, 25, 21, 40, 24, 5, 6, 15, 14, 37, 7, 16, 19, 1, 32, 13, 10, 8, 41, 23, 9, 39, 22, 30, 38, 20, 33, 34] \n",
            "\n",
            "\t****Encontrada mejor solucion: 2316 [0, 2, 27, 4, 29, 28, 31, 35, 36, 17, 13, 18, 11, 12, 3, 25, 21, 40, 9, 5, 26, 15, 37, 14, 7, 16, 19, 1, 32, 6, 10, 8, 41, 23, 24, 39, 22, 30, 38, 20, 33, 34] \n",
            "\n",
            "\t****Encontrada mejor solucion: 2299 [0, 2, 27, 4, 29, 28, 31, 35, 36, 17, 3, 18, 11, 12, 13, 25, 21, 40, 9, 5, 26, 15, 37, 14, 7, 16, 19, 1, 32, 6, 10, 8, 41, 23, 24, 39, 22, 30, 38, 20, 33, 34] \n",
            "\n",
            "\t****Encontrada mejor solucion: 2282 [0, 2, 27, 4, 29, 28, 31, 35, 36, 17, 3, 13, 11, 12, 18, 25, 21, 40, 9, 5, 26, 16, 37, 14, 7, 15, 19, 1, 32, 6, 10, 8, 41, 23, 24, 39, 22, 30, 38, 20, 33, 34] \n",
            "\n",
            "\t****Encontrada mejor solucion: 2277 [0, 32, 27, 4, 29, 28, 31, 35, 36, 17, 3, 13, 11, 12, 18, 25, 21, 40, 9, 5, 26, 16, 37, 14, 7, 15, 19, 1, 2, 6, 10, 8, 41, 23, 24, 39, 22, 30, 38, 20, 33, 34] \n",
            "\n",
            "\t****Encontrada mejor solucion: 2210 [0, 32, 27, 28, 4, 29, 17, 31, 36, 35, 3, 18, 12, 11, 25, 10, 21, 40, 9, 2, 19, 14, 37, 15, 7, 16, 1, 6, 26, 5, 13, 8, 41, 23, 24, 39, 22, 30, 38, 20, 33, 34] \n",
            "\n",
            "\t****Encontrada mejor solucion: 2158 [0, 32, 27, 28, 4, 29, 17, 31, 36, 35, 3, 18, 12, 11, 25, 10, 21, 40, 9, 2, 19, 14, 16, 15, 7, 37, 1, 6, 26, 5, 13, 8, 41, 23, 24, 39, 22, 30, 38, 20, 33, 34] \n",
            "\n",
            "\t****Encontrada mejor solucion: 2130 [0, 3, 27, 28, 4, 29, 17, 31, 36, 35, 32, 18, 12, 11, 25, 10, 21, 40, 9, 2, 19, 14, 16, 15, 7, 37, 1, 6, 26, 5, 13, 8, 41, 23, 24, 39, 22, 30, 38, 20, 33, 34] \n",
            "\n",
            "\t****Encontrada mejor solucion: 2114 [0, 3, 27, 28, 4, 29, 17, 31, 36, 35, 32, 2, 12, 11, 25, 10, 21, 40, 9, 18, 19, 14, 16, 15, 7, 37, 1, 6, 26, 5, 13, 8, 41, 23, 24, 39, 22, 30, 38, 20, 33, 34] \n",
            "\n",
            "\t****Encontrada mejor solucion: 2112 [0, 2, 28, 3, 1, 27, 6, 31, 35, 36, 37, 15, 14, 8, 41, 23, 9, 30, 4, 18, 5, 26, 32, 17, 7, 16, 19, 13, 12, 11, 25, 10, 29, 22, 40, 39, 21, 24, 38, 20, 34, 33] \n",
            "\n",
            "\t****Encontrada mejor solucion: 2055 [0, 32, 28, 3, 1, 27, 2, 31, 35, 36, 37, 15, 14, 8, 41, 23, 9, 30, 4, 18, 5, 26, 6, 17, 7, 16, 19, 13, 12, 11, 25, 10, 29, 22, 40, 39, 21, 24, 38, 20, 34, 33] \n",
            "\n",
            "\t****Encontrada mejor solucion: 2036 [0, 2, 28, 3, 1, 27, 32, 31, 35, 36, 37, 15, 14, 8, 41, 23, 9, 30, 4, 18, 5, 26, 6, 17, 7, 16, 19, 13, 12, 11, 25, 10, 29, 22, 40, 39, 21, 24, 38, 20, 34, 33] \n",
            "\n",
            "\t****Encontrada mejor solucion: 2018 [0, 2, 28, 3, 1, 27, 32, 31, 35, 36, 37, 15, 14, 8, 41, 23, 9, 30, 4, 18, 5, 26, 6, 17, 7, 16, 19, 13, 12, 11, 25, 10, 29, 22, 40, 39, 21, 24, 38, 20, 33, 34] \n",
            "\n",
            "\t****Encontrada mejor solucion: 2017 [0, 2, 1, 3, 28, 29, 20, 17, 35, 36, 31, 7, 15, 14, 27, 4, 12, 11, 25, 23, 41, 18, 26, 6, 16, 19, 37, 13, 5, 10, 8, 9, 40, 24, 21, 39, 22, 38, 30, 33, 34, 32] \n",
            "\n",
            "\t****Encontrada mejor solucion: 1999 [0, 3, 1, 2, 28, 29, 20, 17, 35, 36, 31, 7, 15, 14, 27, 4, 12, 11, 25, 23, 41, 18, 26, 6, 16, 19, 37, 13, 5, 10, 8, 9, 40, 24, 21, 39, 22, 38, 30, 33, 34, 32] \n",
            "\n",
            "\t****Encontrada mejor solucion: 1944 [0, 3, 1, 2, 28, 29, 20, 17, 35, 36, 31, 7, 15, 14, 27, 4, 12, 11, 25, 23, 41, 18, 26, 6, 13, 19, 37, 16, 5, 10, 8, 9, 40, 24, 21, 39, 22, 38, 30, 33, 34, 32] \n",
            "\n",
            "\t****Encontrada mejor solucion: 1916 [0, 3, 27, 2, 28, 38, 20, 31, 35, 36, 17, 7, 15, 14, 5, 1, 12, 11, 25, 23, 41, 18, 26, 6, 13, 19, 37, 16, 4, 10, 8, 9, 40, 24, 21, 39, 22, 29, 30, 33, 34, 32] \n",
            "\n",
            "\t****Encontrada mejor solucion: 1915 [0, 3, 27, 2, 28, 38, 20, 31, 35, 36, 17, 7, 15, 14, 5, 6, 12, 11, 25, 23, 41, 18, 26, 1, 13, 19, 37, 16, 4, 10, 8, 9, 40, 24, 21, 39, 22, 29, 30, 33, 34, 32] \n",
            "\n",
            "\t****Encontrada mejor solucion: 1907 [0, 3, 27, 2, 28, 38, 20, 31, 35, 36, 17, 7, 15, 14, 5, 6, 12, 11, 25, 23, 41, 18, 26, 16, 13, 19, 37, 1, 4, 10, 8, 9, 40, 24, 21, 39, 22, 29, 30, 33, 34, 32] \n",
            "\n",
            "\t****Encontrada mejor solucion: 1890 [0, 3, 27, 2, 28, 38, 20, 36, 35, 31, 17, 7, 15, 19, 13, 26, 5, 11, 25, 23, 41, 12, 18, 1, 6, 16, 14, 37, 4, 10, 8, 9, 40, 24, 21, 39, 22, 29, 30, 33, 34, 32] \n",
            "\n",
            "\t****Encontrada mejor solucion: 1887 [0, 28, 2, 3, 30, 22, 27, 37, 36, 35, 31, 17, 7, 15, 16, 13, 14, 19, 5, 26, 12, 6, 4, 18, 11, 25, 10, 29, 8, 23, 41, 9, 40, 24, 21, 39, 38, 33, 34, 20, 32, 1] \n",
            "\n",
            "\t****Encontrada mejor solucion: 1871 [0, 28, 2, 27, 30, 22, 3, 37, 36, 35, 31, 17, 7, 15, 16, 13, 14, 19, 5, 26, 12, 6, 4, 18, 11, 25, 10, 29, 8, 23, 41, 9, 40, 24, 21, 39, 38, 33, 34, 20, 32, 1] \n",
            "\n",
            "\t****Encontrada mejor solucion: 1843 [0, 2, 3, 28, 30, 22, 1, 15, 36, 35, 31, 17, 7, 37, 16, 13, 14, 19, 5, 26, 18, 6, 4, 12, 11, 25, 10, 29, 8, 23, 41, 9, 40, 24, 21, 39, 38, 33, 34, 20, 32, 27] \n",
            "\n",
            "\t****Encontrada mejor solucion: 1809 [0, 2, 27, 28, 30, 22, 1, 16, 35, 36, 31, 17, 37, 14, 15, 7, 13, 19, 5, 26, 18, 6, 4, 12, 11, 25, 10, 8, 29, 41, 23, 9, 40, 24, 21, 39, 38, 33, 20, 34, 32, 3] \n",
            "\n",
            "\t****Encontrada mejor solucion: 1712 [0, 2, 27, 28, 30, 22, 1, 7, 35, 36, 31, 17, 37, 14, 15, 16, 13, 19, 5, 26, 18, 6, 4, 12, 11, 25, 10, 8, 29, 41, 9, 23, 40, 24, 21, 39, 38, 33, 20, 34, 32, 3] \n",
            "\n",
            "\t****Encontrada mejor solucion: 1683 [0, 2, 27, 28, 30, 22, 1, 7, 35, 36, 31, 17, 37, 14, 15, 16, 13, 19, 5, 18, 26, 6, 4, 12, 11, 25, 10, 8, 29, 9, 41, 23, 40, 24, 21, 39, 38, 33, 20, 34, 32, 3] \n",
            "\n",
            "\t****Encontrada mejor solucion: 1681 [0, 2, 27, 28, 30, 22, 3, 7, 35, 36, 31, 17, 37, 14, 15, 16, 13, 19, 5, 18, 26, 6, 4, 12, 11, 25, 10, 8, 29, 9, 41, 23, 40, 24, 21, 39, 38, 33, 20, 34, 32, 1] \n",
            "\n",
            "\t****Encontrada mejor solucion: 1667 [0, 34, 33, 20, 28, 27, 3, 7, 31, 35, 36, 17, 37, 15, 16, 14, 19, 13, 6, 5, 26, 1, 4, 8, 9, 10, 12, 11, 18, 25, 41, 23, 21, 24, 40, 39, 22, 38, 30, 29, 2, 32] \n",
            "\n",
            "\t****Encontrada mejor solucion: 1656 [0, 34, 33, 20, 28, 27, 3, 7, 31, 35, 36, 17, 37, 15, 16, 14, 19, 13, 6, 5, 26, 1, 4, 8, 9, 10, 12, 11, 18, 25, 41, 23, 21, 40, 24, 39, 22, 38, 30, 29, 2, 32] \n",
            "\n",
            "\t****Encontrada mejor solucion: 1615 [0, 34, 33, 20, 28, 27, 3, 7, 31, 35, 36, 17, 37, 15, 16, 14, 19, 13, 26, 5, 6, 1, 4, 8, 9, 10, 12, 11, 18, 25, 41, 23, 21, 40, 24, 39, 22, 38, 30, 29, 2, 32] \n",
            "\n",
            "\t****Encontrada mejor solucion: 1608 [0, 32, 20, 33, 34, 1, 3, 7, 17, 31, 35, 36, 37, 15, 14, 16, 19, 13, 5, 26, 6, 4, 2, 27, 8, 23, 41, 10, 18, 12, 11, 25, 40, 24, 21, 39, 38, 22, 9, 29, 30, 28] \n",
            "\n",
            "\t****Encontrada mejor solucion: 1600 [0, 32, 34, 33, 20, 1, 3, 7, 17, 31, 35, 36, 37, 15, 14, 16, 19, 13, 5, 26, 6, 4, 2, 27, 8, 23, 41, 10, 18, 12, 11, 25, 40, 24, 21, 39, 38, 22, 9, 29, 30, 28] \n",
            "\n",
            "\t****Encontrada mejor solucion: 1599 [0, 32, 34, 33, 20, 1, 3, 7, 17, 31, 35, 36, 37, 15, 14, 16, 19, 13, 5, 26, 6, 4, 2, 27, 8, 23, 41, 10, 18, 12, 11, 25, 40, 24, 21, 39, 22, 38, 9, 29, 30, 28] \n",
            "\n",
            "\t****Encontrada mejor solucion: 1566 [0, 32, 34, 33, 20, 6, 1, 7, 17, 31, 35, 36, 37, 15, 16, 14, 19, 13, 5, 26, 4, 3, 30, 8, 9, 23, 41, 10, 18, 12, 11, 25, 40, 24, 21, 39, 38, 22, 29, 28, 2, 27] \n",
            "\n",
            "\t****Encontrada mejor solucion: 1546 [0, 32, 20, 33, 34, 6, 1, 7, 17, 31, 35, 36, 37, 15, 16, 14, 19, 13, 5, 26, 4, 3, 29, 8, 9, 23, 41, 10, 18, 12, 11, 25, 40, 24, 21, 39, 38, 22, 30, 28, 2, 27] \n",
            "\n",
            "\t****Encontrada mejor solucion: 1526 [0, 32, 34, 33, 20, 1, 6, 7, 17, 31, 35, 36, 37, 14, 15, 16, 19, 13, 5, 26, 4, 3, 29, 8, 9, 23, 41, 10, 18, 12, 11, 25, 40, 24, 21, 39, 22, 38, 30, 28, 2, 27] \n",
            "\n",
            "\t****Encontrada mejor solucion: 1523 [0, 32, 34, 33, 20, 1, 6, 7, 17, 31, 35, 36, 37, 16, 15, 14, 19, 13, 5, 26, 4, 27, 29, 8, 9, 23, 41, 10, 18, 12, 11, 25, 40, 24, 21, 39, 22, 38, 30, 28, 2, 3] \n",
            "\n",
            "\t****Encontrada mejor solucion: 1521 [0, 32, 34, 33, 20, 1, 6, 7, 17, 31, 35, 36, 37, 15, 16, 14, 19, 13, 5, 26, 3, 4, 29, 8, 9, 23, 41, 25, 11, 12, 18, 10, 40, 24, 21, 39, 22, 38, 30, 28, 27, 2] \n",
            "\n",
            "\t****Encontrada mejor solucion: 1511 [0, 32, 34, 33, 20, 1, 6, 7, 17, 31, 35, 36, 37, 15, 16, 14, 19, 13, 5, 26, 4, 3, 29, 8, 9, 23, 41, 10, 18, 12, 11, 25, 40, 24, 21, 39, 22, 38, 30, 28, 27, 2] \n",
            "\n",
            "\t****Encontrada mejor solucion: 1507 [0, 32, 34, 33, 20, 1, 6, 7, 17, 31, 35, 36, 37, 15, 16, 14, 19, 13, 5, 26, 4, 2, 29, 8, 9, 23, 41, 10, 18, 12, 11, 25, 40, 24, 21, 39, 22, 38, 30, 28, 27, 3] \n",
            "\n",
            "\t****Encontrada mejor solucion: 1506 [0, 32, 34, 33, 20, 3, 1, 7, 17, 31, 35, 36, 37, 15, 16, 14, 19, 13, 5, 26, 6, 4, 29, 8, 9, 23, 41, 10, 18, 12, 11, 25, 40, 24, 21, 39, 22, 38, 30, 28, 2, 27] \n",
            "\n",
            "La mejor solución encontrada es : 1506 [0, 32, 34, 33, 20, 3, 1, 7, 17, 31, 35, 36, 37, 15, 16, 14, 19, 13, 5, 26, 6, 4, 29, 8, 9, 23, 41, 10, 18, 12, 11, 25, 40, 24, 21, 39, 22, 38, 30, 28, 2, 27]\n"
          ],
          "name": "stdout"
        }
      ]
    },
    {
      "cell_type": "markdown",
      "metadata": {
        "id": "xkzyUb3LrPvJ",
        "colab_type": "text"
      },
      "source": [
        "Colonia de hormigas"
      ]
    },
    {
      "cell_type": "code",
      "metadata": {
        "id": "JEUVd6YAuP4G",
        "colab_type": "code",
        "colab": {}
      },
      "source": [
        "def get_prob(nodos, T,i, j, nodos_sin_visitar, alpha = 0.1, beta=0.5):\n",
        "    if j not in nodos_sin_visitar:\n",
        "        return 0\n",
        "    p = ((T[i][j])**alpha * (1/distancia(i, j, problem))**beta) / sum([ (T[i][l])**alpha * (1/distancia(i, l, problem))**beta for l in nodos_sin_visitar ])\n",
        "    return p"
      ],
      "execution_count": 0,
      "outputs": []
    },
    {
      "cell_type": "code",
      "metadata": {
        "id": "qEiudGLpsArP",
        "colab_type": "code",
        "colab": {}
      },
      "source": [
        "from numpy.random import choice\n",
        "def Add_Nodo(problem, H ,T ) :\n",
        "  #Establecer una una funcion de probabilidad para \n",
        "  # añadir un nuevo nodo dependiendo de los nodos mas cercanos y de las feromonas depositadas\n",
        "  nodos = list(problem.get_nodes())\n",
        "  nodos_sin_visitar = list(set(range(1,len(nodos))) - set(H) )  \n",
        "  p = [get_prob(nodos, T, H[-1], nodo, nodos_sin_visitar) for nodo in nodos]\n",
        "\n",
        "  #return random.choice(   list(set(range(1,len(nodos))) - set(H) )  )\n",
        "  return choice(nodos, p=p)\n",
        "\n",
        "\n",
        "def Incrementa_Feromona(problem, T, H):\n",
        "  #Incrementar segun la calidad de la solución. Añadir una cantidad inversamente proporcional a la distancia total \n",
        "  for i in range(len(H)-1):\n",
        "    T[H[i]][H[i+1]] += 1000/distancia_total(H, problem)\n",
        "  return T\n",
        "\n",
        "def Evaporar_Feromonas(T):\n",
        "  #Podemos elegir diferentes funciones de evaporación dependiendo de la cantidad actual y de la suma total de feromonas depositadas,...\n",
        "  #Evapora 0.3 el valor de la feromona, sin que baje de 1\n",
        "  T = [[ max(T[i][j] - 0.3 , 1) for i in range(len(nodos)) ] for j in range(len(nodos))]\n",
        "  return T "
      ],
      "execution_count": 0,
      "outputs": []
    },
    {
      "cell_type": "code",
      "metadata": {
        "id": "AhEfLCyhq_Lv",
        "colab_type": "code",
        "colab": {}
      },
      "source": [
        "def hormigas(problem, N) :\n",
        "  #problem = datos del problema\n",
        "  #N = Número de agentes(hormigas)\n",
        "    \n",
        "  #Nodos\n",
        "  Nodos = list(problem.get_nodes())\n",
        "    #Aristas\n",
        "  Aristas = list(problem.get_edges()) \n",
        "  \n",
        "  #Inicializa las aristas con una cantidad inicial de feromonas:1\n",
        "  T = [[ 1 for _ in range(len(nodos)) ] for _ in range(len(nodos))]\n",
        "  \n",
        "  #Se generan los agentes(hormigas) que serán estructuras de caminos desde 0\n",
        "  Hormiga = [[0] for _ in range(N)]\n",
        "  #Recorre cada agente construyendo la solución\n",
        "  for h in range(N) :\n",
        "    #print(\"\\nAgente:\", h)\n",
        "    #Para cada agente se construye un camino\n",
        "    for i in range(len(Nodos)-1) :\n",
        "      \n",
        "      #Elige el siguiente nodo\n",
        "      Nuevo_Nodo = Add_Nodo(problem, Hormiga[h] ,T )\n",
        "      \n",
        "      Hormiga[h].append(Nuevo_Nodo)     \n",
        "    \n",
        "    #Incrementa feromonas en esa arista \n",
        "    T = Incrementa_Feromona(problem, T, Hormiga[h] )\n",
        "    #print(\"Feromonas(1)\", T)\n",
        "      \n",
        "    #Evapora Feromonas  \n",
        "    T = Evaporar_Feromonas(T)\n",
        "    #print(\"Feromonas(2)\", T)\n",
        "\n",
        "    #Seleccionamos el mejor agente\n",
        "  mejor_solucion = []\n",
        "  mejor_distancia = 10e100\n",
        "  for h in range(N) :\n",
        "    distancia_actual = distancia_total(Hormiga[h], problem)\n",
        "    if distancia_actual < mejor_distancia:\n",
        "      mejor_solucion = Hormiga[h]\n",
        "      mejor_distancia =distancia_actual\n",
        "  \n",
        "  \n",
        "  print(mejor_solucion)\n",
        "  print('Mejor distancia:',mejor_distancia)\n",
        "  return mejor_distancia"
      ],
      "execution_count": 0,
      "outputs": []
    },
    {
      "cell_type": "code",
      "metadata": {
        "id": "QC3qxYVLtyY6",
        "colab_type": "code",
        "outputId": "92d8b27f-6356-4849-a7e8-8994e1fd4a9c",
        "colab": {
          "base_uri": "https://localhost:8080/",
          "height": 403
        }
      },
      "source": [
        "import numpy as np\n",
        "np.mean([hormigas(problem, 1000) for _ in range(10)])"
      ],
      "execution_count": 0,
      "outputs": [
        {
          "output_type": "stream",
          "text": [
            "[0, 29, 37, 7, 17, 2, 28, 27, 1, 26, 15, 4, 32, 30, 23, 9, 10, 11, 25, 12, 21, 19, 34, 35, 36, 31, 14, 16, 6, 3, 18, 33, 39, 41, 24, 40, 22, 13, 5, 8, 20, 38]\n",
            "Mejor distancia: 3381\n",
            "[0, 20, 35, 8, 22, 41, 32, 27, 21, 40, 34, 39, 30, 25, 10, 3, 7, 6, 1, 4, 38, 23, 24, 9, 29, 28, 12, 11, 19, 13, 36, 31, 2, 33, 16, 15, 14, 5, 37, 18, 26, 17]\n",
            "Mejor distancia: 3494\n",
            "[0, 37, 16, 7, 10, 41, 8, 18, 32, 33, 23, 21, 28, 26, 6, 31, 13, 5, 4, 2, 3, 1, 40, 12, 36, 17, 20, 38, 29, 30, 39, 24, 9, 22, 25, 11, 34, 15, 35, 14, 19, 27]\n",
            "Mejor distancia: 3487\n",
            "[0, 4, 36, 37, 15, 14, 16, 5, 13, 18, 28, 29, 17, 34, 20, 39, 38, 19, 26, 32, 8, 21, 41, 24, 22, 23, 30, 10, 25, 3, 27, 2, 35, 33, 31, 40, 9, 7, 1, 6, 12, 11]\n",
            "Mejor distancia: 3295\n",
            "[0, 17, 37, 16, 32, 20, 15, 14, 19, 13, 1, 27, 4, 35, 7, 6, 3, 9, 12, 5, 29, 28, 8, 11, 39, 18, 10, 23, 41, 26, 21, 40, 30, 25, 22, 24, 33, 34, 31, 36, 2, 38]\n",
            "Mejor distancia: 3374\n",
            "[0, 32, 1, 34, 6, 26, 3, 2, 36, 5, 7, 22, 41, 9, 19, 18, 10, 11, 12, 17, 37, 15, 14, 13, 8, 23, 38, 35, 31, 16, 27, 4, 28, 39, 30, 29, 20, 33, 40, 21, 24, 25]\n",
            "Mejor distancia: 3334\n",
            "[0, 13, 3, 29, 28, 5, 10, 25, 11, 12, 26, 4, 6, 27, 30, 1, 17, 14, 15, 37, 19, 31, 32, 21, 36, 20, 23, 22, 38, 9, 41, 8, 40, 39, 24, 34, 33, 7, 2, 16, 35, 18]\n",
            "Mejor distancia: 3286\n",
            "[0, 7, 32, 19, 20, 33, 12, 14, 5, 26, 6, 3, 25, 41, 4, 10, 9, 30, 31, 17, 16, 15, 37, 35, 36, 34, 28, 38, 39, 24, 13, 1, 29, 18, 11, 40, 22, 2, 8, 23, 21, 27]\n",
            "Mejor distancia: 3227\n",
            "[0, 38, 7, 11, 12, 40, 32, 37, 29, 17, 3, 27, 2, 18, 5, 13, 41, 9, 24, 21, 22, 26, 15, 14, 31, 35, 20, 36, 33, 34, 1, 4, 19, 28, 23, 39, 25, 10, 8, 30, 16, 6]\n",
            "Mejor distancia: 3401\n",
            "[0, 20, 6, 2, 27, 31, 35, 36, 15, 1, 34, 33, 25, 28, 17, 37, 14, 19, 13, 7, 32, 38, 40, 41, 9, 23, 11, 10, 22, 8, 29, 18, 26, 21, 39, 5, 4, 30, 24, 12, 3, 16]\n",
            "Mejor distancia: 3241\n"
          ],
          "name": "stdout"
        },
        {
          "output_type": "execute_result",
          "data": {
            "text/plain": [
              "3352.0"
            ]
          },
          "metadata": {
            "tags": []
          },
          "execution_count": 45
        }
      ]
    },
    {
      "cell_type": "code",
      "metadata": {
        "id": "328YFAJ022dY",
        "colab_type": "code",
        "colab": {}
      },
      "source": [
        ""
      ],
      "execution_count": 0,
      "outputs": []
    }
  ]
}