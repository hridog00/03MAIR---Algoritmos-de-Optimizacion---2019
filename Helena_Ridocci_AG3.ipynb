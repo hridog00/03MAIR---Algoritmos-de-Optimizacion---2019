{
  "nbformat": 4,
  "nbformat_minor": 0,
  "metadata": {
    "colab": {
      "name": "Helena Ridocci - AG3",
      "provenance": [],
      "authorship_tag": "ABX9TyMNvM6umoEzvf3rOyzqSGOp",
      "include_colab_link": true
    },
    "kernelspec": {
      "name": "python3",
      "display_name": "Python 3"
    }
  },
  "cells": [
    {
      "cell_type": "markdown",
      "metadata": {
        "id": "view-in-github",
        "colab_type": "text"
      },
      "source": [
        "<a href=\"https://colab.research.google.com/github/hridog00/03MAIR---Algoritmos-de-Optimizacion---2019/blob/master/Helena_Ridocci_AG3.ipynb\" target=\"_parent\"><img src=\"https://colab.research.google.com/assets/colab-badge.svg\" alt=\"Open In Colab\"/></a>"
      ]
    },
    {
      "cell_type": "markdown",
      "metadata": {
        "id": "DSCwrEC1fB__",
        "colab_type": "text"
      },
      "source": [
        "Actividad Guiada 3 - AG3 <br>\n",
        "Helena Ridocci <br>\n",
        "URL: https://colab.research.google.com/drive/17EkhzI3aWrAMJboz3GAua69-x9Bkbp2E <br>\n",
        "GitHUb: https://github.com/hridog00/03MAIR---Algoritmos-de-Optimizacion---2019/blob/master/Helena_Ridocci_AG3.ipynb"
      ]
    },
    {
      "cell_type": "code",
      "metadata": {
        "id": "WoW0jk-bgXUj",
        "colab_type": "code",
        "outputId": "6f532ecd-e42e-4857-a283-44abc5866e90",
        "colab": {
          "base_uri": "https://localhost:8080/",
          "height": 241
        }
      },
      "source": [
        "!pip install requests\n",
        "!pip install tsplib95"
      ],
      "execution_count": 1,
      "outputs": [
        {
          "output_type": "stream",
          "text": [
            "Requirement already satisfied: requests in /usr/local/lib/python3.6/dist-packages (2.21.0)\n",
            "Requirement already satisfied: certifi>=2017.4.17 in /usr/local/lib/python3.6/dist-packages (from requests) (2019.11.28)\n",
            "Requirement already satisfied: idna<2.9,>=2.5 in /usr/local/lib/python3.6/dist-packages (from requests) (2.8)\n",
            "Requirement already satisfied: urllib3<1.25,>=1.21.1 in /usr/local/lib/python3.6/dist-packages (from requests) (1.24.3)\n",
            "Requirement already satisfied: chardet<3.1.0,>=3.0.2 in /usr/local/lib/python3.6/dist-packages (from requests) (3.0.4)\n",
            "Collecting tsplib95\n",
            "  Downloading https://files.pythonhosted.org/packages/dc/43/039c0621085202f19d6c12b06330bf109743083ce4024137b4713da9c40b/tsplib95-0.6.1-py2.py3-none-any.whl\n",
            "Requirement already satisfied: networkx~=2.1 in /usr/local/lib/python3.6/dist-packages (from tsplib95) (2.4)\n",
            "Requirement already satisfied: Click>=6.0 in /usr/local/lib/python3.6/dist-packages (from tsplib95) (7.0)\n",
            "Requirement already satisfied: decorator>=4.3.0 in /usr/local/lib/python3.6/dist-packages (from networkx~=2.1->tsplib95) (4.4.1)\n",
            "Installing collected packages: tsplib95\n",
            "Successfully installed tsplib95-0.6.1\n"
          ],
          "name": "stdout"
        }
      ]
    },
    {
      "cell_type": "code",
      "metadata": {
        "id": "pw_Awmb1bLCZ",
        "colab_type": "code",
        "outputId": "1de34ad9-d420-476a-9050-c11e34b2d83d",
        "colab": {
          "base_uri": "https://localhost:8080/",
          "height": 34
        }
      },
      "source": [
        "import urllib.request\n",
        "\n",
        "file = \"swiss42.tsp\"\n",
        "\n",
        "urllib.request.urlretrieve(\"http://elib.zib.de/pub/mp-testdata/tsp/tsplib/tsp/swiss42.tsp\", file)"
      ],
      "execution_count": 2,
      "outputs": [
        {
          "output_type": "execute_result",
          "data": {
            "text/plain": [
              "('swiss42.tsp', <http.client.HTTPMessage at 0x7fc1081a9668>)"
            ]
          },
          "metadata": {
            "tags": []
          },
          "execution_count": 2
        }
      ]
    },
    {
      "cell_type": "code",
      "metadata": {
        "id": "ErEDtdYfgMHO",
        "colab_type": "code",
        "colab": {}
      },
      "source": [
        "import random\n",
        "import tsplib95\n",
        "import math "
      ],
      "execution_count": 0,
      "outputs": []
    },
    {
      "cell_type": "code",
      "metadata": {
        "id": "0mTFTaYJhdJM",
        "colab_type": "code",
        "colab": {}
      },
      "source": [
        "problem = tsplib95.load_problem(file)"
      ],
      "execution_count": 0,
      "outputs": []
    },
    {
      "cell_type": "code",
      "metadata": {
        "id": "Pxqyjs5Ehnbd",
        "colab_type": "code",
        "colab": {}
      },
      "source": [
        "nodos = list(problem.get_nodes())\n",
        "edges = list(problem.get_edges())"
      ],
      "execution_count": 0,
      "outputs": []
    },
    {
      "cell_type": "code",
      "metadata": {
        "id": "aKUU__rChs0s",
        "colab_type": "code",
        "outputId": "24bee959-e4c3-44f6-cf2b-4d6b2c8d2859",
        "colab": {
          "base_uri": "https://localhost:8080/",
          "height": 34
        }
      },
      "source": [
        "print('Numero de ciudades :', len(nodos))"
      ],
      "execution_count": 6,
      "outputs": [
        {
          "output_type": "stream",
          "text": [
            "Numero de ciudades : 42\n"
          ],
          "name": "stdout"
        }
      ]
    },
    {
      "cell_type": "code",
      "metadata": {
        "id": "DtTDox-5yVoV",
        "colab_type": "code",
        "outputId": "eb7286fe-579d-4983-a240-954586074984",
        "colab": {
          "base_uri": "https://localhost:8080/",
          "height": 34
        }
      },
      "source": [
        "type(nodos)"
      ],
      "execution_count": 7,
      "outputs": [
        {
          "output_type": "execute_result",
          "data": {
            "text/plain": [
              "list"
            ]
          },
          "metadata": {
            "tags": []
          },
          "execution_count": 7
        }
      ]
    },
    {
      "cell_type": "code",
      "metadata": {
        "id": "EjAOLHBwh-V4",
        "colab_type": "code",
        "colab": {}
      },
      "source": [
        "#Se genera una solucion aleatoria con comienzo en en el nodo 0\n",
        "def crear_solucion(Nodos): \n",
        "  solucion = [0]\n",
        "  for i in range(len(Nodos)-1):\n",
        "    solucion = solucion + [random.choice(list(set(Nodos) - set(solucion)))]\n",
        "  return solucion\n",
        "\n",
        "#Devuelve la distancia entre dos nodos\n",
        "def distancia(a,b, problem):\n",
        "  return problem.wfunc(a,b)\n",
        "\n",
        "#Devuelve la distancia total de una trayectoria\n",
        "def distancia_total(solucion, problem):\n",
        "  distancia_total = 0\n",
        "  for i in range(len(solucion)-1):\n",
        "    distancia_total += distancia(solucion[i] ,solucion[i+1] ,  problem)\n",
        "  return distancia_total + distancia(solucion[len(solucion)-1] ,solucion[0], problem)"
      ],
      "execution_count": 0,
      "outputs": []
    },
    {
      "cell_type": "code",
      "metadata": {
        "id": "gNF9O9CLjsNJ",
        "colab_type": "code",
        "outputId": "d17be8e0-b3ec-44e1-e615-07ec37971b4c",
        "colab": {
          "base_uri": "https://localhost:8080/",
          "height": 34
        }
      },
      "source": [
        "solucion = crear_solucion(nodos)\n",
        "distancia_total(solucion,problem)"
      ],
      "execution_count": 9,
      "outputs": [
        {
          "output_type": "execute_result",
          "data": {
            "text/plain": [
              "5085"
            ]
          },
          "metadata": {
            "tags": []
          },
          "execution_count": 9
        }
      ]
    },
    {
      "cell_type": "markdown",
      "metadata": {
        "id": "mVtZH5cKlkdq",
        "colab_type": "text"
      },
      "source": [
        "Busqueda aleatoria"
      ]
    },
    {
      "cell_type": "code",
      "metadata": {
        "id": "BqjXCWlLj152",
        "colab_type": "code",
        "outputId": "e2ee9807-1822-469c-b273-64be58819829",
        "colab": {
          "base_uri": "https://localhost:8080/",
          "height": 54
        }
      },
      "source": [
        "def busqueda_aleatoria(problem, N):\n",
        "  mejor_solucion = crear_solucion(nodos)\n",
        "  mejor_valor    = distancia_total(mejor_solucion, problem)\n",
        "\n",
        "  for i in range(N):\n",
        "      solucion = crear_solucion(nodos)\n",
        "      valor    = distancia_total(solucion, problem)\n",
        "      if valor < mejor_valor:\n",
        "        mejor_solucion = solucion\n",
        "        mejor_valor = valor\n",
        "\n",
        "  print(\"La mejor solucion es \",mejor_valor,  mejor_solucion)\n",
        "   \n",
        "busqueda_aleatoria(problem, 1000)"
      ],
      "execution_count": 10,
      "outputs": [
        {
          "output_type": "stream",
          "text": [
            "La mejor solucion es  3931 [0, 33, 34, 3, 26, 23, 14, 27, 1, 30, 5, 19, 4, 11, 41, 40, 21, 10, 16, 31, 2, 20, 35, 38, 6, 12, 29, 24, 8, 17, 25, 22, 39, 9, 28, 7, 15, 18, 32, 36, 37, 13]\n"
          ],
          "name": "stdout"
        }
      ]
    },
    {
      "cell_type": "markdown",
      "metadata": {
        "id": "pNnPT34_l2xY",
        "colab_type": "text"
      },
      "source": [
        "Busqueda local\n"
      ]
    },
    {
      "cell_type": "code",
      "metadata": {
        "id": "l6_1ot6RmKiO",
        "colab_type": "code",
        "colab": {}
      },
      "source": [
        "def genera_vecina(solucion):\n",
        "  #Generador de soluciones vecinas: 2-opt (intercambiar 2 nodos) Si hay N nodos se generan (N-1)x(N-2)/2 soluciones\n",
        "  #print(solucion)\n",
        "  mejor_solucion = []\n",
        "  mejor_distancia = 10e100\n",
        "  for i in range(1,len(solucion)-1):\n",
        "    for j in range(i+1, len(solucion)):\n",
        "      vecina = solucion[:i] + [solucion[j]] + solucion[i+1:j] + [solucion[i]] + solucion[j+1:] \n",
        "      distancia_vecina = distancia_total(vecina, problem)\n",
        "      if distancia_vecina <= mejor_distancia:\n",
        "        mejor_distancia = distancia_vecina\n",
        "        mejor_solucion = vecina\n",
        "  #print(mejor_distancia, mejor_solucion)\n",
        "  return mejor_solucion\n",
        "      \n",
        "solucion = crear_solucion(nodos)\n",
        "mejor_solucion = genera_vecina(solucion)\n"
      ],
      "execution_count": 0,
      "outputs": []
    },
    {
      "cell_type": "code",
      "metadata": {
        "id": "uldzD2zAlRMZ",
        "colab_type": "code",
        "outputId": "3dd0aae3-f98d-481e-ba24-d72024362f31",
        "colab": {
          "base_uri": "https://localhost:8080/",
          "height": 54
        }
      },
      "source": [
        "def busqueda_local(problem, N):\n",
        "  #problem = datos del problema\n",
        "  #N = numero de iteraciones\n",
        "  \n",
        "    mejor_solucion = []\n",
        "    mejor_distancia = 10e100\n",
        "  \n",
        "    solucion_referencia = crear_solucion(nodos)\n",
        "  \n",
        "    for i in range(N):\n",
        "        vecina = genera_vecina(solucion_referencia)\n",
        "        distancia_vecina = distancia_total(vecina, problem)\n",
        "        if distancia_vecina <= mejor_distancia:\n",
        "            mejor_solucion = vecina\n",
        "            mejor_distancia = distancia_vecina\n",
        "        \n",
        "        solucion_referencia = vecina\n",
        "    print(\"La mejor solución encontrada es \" , mejor_distancia , mejor_solucion)\n",
        "    return mejor_solucion\n",
        "mejor_solucion = busqueda_local(problem, 100)"
      ],
      "execution_count": 12,
      "outputs": [
        {
          "output_type": "stream",
          "text": [
            "La mejor solución encontrada es  1913 [0, 14, 16, 15, 37, 1, 2, 8, 10, 11, 12, 18, 7, 17, 36, 35, 31, 39, 21, 24, 40, 23, 41, 25, 13, 19, 5, 26, 6, 4, 3, 20, 33, 34, 32, 27, 28, 29, 9, 22, 38, 30]\n"
          ],
          "name": "stdout"
        }
      ]
    },
    {
      "cell_type": "code",
      "metadata": {
        "id": "qCeFI3cLrMM1",
        "colab_type": "code",
        "colab": {}
      },
      "source": [
        ""
      ],
      "execution_count": 0,
      "outputs": []
    },
    {
      "cell_type": "markdown",
      "metadata": {
        "id": "6MAJGHltrMjG",
        "colab_type": "text"
      },
      "source": [
        "Rcorrido simulado"
      ]
    },
    {
      "cell_type": "code",
      "metadata": {
        "id": "VxqIokCknz9H",
        "colab_type": "code",
        "colab": {}
      },
      "source": [
        "def genera_vecina_aleatorio(solucion):\n",
        "  #Generador de 1 solucion vecina 2-opt (intercambiar 2 nodos)\n",
        "  #Se puede mejorar haciendo que la elección no se uniforme sino entre las que estén más proximas\n",
        "  i = random.choice(range(1, len(solucion)) )\n",
        "  j = random.choice(list(set(range(1, len(solucion))) - {i}))\n",
        "  if j<i:\n",
        "    i,j=j,i\n",
        "  vecina = list(solucion[:i] + [solucion[j]] + solucion[i+1:j] + [solucion[i]] + solucion[j+1:])\n",
        "  return vecina"
      ],
      "execution_count": 0,
      "outputs": []
    },
    {
      "cell_type": "code",
      "metadata": {
        "id": "cK-J2yvxph6K",
        "colab_type": "code",
        "outputId": "8296f489-4747-45b9-866a-2e8fbce73fa6",
        "colab": {
          "base_uri": "https://localhost:8080/",
          "height": 1000
        }
      },
      "source": [
        "#Funcion de probabilidad para determinar si se cambia \n",
        "#    a una solución peor respecto a la de referencia(exponencial)\n",
        "def probabilidad(T,d):\n",
        "  if random.random() <= math.exp(-1*d / T)   :\n",
        "    return True\n",
        "  else:\n",
        "    return False\n",
        "\n",
        "\n",
        "def bajar_temperatura(T):\n",
        "  return T*.9999\n",
        "\n",
        "#####################################################################\n",
        "def recocido_simulado(problem, TEMPERATURA=1000):\n",
        "  #problem = datos del problema\n",
        "\n",
        "  solucion_referencia = crear_solucion(nodos)\n",
        "  distancia_referencia = distancia_total(solucion_referencia, problem)\n",
        "  \n",
        "  mejor_solucion = []\n",
        "  mejor_distancia = 10e100\n",
        "\n",
        "  while TEMPERATURA > 1:\n",
        "    #Genera una solución vecina(aleatoria)\n",
        "    vecina = genera_vecina_aleatorio(solucion_referencia) \n",
        "    \n",
        "    #Calcula su valor(distancia)\n",
        "    distancia_vecina = distancia_total(vecina, problem)\n",
        "    \n",
        "    #Si es la mejor solución de todas se guarda\n",
        "    if distancia_vecina < mejor_distancia:\n",
        "      mejor_solucion = vecina\n",
        "      mejor_distancia = distancia_vecina\n",
        "      print('\\t****Encontrada mejor solucion:', mejor_distancia , mejor_solucion, '\\n')\n",
        "    \n",
        "    #Si la nueva vecina es mejor se cambia y si es peor se cambia según \n",
        "    # una probabilidad dependiente de T y de |distancia_referencia - distancia_vecina|\n",
        "    p = probabilidad(TEMPERATURA, abs(distancia_referencia - distancia_vecina) )\n",
        "    if distancia_vecina < distancia_referencia or p :\n",
        "      solucion_referencia = vecina\n",
        "      distancia_referencia = distancia_vecina\n",
        "    \n",
        "    TEMPERATURA = bajar_temperatura(TEMPERATURA)\n",
        "\n",
        "  print(\"La mejor solución encontrada es :\" , mejor_distancia, mejor_solucion  )\n",
        "  return mejor_solucion\n",
        "\n",
        "sol = recocido_simulado(problem, TEMPERATURA=100000)"
      ],
      "execution_count": 14,
      "outputs": [
        {
          "output_type": "stream",
          "text": [
            "\t****Encontrada mejor solucion: 4628 [0, 2, 5, 15, 29, 32, 25, 22, 38, 7, 10, 1, 24, 12, 41, 23, 6, 36, 9, 27, 16, 31, 4, 40, 28, 18, 13, 21, 8, 30, 39, 14, 11, 3, 35, 34, 20, 37, 26, 33, 19, 17] \n",
            "\n",
            "\t****Encontrada mejor solucion: 4583 [0, 2, 5, 15, 29, 32, 25, 22, 38, 7, 10, 3, 24, 12, 41, 23, 6, 36, 9, 27, 16, 31, 4, 40, 28, 18, 13, 21, 8, 30, 39, 14, 11, 1, 35, 34, 20, 37, 26, 33, 19, 17] \n",
            "\n",
            "\t****Encontrada mejor solucion: 4468 [0, 2, 5, 15, 29, 32, 25, 22, 38, 7, 10, 23, 24, 12, 41, 3, 6, 36, 9, 27, 16, 31, 4, 40, 28, 18, 13, 21, 8, 30, 39, 14, 11, 1, 35, 34, 20, 37, 26, 33, 19, 17] \n",
            "\n",
            "\t****Encontrada mejor solucion: 4464 [0, 2, 5, 15, 9, 32, 25, 22, 38, 7, 10, 23, 24, 12, 41, 3, 6, 36, 29, 27, 16, 31, 4, 40, 28, 18, 13, 21, 8, 30, 39, 14, 11, 1, 35, 34, 20, 37, 26, 33, 19, 17] \n",
            "\n",
            "\t****Encontrada mejor solucion: 4456 [0, 31, 28, 15, 18, 32, 27, 12, 26, 7, 25, 23, 24, 21, 41, 8, 6, 36, 29, 2, 16, 10, 4, 40, 34, 1, 13, 9, 3, 30, 20, 14, 11, 5, 33, 22, 39, 37, 38, 35, 19, 17] \n",
            "\n",
            "\t****Encontrada mejor solucion: 4355 [0, 31, 34, 15, 18, 32, 27, 12, 26, 7, 25, 23, 24, 21, 41, 8, 6, 36, 29, 2, 16, 10, 4, 40, 28, 1, 13, 9, 3, 30, 20, 14, 11, 5, 33, 22, 39, 37, 38, 35, 19, 17] \n",
            "\n",
            "\t****Encontrada mejor solucion: 4345 [0, 31, 34, 15, 18, 32, 27, 12, 26, 7, 25, 23, 24, 21, 41, 8, 6, 36, 29, 2, 16, 10, 4, 40, 30, 1, 13, 9, 3, 28, 20, 14, 11, 5, 33, 22, 39, 37, 38, 35, 19, 17] \n",
            "\n",
            "\t****Encontrada mejor solucion: 4322 [0, 11, 39, 15, 18, 32, 27, 12, 3, 7, 13, 23, 24, 21, 41, 8, 6, 36, 29, 2, 16, 10, 4, 40, 30, 1, 25, 9, 26, 28, 20, 14, 31, 35, 33, 22, 5, 37, 38, 34, 19, 17] \n",
            "\n",
            "\t****Encontrada mejor solucion: 4188 [0, 11, 39, 15, 18, 32, 5, 12, 30, 7, 13, 23, 24, 21, 41, 34, 6, 2, 29, 14, 16, 10, 4, 40, 3, 8, 25, 9, 26, 28, 20, 36, 31, 35, 33, 22, 27, 37, 38, 1, 19, 17] \n",
            "\n",
            "\t****Encontrada mejor solucion: 3971 [0, 29, 18, 19, 41, 9, 20, 4, 13, 11, 27, 5, 1, 38, 39, 28, 32, 31, 33, 35, 16, 37, 12, 26, 15, 7, 17, 36, 24, 10, 6, 23, 21, 25, 30, 2, 22, 8, 40, 14, 34, 3] \n",
            "\n",
            "\t****Encontrada mejor solucion: 3800 [0, 20, 33, 34, 32, 36, 7, 13, 11, 8, 40, 6, 30, 18, 41, 9, 24, 23, 28, 39, 10, 21, 37, 16, 14, 4, 26, 17, 25, 27, 15, 1, 5, 38, 22, 2, 12, 19, 35, 29, 3, 31] \n",
            "\n",
            "\t****Encontrada mejor solucion: 3699 [0, 11, 4, 3, 21, 22, 23, 41, 12, 6, 32, 1, 26, 5, 28, 9, 24, 18, 40, 39, 8, 38, 2, 19, 33, 36, 17, 35, 31, 13, 34, 30, 20, 16, 27, 29, 37, 10, 25, 7, 15, 14] \n",
            "\n",
            "\t****Encontrada mejor solucion: 3692 [0, 30, 34, 5, 26, 6, 28, 4, 14, 19, 33, 20, 22, 8, 15, 38, 11, 10, 25, 9, 29, 24, 31, 2, 27, 12, 21, 40, 41, 23, 1, 18, 37, 13, 39, 3, 32, 35, 36, 7, 17, 16] \n",
            "\n",
            "\t****Encontrada mejor solucion: 3638 [0, 30, 34, 5, 26, 6, 28, 4, 14, 19, 33, 20, 22, 8, 15, 38, 11, 10, 25, 9, 29, 24, 31, 2, 27, 12, 21, 40, 41, 23, 13, 18, 37, 1, 39, 3, 32, 35, 36, 7, 17, 16] \n",
            "\n",
            "\t****Encontrada mejor solucion: 3511 [0, 32, 34, 2, 24, 38, 22, 39, 8, 26, 29, 30, 10, 9, 7, 11, 27, 18, 6, 20, 17, 16, 15, 37, 21, 23, 5, 19, 13, 1, 28, 14, 36, 41, 12, 25, 40, 33, 35, 31, 4, 3] \n",
            "\n",
            "\t****Encontrada mejor solucion: 3470 [0, 2, 8, 9, 36, 7, 4, 29, 1, 32, 3, 22, 40, 24, 10, 11, 13, 14, 16, 31, 35, 27, 34, 6, 19, 37, 17, 30, 20, 23, 21, 41, 25, 38, 39, 28, 5, 18, 12, 26, 33, 15] \n",
            "\n",
            "\t****Encontrada mejor solucion: 3458 [0, 26, 13, 14, 37, 31, 36, 16, 6, 35, 38, 29, 22, 10, 30, 12, 23, 39, 4, 27, 3, 28, 24, 40, 21, 18, 7, 20, 33, 34, 2, 8, 1, 17, 41, 9, 32, 11, 19, 25, 5, 15] \n",
            "\n",
            "\t****Encontrada mejor solucion: 3446 [0, 26, 13, 14, 37, 31, 36, 16, 6, 35, 38, 29, 22, 10, 30, 12, 23, 39, 4, 2, 3, 9, 24, 40, 21, 18, 7, 20, 33, 34, 27, 8, 1, 17, 41, 25, 32, 11, 19, 28, 5, 15] \n",
            "\n",
            "\t****Encontrada mejor solucion: 3404 [0, 26, 13, 14, 37, 31, 36, 16, 6, 35, 38, 29, 22, 10, 30, 12, 23, 39, 4, 2, 3, 9, 24, 40, 21, 18, 7, 20, 33, 34, 27, 8, 32, 17, 41, 25, 1, 11, 19, 28, 5, 15] \n",
            "\n",
            "\t****Encontrada mejor solucion: 3397 [0, 26, 13, 14, 37, 31, 36, 16, 6, 35, 38, 29, 22, 10, 17, 12, 23, 39, 4, 2, 3, 9, 24, 40, 21, 18, 7, 20, 33, 34, 27, 8, 32, 30, 41, 25, 1, 11, 19, 28, 5, 15] \n",
            "\n",
            "\t****Encontrada mejor solucion: 3273 [0, 26, 13, 14, 37, 31, 36, 16, 6, 11, 38, 29, 22, 10, 28, 12, 23, 39, 4, 2, 30, 9, 24, 40, 21, 18, 7, 20, 33, 34, 27, 8, 32, 3, 41, 25, 1, 35, 19, 17, 5, 15] \n",
            "\n",
            "\t****Encontrada mejor solucion: 3196 [0, 22, 39, 21, 40, 41, 23, 5, 14, 31, 35, 30, 38, 2, 13, 3, 15, 37, 32, 33, 7, 17, 36, 1, 24, 20, 34, 11, 12, 4, 29, 9, 10, 25, 18, 26, 8, 6, 19, 16, 28, 27] \n",
            "\n",
            "\t****Encontrada mejor solucion: 3080 [0, 1, 29, 9, 21, 40, 24, 22, 35, 33, 34, 32, 27, 15, 37, 26, 13, 14, 18, 11, 12, 30, 39, 10, 25, 3, 23, 38, 5, 6, 7, 36, 31, 20, 4, 19, 16, 17, 8, 28, 2, 41] \n",
            "\n",
            "\t****Encontrada mejor solucion: 3046 [0, 41, 29, 9, 21, 40, 24, 22, 35, 33, 34, 32, 27, 15, 37, 26, 13, 14, 18, 11, 12, 30, 39, 10, 25, 3, 23, 38, 1, 6, 7, 36, 31, 20, 4, 19, 16, 17, 8, 28, 2, 5] \n",
            "\n",
            "\t****Encontrada mejor solucion: 2913 [0, 41, 29, 9, 21, 40, 24, 22, 35, 33, 34, 32, 27, 15, 37, 26, 16, 14, 18, 11, 12, 23, 39, 10, 25, 3, 30, 38, 1, 6, 7, 36, 31, 20, 4, 19, 13, 17, 8, 28, 2, 5] \n",
            "\n",
            "\t****Encontrada mejor solucion: 2881 [0, 41, 29, 9, 21, 40, 24, 22, 35, 33, 34, 32, 1, 15, 37, 26, 16, 14, 18, 11, 12, 23, 39, 10, 25, 3, 30, 38, 27, 6, 7, 36, 31, 20, 4, 19, 13, 17, 8, 28, 2, 5] \n",
            "\n",
            "\t****Encontrada mejor solucion: 2861 [0, 41, 29, 9, 21, 40, 24, 22, 35, 33, 34, 32, 1, 15, 37, 26, 16, 14, 18, 11, 12, 23, 39, 10, 25, 3, 30, 38, 27, 6, 7, 36, 31, 20, 4, 13, 19, 17, 8, 28, 2, 5] \n",
            "\n",
            "\t****Encontrada mejor solucion: 2850 [0, 33, 34, 32, 4, 3, 6, 28, 26, 1, 12, 23, 13, 16, 17, 31, 5, 18, 19, 8, 30, 37, 7, 29, 11, 9, 24, 40, 22, 38, 20, 35, 36, 14, 15, 10, 25, 41, 21, 39, 2, 27] \n",
            "\n",
            "\t****Encontrada mejor solucion: 2831 [0, 33, 34, 32, 4, 3, 6, 28, 26, 1, 12, 23, 13, 16, 17, 31, 5, 18, 19, 8, 30, 37, 7, 29, 11, 9, 24, 40, 22, 38, 20, 35, 36, 15, 14, 10, 25, 41, 21, 39, 2, 27] \n",
            "\n",
            "\t****Encontrada mejor solucion: 2810 [0, 33, 34, 32, 4, 3, 6, 28, 18, 1, 12, 23, 13, 16, 17, 31, 5, 26, 19, 8, 30, 37, 7, 29, 11, 9, 24, 40, 22, 38, 20, 35, 36, 15, 14, 10, 25, 41, 21, 39, 2, 27] \n",
            "\n",
            "\t****Encontrada mejor solucion: 2788 [0, 33, 34, 32, 4, 3, 6, 28, 18, 1, 12, 23, 8, 16, 17, 31, 5, 26, 19, 13, 30, 15, 7, 2, 11, 9, 21, 40, 22, 38, 20, 35, 36, 14, 37, 10, 25, 41, 24, 39, 29, 27] \n",
            "\n",
            "\t****Encontrada mejor solucion: 2756 [0, 32, 34, 33, 4, 3, 6, 1, 18, 28, 12, 23, 8, 16, 17, 31, 5, 26, 19, 13, 30, 15, 7, 2, 11, 9, 21, 40, 22, 38, 20, 35, 36, 14, 37, 10, 25, 41, 24, 39, 29, 27] \n",
            "\n",
            "\t****Encontrada mejor solucion: 2706 [0, 27, 1, 11, 6, 9, 29, 8, 23, 40, 21, 39, 24, 22, 30, 33, 38, 2, 28, 32, 4, 7, 13, 5, 19, 12, 41, 10, 25, 18, 37, 35, 34, 36, 14, 15, 16, 17, 20, 31, 3, 26] \n",
            "\n",
            "\t****Encontrada mejor solucion: 2691 [0, 27, 1, 11, 6, 9, 29, 8, 23, 40, 21, 39, 24, 22, 30, 33, 38, 2, 28, 26, 4, 7, 13, 5, 19, 12, 41, 10, 25, 18, 37, 35, 34, 36, 14, 15, 16, 17, 20, 31, 3, 32] \n",
            "\n",
            "\t****Encontrada mejor solucion: 2618 [0, 27, 1, 11, 6, 9, 29, 8, 23, 40, 21, 39, 24, 22, 30, 33, 38, 2, 28, 26, 4, 7, 13, 5, 19, 12, 41, 10, 25, 18, 36, 35, 34, 37, 14, 15, 16, 17, 20, 31, 3, 32] \n",
            "\n",
            "\t****Encontrada mejor solucion: 2588 [0, 27, 1, 11, 6, 9, 29, 8, 23, 40, 21, 24, 39, 22, 30, 33, 38, 2, 28, 26, 4, 7, 13, 5, 19, 12, 41, 10, 25, 18, 36, 35, 34, 37, 14, 15, 16, 17, 20, 31, 3, 32] \n",
            "\n",
            "\t****Encontrada mejor solucion: 2579 [0, 27, 1, 11, 6, 9, 29, 8, 23, 21, 40, 24, 39, 22, 30, 33, 38, 2, 28, 26, 4, 7, 13, 5, 19, 12, 41, 10, 25, 18, 36, 35, 34, 37, 14, 15, 16, 17, 20, 31, 3, 32] \n",
            "\n",
            "\t****Encontrada mejor solucion: 2556 [0, 27, 11, 18, 6, 9, 29, 8, 23, 21, 24, 40, 39, 22, 30, 33, 31, 2, 1, 5, 26, 7, 37, 13, 19, 12, 41, 10, 25, 4, 36, 35, 34, 32, 14, 15, 16, 17, 20, 38, 3, 28] \n",
            "\n",
            "\t****Encontrada mejor solucion: 2488 [0, 27, 18, 25, 11, 9, 29, 8, 23, 21, 24, 40, 39, 22, 30, 20, 31, 2, 6, 5, 26, 7, 37, 13, 19, 12, 41, 10, 3, 4, 36, 35, 34, 32, 14, 15, 16, 17, 33, 38, 1, 28] \n",
            "\n",
            "\t****Encontrada mejor solucion: 2487 [0, 27, 18, 12, 11, 41, 40, 24, 9, 23, 8, 30, 22, 39, 21, 38, 7, 33, 20, 17, 26, 5, 4, 3, 13, 6, 10, 25, 29, 35, 36, 1, 19, 14, 15, 37, 16, 31, 34, 32, 2, 28] \n",
            "\n",
            "\t****Encontrada mejor solucion: 2470 [0, 26, 30, 9, 10, 23, 24, 40, 8, 12, 41, 11, 25, 39, 21, 22, 38, 20, 34, 33, 13, 6, 3, 32, 2, 4, 27, 18, 5, 35, 36, 17, 37, 14, 15, 19, 16, 7, 1, 31, 28, 29] \n",
            "\n",
            "\t****Encontrada mejor solucion: 2456 [0, 26, 30, 8, 25, 23, 24, 40, 9, 12, 41, 11, 29, 39, 21, 22, 38, 20, 34, 33, 27, 28, 3, 32, 2, 4, 13, 18, 5, 35, 36, 17, 37, 15, 14, 19, 16, 7, 1, 31, 6, 10] \n",
            "\n",
            "\t****Encontrada mejor solucion: 2421 [0, 1, 10, 41, 23, 30, 24, 40, 9, 29, 8, 11, 25, 21, 39, 38, 22, 20, 34, 33, 27, 28, 2, 32, 3, 6, 13, 18, 31, 35, 17, 37, 36, 15, 7, 19, 16, 14, 26, 5, 4, 12] \n",
            "\n",
            "\t****Encontrada mejor solucion: 2394 [0, 3, 10, 41, 23, 30, 21, 40, 9, 29, 8, 28, 25, 24, 39, 38, 22, 20, 34, 33, 27, 4, 1, 32, 2, 6, 13, 5, 31, 35, 17, 37, 36, 15, 14, 19, 16, 7, 26, 18, 11, 12] \n",
            "\n",
            "\t****Encontrada mejor solucion: 2376 [0, 3, 10, 41, 23, 30, 21, 40, 9, 29, 8, 28, 25, 24, 39, 22, 38, 20, 34, 33, 27, 4, 1, 32, 2, 6, 13, 19, 31, 35, 17, 37, 36, 15, 14, 5, 16, 7, 26, 18, 11, 12] \n",
            "\n",
            "\t****Encontrada mejor solucion: 2339 [0, 3, 10, 41, 23, 30, 21, 40, 9, 29, 8, 28, 25, 24, 39, 22, 38, 20, 34, 33, 27, 4, 1, 32, 2, 6, 13, 19, 36, 35, 17, 37, 31, 15, 14, 5, 16, 7, 26, 18, 11, 12] \n",
            "\n",
            "\t****Encontrada mejor solucion: 2317 [0, 3, 10, 41, 25, 30, 21, 40, 9, 29, 8, 28, 23, 24, 39, 22, 38, 20, 34, 33, 27, 4, 1, 32, 2, 6, 13, 19, 36, 35, 17, 37, 31, 15, 14, 5, 16, 7, 26, 18, 11, 12] \n",
            "\n",
            "\t****Encontrada mejor solucion: 2306 [0, 32, 10, 41, 25, 30, 21, 40, 9, 29, 8, 28, 23, 24, 39, 22, 38, 20, 34, 33, 27, 4, 1, 3, 2, 6, 13, 19, 36, 35, 17, 37, 31, 15, 14, 5, 16, 7, 26, 18, 11, 12] \n",
            "\n",
            "\t****Encontrada mejor solucion: 2236 [0, 29, 22, 39, 38, 10, 12, 18, 11, 25, 23, 40, 24, 21, 41, 9, 30, 20, 34, 33, 32, 27, 28, 2, 26, 3, 4, 1, 6, 17, 16, 14, 13, 19, 5, 8, 31, 37, 15, 36, 35, 7] \n",
            "\n",
            "\t****Encontrada mejor solucion: 2110 [0, 29, 22, 39, 38, 10, 12, 18, 11, 25, 23, 40, 24, 21, 41, 9, 30, 20, 34, 33, 32, 27, 28, 2, 26, 3, 4, 1, 7, 17, 37, 14, 13, 19, 5, 8, 6, 16, 15, 36, 35, 31] \n",
            "\n",
            "\t****Encontrada mejor solucion: 2084 [0, 29, 39, 22, 38, 10, 12, 18, 11, 25, 23, 40, 24, 21, 41, 9, 30, 20, 34, 33, 32, 27, 28, 2, 26, 3, 4, 1, 7, 17, 37, 14, 13, 19, 5, 8, 6, 16, 15, 36, 35, 31] \n",
            "\n",
            "\t****Encontrada mejor solucion: 2044 [0, 25, 11, 13, 12, 23, 41, 9, 8, 10, 18, 21, 24, 40, 39, 22, 38, 33, 34, 20, 32, 6, 1, 2, 28, 3, 26, 5, 19, 16, 15, 37, 14, 27, 29, 30, 4, 7, 36, 35, 31, 17] \n",
            "\n",
            "\t****Encontrada mejor solucion: 2024 [0, 25, 18, 13, 12, 23, 41, 9, 8, 10, 11, 21, 24, 40, 39, 22, 38, 33, 34, 20, 32, 6, 1, 4, 28, 3, 26, 5, 19, 16, 15, 37, 14, 30, 29, 27, 2, 17, 36, 35, 31, 7] \n",
            "\n",
            "\t****Encontrada mejor solucion: 1984 [0, 11, 18, 13, 8, 23, 41, 12, 25, 10, 9, 24, 21, 40, 39, 22, 38, 33, 34, 20, 32, 28, 3, 4, 6, 1, 26, 5, 15, 16, 14, 37, 19, 30, 29, 27, 2, 17, 36, 35, 31, 7] \n",
            "\n",
            "\t****Encontrada mejor solucion: 1983 [0, 11, 13, 18, 8, 23, 41, 12, 25, 10, 9, 24, 21, 40, 39, 22, 38, 33, 34, 20, 32, 2, 3, 4, 6, 26, 5, 1, 15, 16, 14, 37, 19, 30, 29, 27, 28, 17, 36, 35, 31, 7] \n",
            "\n",
            "\t****Encontrada mejor solucion: 1980 [0, 7, 13, 12, 8, 23, 41, 11, 25, 10, 9, 24, 40, 21, 38, 22, 39, 33, 34, 20, 32, 2, 3, 4, 6, 26, 19, 15, 16, 14, 37, 5, 18, 30, 29, 28, 27, 31, 36, 35, 17, 1] \n",
            "\n",
            "\t****Encontrada mejor solucion: 1952 [0, 1, 13, 25, 8, 23, 41, 11, 12, 10, 9, 24, 40, 21, 38, 22, 39, 33, 34, 20, 32, 2, 3, 4, 18, 26, 19, 15, 16, 14, 37, 5, 6, 30, 29, 28, 27, 31, 36, 35, 17, 7] \n",
            "\n",
            "\t****Encontrada mejor solucion: 1943 [0, 1, 13, 25, 8, 23, 41, 11, 12, 10, 9, 24, 40, 21, 38, 22, 39, 33, 34, 20, 32, 2, 3, 4, 6, 5, 19, 15, 16, 14, 37, 26, 18, 30, 29, 28, 27, 17, 36, 35, 31, 7] \n",
            "\n",
            "\t****Encontrada mejor solucion: 1923 [0, 1, 6, 23, 8, 41, 10, 11, 12, 25, 9, 24, 40, 21, 38, 22, 39, 33, 34, 20, 32, 2, 3, 4, 18, 13, 19, 15, 16, 14, 37, 5, 26, 30, 29, 28, 27, 17, 36, 35, 31, 7] \n",
            "\n",
            "\t****Encontrada mejor solucion: 1920 [0, 1, 6, 23, 8, 9, 10, 11, 12, 25, 41, 24, 40, 21, 38, 22, 39, 33, 34, 20, 32, 2, 3, 4, 18, 13, 19, 15, 37, 14, 16, 5, 26, 28, 29, 30, 27, 17, 36, 35, 31, 7] \n",
            "\n",
            "\t****Encontrada mejor solucion: 1917 [0, 1, 6, 23, 8, 9, 10, 11, 12, 25, 41, 24, 40, 21, 38, 22, 39, 33, 34, 20, 27, 2, 3, 4, 18, 13, 19, 15, 37, 14, 16, 5, 26, 28, 29, 30, 32, 17, 31, 35, 36, 7] \n",
            "\n",
            "\t****Encontrada mejor solucion: 1888 [0, 1, 6, 23, 8, 9, 10, 11, 12, 25, 41, 21, 40, 24, 38, 22, 39, 33, 34, 20, 27, 2, 3, 4, 18, 13, 19, 15, 37, 14, 16, 5, 26, 28, 29, 30, 32, 17, 31, 35, 36, 7] \n",
            "\n",
            "\t****Encontrada mejor solucion: 1884 [0, 1, 6, 23, 8, 41, 10, 11, 12, 25, 9, 21, 40, 24, 38, 22, 39, 33, 34, 20, 27, 2, 3, 4, 18, 13, 19, 15, 37, 14, 16, 5, 26, 28, 29, 30, 32, 17, 31, 35, 36, 7] \n",
            "\n",
            "\t****Encontrada mejor solucion: 1876 [0, 1, 6, 23, 8, 41, 10, 11, 12, 25, 9, 21, 40, 24, 38, 22, 39, 33, 34, 20, 27, 2, 3, 4, 18, 13, 19, 14, 37, 15, 16, 5, 26, 28, 29, 30, 32, 17, 31, 35, 36, 7] \n",
            "\n",
            "\t****Encontrada mejor solucion: 1847 [0, 1, 6, 18, 8, 10, 12, 11, 25, 41, 23, 21, 40, 24, 39, 38, 22, 20, 33, 34, 28, 30, 29, 27, 9, 13, 19, 14, 15, 37, 16, 5, 26, 4, 3, 2, 32, 31, 17, 36, 35, 7] \n",
            "\n",
            "\t****Encontrada mejor solucion: 1816 [0, 1, 6, 18, 27, 10, 12, 11, 25, 41, 23, 21, 40, 24, 39, 38, 22, 20, 33, 34, 28, 30, 29, 8, 9, 13, 19, 14, 15, 37, 16, 5, 26, 4, 3, 2, 32, 31, 17, 36, 35, 7] \n",
            "\n",
            "\t****Encontrada mejor solucion: 1807 [0, 2, 5, 19, 26, 12, 11, 41, 23, 9, 38, 22, 40, 24, 21, 39, 8, 30, 29, 28, 1, 6, 25, 10, 18, 13, 14, 16, 15, 37, 7, 3, 4, 27, 32, 20, 34, 33, 35, 36, 31, 17] \n",
            "\n",
            "\t****Encontrada mejor solucion: 1805 [0, 2, 19, 5, 26, 12, 11, 41, 23, 9, 38, 22, 40, 24, 21, 39, 8, 30, 29, 28, 1, 6, 25, 10, 18, 13, 14, 16, 15, 37, 7, 3, 4, 27, 32, 20, 34, 33, 35, 36, 31, 17] \n",
            "\n",
            "\t****Encontrada mejor solucion: 1795 [0, 2, 19, 5, 26, 11, 25, 41, 8, 9, 38, 22, 39, 21, 24, 40, 23, 30, 29, 28, 1, 3, 12, 10, 18, 13, 14, 16, 15, 37, 7, 6, 4, 27, 32, 33, 34, 20, 35, 36, 31, 17] \n",
            "\n",
            "\t****Encontrada mejor solucion: 1790 [0, 2, 19, 5, 26, 11, 25, 41, 8, 9, 38, 22, 39, 21, 24, 40, 23, 30, 29, 28, 1, 3, 18, 10, 12, 13, 14, 16, 15, 37, 7, 6, 4, 27, 32, 33, 34, 20, 35, 36, 31, 17] \n",
            "\n",
            "\t****Encontrada mejor solucion: 1771 [0, 1, 19, 5, 13, 11, 25, 41, 8, 9, 38, 22, 39, 21, 24, 40, 23, 30, 29, 28, 2, 3, 26, 10, 12, 18, 14, 16, 15, 37, 7, 6, 27, 4, 32, 20, 34, 33, 35, 36, 31, 17] \n",
            "\n",
            "\t****Encontrada mejor solucion: 1728 [0, 1, 6, 13, 18, 11, 25, 41, 8, 30, 38, 22, 39, 21, 24, 40, 23, 9, 29, 28, 3, 27, 2, 10, 12, 26, 14, 16, 15, 37, 7, 5, 19, 4, 32, 33, 34, 20, 35, 36, 17, 31] \n",
            "\n",
            "\t****Encontrada mejor solucion: 1707 [0, 1, 6, 13, 18, 11, 25, 41, 8, 30, 38, 22, 39, 21, 24, 40, 23, 9, 29, 28, 3, 27, 2, 10, 12, 26, 14, 16, 15, 37, 7, 5, 19, 4, 32, 34, 33, 20, 35, 36, 17, 31] \n",
            "\n",
            "\t****Encontrada mejor solucion: 1676 [0, 4, 19, 13, 12, 11, 25, 41, 8, 30, 38, 22, 39, 21, 24, 40, 23, 9, 29, 28, 3, 27, 2, 10, 18, 26, 14, 16, 15, 37, 7, 5, 6, 1, 32, 20, 33, 34, 35, 36, 17, 31] \n",
            "\n",
            "\t****Encontrada mejor solucion: 1648 [0, 4, 19, 13, 12, 11, 25, 41, 8, 30, 38, 22, 39, 21, 24, 40, 23, 9, 29, 28, 2, 3, 27, 10, 18, 26, 14, 16, 15, 37, 7, 5, 6, 1, 32, 34, 33, 20, 35, 36, 17, 31] \n",
            "\n",
            "\t****Encontrada mejor solucion: 1639 [0, 5, 13, 12, 11, 25, 10, 9, 29, 30, 38, 22, 39, 24, 21, 40, 23, 41, 8, 27, 28, 4, 6, 26, 18, 19, 15, 14, 16, 37, 7, 1, 2, 3, 32, 34, 33, 20, 35, 36, 31, 17] \n",
            "\n",
            "\t****Encontrada mejor solucion: 1626 [0, 5, 13, 12, 11, 25, 41, 10, 29, 30, 38, 22, 39, 24, 40, 21, 23, 9, 8, 28, 3, 4, 6, 26, 18, 19, 16, 37, 15, 14, 7, 1, 27, 2, 32, 34, 20, 33, 35, 36, 17, 31] \n",
            "\n",
            "\t****Encontrada mejor solucion: 1623 [0, 19, 13, 12, 11, 25, 41, 10, 29, 30, 38, 22, 39, 24, 40, 21, 23, 9, 8, 28, 3, 4, 6, 26, 18, 5, 16, 37, 15, 14, 7, 1, 27, 2, 32, 34, 33, 20, 35, 36, 31, 17] \n",
            "\n",
            "\t****Encontrada mejor solucion: 1609 [0, 19, 13, 11, 12, 25, 10, 41, 8, 29, 38, 22, 39, 24, 40, 21, 23, 9, 30, 28, 3, 4, 6, 26, 18, 5, 16, 14, 15, 37, 7, 1, 27, 2, 32, 34, 33, 20, 35, 36, 31, 17] \n",
            "\n",
            "\t****Encontrada mejor solucion: 1603 [0, 19, 13, 11, 12, 25, 10, 41, 8, 29, 38, 22, 39, 24, 40, 21, 23, 9, 30, 28, 27, 4, 6, 26, 18, 5, 16, 14, 15, 37, 7, 1, 3, 2, 32, 34, 33, 20, 35, 36, 31, 17] \n",
            "\n",
            "\t****Encontrada mejor solucion: 1601 [0, 6, 18, 12, 11, 25, 23, 41, 8, 10, 38, 22, 39, 21, 40, 24, 9, 29, 28, 2, 3, 4, 26, 5, 19, 13, 14, 15, 16, 37, 7, 1, 27, 30, 32, 34, 33, 20, 35, 36, 31, 17] \n",
            "\n",
            "\t****Encontrada mejor solucion: 1587 [0, 6, 18, 12, 11, 25, 10, 41, 8, 23, 38, 22, 39, 21, 40, 24, 9, 29, 28, 2, 3, 4, 26, 5, 19, 13, 14, 15, 16, 37, 7, 1, 27, 30, 32, 34, 33, 20, 35, 36, 31, 17] \n",
            "\n",
            "\t****Encontrada mejor solucion: 1575 [0, 6, 18, 12, 11, 25, 10, 41, 8, 23, 38, 22, 39, 21, 24, 40, 9, 29, 28, 2, 3, 4, 26, 5, 19, 13, 14, 15, 16, 37, 7, 1, 27, 30, 32, 34, 33, 20, 35, 36, 31, 17] \n",
            "\n",
            "\t****Encontrada mejor solucion: 1559 [0, 26, 18, 11, 12, 25, 10, 41, 23, 9, 38, 22, 39, 21, 24, 40, 8, 29, 28, 2, 3, 4, 6, 5, 19, 13, 15, 14, 16, 37, 7, 1, 27, 30, 32, 34, 33, 20, 35, 36, 31, 17] \n",
            "\n",
            "\t****Encontrada mejor solucion: 1550 [0, 26, 18, 11, 12, 25, 10, 41, 23, 9, 38, 22, 39, 21, 24, 40, 8, 29, 28, 2, 3, 4, 6, 5, 19, 13, 14, 15, 16, 37, 7, 1, 27, 30, 32, 34, 33, 20, 35, 36, 31, 17] \n",
            "\n",
            "\t****Encontrada mejor solucion: 1534 [0, 6, 18, 11, 12, 25, 10, 41, 23, 9, 38, 22, 39, 21, 24, 40, 8, 29, 27, 2, 3, 4, 26, 5, 13, 19, 14, 15, 16, 37, 7, 1, 28, 30, 32, 34, 33, 20, 35, 36, 31, 17] \n",
            "\n",
            "\t****Encontrada mejor solucion: 1529 [0, 6, 18, 11, 12, 25, 10, 41, 23, 9, 38, 22, 39, 21, 24, 40, 8, 29, 28, 27, 2, 4, 26, 5, 13, 19, 14, 15, 16, 37, 7, 1, 3, 30, 32, 34, 33, 20, 35, 36, 17, 31] \n",
            "\n",
            "\t****Encontrada mejor solucion: 1515 [0, 6, 18, 11, 12, 25, 10, 41, 23, 9, 38, 22, 39, 21, 24, 40, 8, 29, 28, 27, 2, 4, 26, 5, 13, 19, 14, 16, 15, 37, 7, 1, 3, 30, 32, 34, 33, 20, 35, 36, 17, 31] \n",
            "\n",
            "\t****Encontrada mejor solucion: 1514 [0, 6, 18, 11, 12, 10, 25, 41, 23, 9, 38, 22, 39, 21, 24, 40, 8, 29, 28, 27, 2, 4, 26, 5, 13, 19, 14, 16, 15, 37, 7, 1, 3, 30, 32, 34, 33, 20, 35, 36, 17, 31] \n",
            "\n",
            "\t****Encontrada mejor solucion: 1506 [0, 6, 18, 12, 11, 10, 25, 41, 23, 9, 38, 22, 39, 21, 24, 40, 8, 29, 28, 27, 2, 4, 26, 5, 13, 19, 14, 16, 15, 37, 7, 1, 3, 30, 32, 34, 33, 20, 35, 36, 17, 31] \n",
            "\n",
            "\t****Encontrada mejor solucion: 1499 [0, 6, 18, 12, 11, 25, 10, 41, 23, 9, 38, 22, 39, 24, 40, 21, 8, 29, 28, 27, 2, 4, 26, 5, 13, 19, 14, 16, 15, 37, 7, 1, 3, 30, 32, 34, 33, 20, 35, 36, 17, 31] \n",
            "\n",
            "\t****Encontrada mejor solucion: 1497 [0, 26, 18, 12, 11, 25, 10, 41, 23, 9, 22, 38, 39, 24, 40, 21, 8, 29, 28, 27, 3, 4, 6, 5, 13, 19, 14, 16, 15, 37, 7, 1, 2, 30, 32, 34, 33, 20, 35, 36, 17, 31] \n",
            "\n",
            "\t****Encontrada mejor solucion: 1492 [0, 26, 18, 12, 11, 10, 25, 41, 23, 9, 22, 38, 39, 40, 24, 21, 8, 29, 30, 28, 27, 4, 6, 5, 13, 19, 16, 14, 15, 37, 7, 1, 3, 2, 32, 34, 33, 20, 35, 36, 17, 31] \n",
            "\n",
            "\t****Encontrada mejor solucion: 1489 [0, 6, 18, 12, 11, 25, 10, 41, 23, 9, 38, 22, 39, 24, 40, 21, 8, 29, 30, 28, 3, 4, 26, 5, 13, 19, 14, 16, 15, 37, 7, 1, 27, 2, 32, 34, 20, 33, 35, 36, 17, 31] \n",
            "\n",
            "\t****Encontrada mejor solucion: 1487 [0, 6, 18, 12, 11, 25, 10, 41, 23, 9, 38, 22, 39, 24, 40, 21, 8, 29, 30, 28, 3, 4, 26, 5, 13, 19, 14, 16, 15, 37, 7, 1, 2, 27, 32, 34, 20, 33, 35, 36, 17, 31] \n",
            "\n",
            "\t****Encontrada mejor solucion: 1479 [0, 6, 18, 12, 11, 25, 10, 41, 23, 9, 38, 22, 39, 24, 40, 21, 8, 29, 30, 28, 2, 4, 26, 5, 13, 19, 14, 16, 15, 37, 7, 1, 3, 27, 32, 34, 20, 33, 35, 36, 17, 31] \n",
            "\n",
            "\t****Encontrada mejor solucion: 1468 [0, 6, 18, 12, 11, 25, 10, 41, 23, 9, 22, 38, 39, 24, 40, 21, 8, 29, 30, 28, 2, 4, 26, 5, 13, 19, 14, 16, 15, 37, 7, 1, 3, 27, 32, 34, 33, 20, 35, 36, 17, 31] \n",
            "\n",
            "\t****Encontrada mejor solucion: 1467 [0, 6, 18, 12, 11, 25, 10, 41, 23, 9, 38, 22, 39, 24, 40, 21, 8, 29, 30, 28, 2, 4, 26, 5, 13, 19, 14, 16, 15, 37, 7, 1, 3, 27, 32, 34, 33, 20, 35, 36, 17, 31] \n",
            "\n",
            "\t****Encontrada mejor solucion: 1464 [0, 26, 18, 12, 11, 25, 10, 41, 23, 9, 38, 22, 39, 24, 40, 21, 8, 29, 30, 28, 2, 4, 6, 5, 13, 19, 14, 16, 15, 37, 7, 1, 3, 27, 32, 34, 33, 20, 35, 36, 17, 31] \n",
            "\n",
            "La mejor solución encontrada es : 1464 [0, 26, 18, 12, 11, 25, 10, 41, 23, 9, 38, 22, 39, 24, 40, 21, 8, 29, 30, 28, 2, 4, 6, 5, 13, 19, 14, 16, 15, 37, 7, 1, 3, 27, 32, 34, 33, 20, 35, 36, 17, 31]\n"
          ],
          "name": "stdout"
        }
      ]
    },
    {
      "cell_type": "markdown",
      "metadata": {
        "id": "xkzyUb3LrPvJ",
        "colab_type": "text"
      },
      "source": [
        "Colonia de hormigas"
      ]
    },
    {
      "cell_type": "code",
      "metadata": {
        "id": "JEUVd6YAuP4G",
        "colab_type": "code",
        "colab": {}
      },
      "source": [
        "def get_prob(nodos, T,i, j, nodos_sin_visitar, alpha = 0.5, beta=0.5):\n",
        "    if j not in nodos_sin_visitar:\n",
        "        return 0\n",
        "    p = ((T[i][j])**alpha * (1/distancia(i, j, problem))**beta) / sum([ (T[i][l])**alpha * (1/distancia(i, l, problem))**beta for l in nodos_sin_visitar ])\n",
        "    return p"
      ],
      "execution_count": 0,
      "outputs": []
    },
    {
      "cell_type": "code",
      "metadata": {
        "id": "qEiudGLpsArP",
        "colab_type": "code",
        "colab": {}
      },
      "source": [
        "from numpy.random import choice\n",
        "def Add_Nodo(problem, H ,T ) :\n",
        "  #Establecer una una funcion de probabilidad para \n",
        "  # añadir un nuevo nodo dependiendo de los nodos mas cercanos y de las feromonas depositadas\n",
        "  nodos = list(problem.get_nodes())\n",
        "  nodos_sin_visitar = list(set(range(1,len(nodos))) - set(H) )  \n",
        "  p = [get_prob(nodos, T, H[-1], nodo, nodos_sin_visitar) for nodo in nodos]\n",
        "  #return random.choice(   list(set(range(1,len(nodos))) - set(H) )  )\n",
        "  return choice(nodos, p=p)\n",
        "\n",
        "\n",
        "def Incrementa_Feromona(problem, T, H):\n",
        "  #Incrementar segun la calidad de la solución. Añadir una cantidad inversamente proporcional a la distancia total \n",
        "  for i in range(len(H)-1):\n",
        "    T[H[i]][H[i+1]] += 1000/distancia_total(H, problem)\n",
        "  return T\n",
        "\n",
        "def Evaporar_Feromonas(T):\n",
        "  #Podemos elegir diferentes funciones de evaporación dependiendo de la cantidad actual y de la suma total de feromonas depositadas,...\n",
        "  #Evapora 0.3 el valor de la feromona, sin que baje de 1\n",
        "  T = [[ max(T[i][j] - 0.3 , 1) for i in range(len(nodos)) ] for j in range(len(nodos))]\n",
        "  return T "
      ],
      "execution_count": 0,
      "outputs": []
    },
    {
      "cell_type": "code",
      "metadata": {
        "id": "AhEfLCyhq_Lv",
        "colab_type": "code",
        "colab": {}
      },
      "source": [
        "def hormigas(problem, N) :\n",
        "  #problem = datos del problema\n",
        "  #N = Número de agentes(hormigas)\n",
        "    \n",
        "  #Nodos\n",
        "  Nodos = list(problem.get_nodes())\n",
        "    #Aristas\n",
        "  Aristas = list(problem.get_edges()) \n",
        "  \n",
        "  #Inicializa las aristas con una cantidad inicial de feromonas:1\n",
        "  T = [[ 1 for _ in range(len(nodos)) ] for _ in range(len(nodos))]\n",
        "  \n",
        "  #Se generan los agentes(hormigas) que serán estructuras de caminos desde 0\n",
        "  Hormiga = [[0] for _ in range(N)]\n",
        "  #Recorre cada agente construyendo la solución\n",
        "  for h in range(N) :\n",
        "    #print(\"\\nAgente:\", h)\n",
        "    #Para cada agente se construye un camino\n",
        "    for i in range(len(Nodos)-1) :\n",
        "      \n",
        "      #Elige el siguiente nodo\n",
        "      Nuevo_Nodo = Add_Nodo(problem, Hormiga[h] ,T )\n",
        "      \n",
        "      Hormiga[h].append(Nuevo_Nodo)     \n",
        "    \n",
        "    #Incrementa feromonas en esa arista \n",
        "    T = Incrementa_Feromona(problem, T, Hormiga[h] )\n",
        "    #print(\"Feromonas(1)\", T)\n",
        "      \n",
        "    #Evapora Feromonas  \n",
        "    T = Evaporar_Feromonas(T)\n",
        "    #print(\"Feromonas(2)\", T)\n",
        "\n",
        "    #Seleccionamos el mejor agente\n",
        "  mejor_solucion = []\n",
        "  mejor_distancia = 10e100\n",
        "  for h in range(N) :\n",
        "    distancia_actual = distancia_total(Hormiga[h], problem)\n",
        "    if distancia_actual < mejor_distancia:\n",
        "      mejor_solucion = Hormiga[h]\n",
        "      mejor_distancia =distancia_actual\n",
        "  \n",
        "  \n",
        "  print(mejor_solucion)\n",
        "  print('Mejor distancia:',mejor_distancia)\n",
        "  return mejor_solucion"
      ],
      "execution_count": 0,
      "outputs": []
    },
    {
      "cell_type": "code",
      "metadata": {
        "id": "QC3qxYVLtyY6",
        "colab_type": "code",
        "outputId": "867a78e7-5f90-4d54-f3f1-4d986ca453c5",
        "colab": {
          "base_uri": "https://localhost:8080/",
          "height": 71
        }
      },
      "source": [
        "solucion = hormigas(problem, 600) "
      ],
      "execution_count": 30,
      "outputs": [
        {
          "output_type": "stream",
          "text": [
            "[0, 20, 33, 22, 28, 32, 41, 23, 26, 16, 14, 19, 3, 30, 27, 1, 6, 4, 2, 29, 35, 37, 31, 11, 10, 25, 8, 13, 15, 5, 18, 38, 24, 21, 40, 9, 7, 36, 12, 39, 34, 17]\n",
            "Mejor distancia: 3306\n"
          ],
          "name": "stdout"
        }
      ]
    },
    {
      "cell_type": "code",
      "metadata": {
        "id": "328YFAJ022dY",
        "colab_type": "code",
        "colab": {}
      },
      "source": [
        ""
      ],
      "execution_count": 0,
      "outputs": []
    }
  ]
}