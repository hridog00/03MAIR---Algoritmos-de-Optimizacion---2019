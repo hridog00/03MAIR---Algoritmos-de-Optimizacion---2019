{
  "nbformat": 4,
  "nbformat_minor": 0,
  "metadata": {
    "colab": {
      "name": "Seminario - Algoritmos.ipynb",
      "provenance": [],
      "collapsed_sections": [],
      "include_colab_link": true
    },
    "kernelspec": {
      "name": "python3",
      "display_name": "Python 3"
    }
  },
  "cells": [
    {
      "cell_type": "markdown",
      "metadata": {
        "id": "view-in-github",
        "colab_type": "text"
      },
      "source": [
        "<a href=\"https://colab.research.google.com/github/hridog00/03MAIR---Algoritmos-de-Optimizacion---2019/blob/master/Seminario_Algoritmos.ipynb\" target=\"_parent\"><img src=\"https://colab.research.google.com/assets/colab-badge.svg\" alt=\"Open In Colab\"/></a>"
      ]
    },
    {
      "cell_type": "markdown",
      "metadata": {
        "id": "hVbXYX-RfPWh",
        "colab_type": "text"
      },
      "source": [
        "# Algoritmos de optimización - Seminario<br>\n",
        "Nombre y Apellidos: Helena Ridocci Gutierrez  <br>\n",
        "Url: https://github.com/hridog00/03MAIR---Algoritmos-de-Optimizacion---2019/blob/master/SEMINARIO/Seminario_Algoritmos.ipynb<br>\n",
        "Url colab: https://colab.research.google.com/drive/1__yudLEKcstPVA_pa18i_Hi3TDcjJYn4\n",
        "\n",
        "\n",
        "Problema:\n",
        ">2. Organizar los horarios de partidos de La Liga<br>\n",
        "\n",
        "\n",
        "Descripción del problema:\n",
        "\n",
        "Desde la La Liga de fútbol profesional se pretende organizar los horarios de los partidos\n",
        "de liga de cada jornada. Se conocen algunos datos que nos deben llevar a diseñar un\n",
        "algoritmo que realice la asignación de los partidos a los horarios de forma que maximice\n",
        "la audiencia.\n",
        "\n",
        "Los horarios disponibles se conocen a priori y son los siguientes:\n",
        "- Viernes 20\n",
        "- Sábado 12,16,18,20\n",
        "- Domingo 12,16,18,20\n",
        "- Lunes 20\n",
        "\n",
        "En primer lugar se clasifican los equipos en tres categorías según el numero de seguidores (que tiene relación directa con la audiencia). Hay 4 equipos en la categoría A, 10 equipos de categoría B y 6 equipos de categoría C.\n",
        "\n",
        "Se conoce estadisticamente la audiencia que genera cada partido según los equipos que se enfrentan y en horario de sábado a las 20h (el mejor en todos los casos)\n",
        "\n",
        "Si el horario del partido no se realiza a las 20 horas del sábado se sabe que se reduce según los coeficientes de la siguiente tabla (consultar tabla)\n",
        "\n",
        "Debemos asignar obligatoriamente siempre un partido el viernes y un partido el lunes.\n",
        "\n",
        "Es posible la coincidencia de horarios pero en este\n",
        "caso la audiencia de cada partido se verá afectada y\n",
        "se estima que se reduce en porcentaje según la\n",
        "siguiente tabla dependiendo del número de\n",
        "coincidencias: (consultar tabla)\n",
        "\n",
        "(*) La respuesta es obligatoria\n",
        "                                        "
      ]
    },
    {
      "cell_type": "code",
      "metadata": {
        "id": "AiskKkzZfy4e",
        "colab_type": "code",
        "colab": {}
      },
      "source": [
        ""
      ],
      "execution_count": 0,
      "outputs": []
    },
    {
      "cell_type": "markdown",
      "metadata": {
        "id": "3_-exlrTgLd-",
        "colab_type": "text"
      },
      "source": [
        "(*)¿Cuantas posibilidades hay sin tener en cuenta las restricciones?<br>\n",
        "\n",
        "\n",
        "\n",
        "¿Cuantas posibilidades hay teniendo en cuenta todas las restricciones.\n",
        "\n",
        "\n"
      ]
    },
    {
      "cell_type": "markdown",
      "metadata": {
        "id": "WfCUqJyKhPcw",
        "colab_type": "text"
      },
      "source": [
        "*Respuesta*\n",
        "\n",
        "El numero de posibilidades sin tener en cuenta las restricciones (que deba haber un partido los viernes y los lunes) lo he calculado de la siguiente manera:\n",
        "1º: Calculo el numero de posibilidades de combinacion de equipos para una jornada. Para calcular esto, hago uso de la siguiente formula:\n",
        "\n",
        "$\\frac{(2n)!}{2^n n!}$ siendo $n = nºequipos/2$\n",
        "\n",
        "2º: Calculo la posible distribucion de esos equipos en funcion del numero de franjas horarias. Para calcular eso, utilizo la siguiente formula:\n",
        "$n^h$ siendo $h$ el numero de franjas horarias disponibles.\n",
        "\n",
        "Por lo tanto, la formula final queda así:\n",
        "$\\frac{(2n)!}{2^n n!} n^h$ \n",
        "\n"
      ]
    },
    {
      "cell_type": "code",
      "metadata": {
        "id": "iq6Fe32MgpDX",
        "colab_type": "code",
        "colab": {
          "base_uri": "https://localhost:8080/",
          "height": 34
        },
        "outputId": "212bdfb7-f990-4388-f574-cb1c859d5b63"
      },
      "source": [
        "import math\n",
        "equipos = 20\n",
        "horas =  10\n",
        "n = equipos/2\n",
        "partidos = math.factorial(2*n)/(2**n * math.factorial(n))\n",
        "total = (n**horas) * partidos\n",
        "print(\"El numero total de posibilidades es de\",total)"
      ],
      "execution_count": 4,
      "outputs": [
        {
          "output_type": "stream",
          "text": [
            "El numero total de posibilidades es de 6.54729075e+18\n"
          ],
          "name": "stdout"
        }
      ]
    },
    {
      "cell_type": "markdown",
      "metadata": {
        "id": "dzynfVJahHoY",
        "colab_type": "text"
      },
      "source": [
        "Modelo para el espacio de soluciones<br>\n",
        "(*) ¿Cual es la estructura de datos que mejor se adapta al problema? Argumentalo.(Es posible que hayas elegido una al principio y veas la necesidad de cambiar, arguentalo)\n"
      ]
    },
    {
      "cell_type": "markdown",
      "metadata": {
        "id": "xFIJrOwKi2Ti",
        "colab_type": "text"
      },
      "source": [
        "*Respuesta*\n",
        "\n",
        "Teniendo en cuenta el algoritmo utilizado para la resolucion del problema, asi como los mecanismos empleados, se ha utilizado la siguientes estrucutra de datos: \n",
        "\n",
        "Los equipos vienen etiquedaso segun su categoria y un numero. Los partidos estan codificados en forma de set de dos elementos. Se ha creado una lista con tantos elementos como franjas horarias. Cada uno de sus elementos es una lista que contiene los partidos jugados a esa hora. Si no se juega a esa hora ningun partido, la lista estará vacía.\n",
        "\n",
        "Se ha elegido esta estructura porque me daba mucha facilidad para acceder a los partidos en funcion de la hora, controlar los partidos que habia a cada hora, etc. Además, el lenguaje de programacion utilizado da muchas facilidades a la hora de trabajar con listas.\n",
        "\n",
        "Respecto a las estructuras de datos para contener los datos del problema, se han utilizado las siguientes:\n",
        "- Para determinar la audiencia en función de la categoria de los equipos, se ha utilizado un diccionario.\n",
        "- Para determinar el porcentaje de audiencia en funcion de la hora, una lista, donde cada elemento indica el porcentaje de audiencia que tendria la franja horaria en esa psocion de la lista. El primer elemento corresponderia a la primera franja horaria disponible y el último a la ultima.\n",
        "- Para determinar la reduccion de audiencia en funcion de las coincidencias, se ha utilizado una lista, donde el primer elemento indica si hay un equipo en esa franja, el segundo si hay dos, etc..."
      ]
    },
    {
      "cell_type": "code",
      "metadata": {
        "id": "BMHkiJCnDIka",
        "colab_type": "code",
        "colab": {}
      },
      "source": [
        "equipos = [\"A1\", \"A2\", \"A3\", \"A4\", \"B1\", \"B2\", \"B3\", \"B4\", \"B5\", \n",
        "           \"B6\",\"B7\", \"B8\", \"B9\", \"B10\",\"C1\", \"C2\", \"C3\", \"C4\", \"C5\", \"C6\"]\n",
        " audiencia_max = {'AA': 2,\n",
        "    'AB': 1.3,\n",
        "    'AC': 1,\n",
        "    'BB': 0.9,\n",
        "    'BC': 0.75,\n",
        "    'CC': 0.47}\n",
        "    \n",
        "audiencia_percent = [0.4, 0.55, 0.7, 0.8, 1, 0.45, 0.75,0.5, 1, 0.4]\n",
        "coincidencias = [0, 0.25, 0.45, 0.60, 0.70, 0.75, 0.78, 0.8, 0.8]\n",
        "\n",
        "solucion = [[('B9', 'B7'), ('B3', 'C3')],\n",
        " [],\n",
        " [('C4', 'B1'), ('B6', 'C2'), ('C6', 'A3')],\n",
        " [('A2', 'B8')],\n",
        " [('B5', 'A1')],\n",
        " [],\n",
        " [('C5', 'B2')],\n",
        " [],\n",
        " [('B10', 'B4')],\n",
        " [('A4', 'C1')]]\n",
        "\n"
      ],
      "execution_count": 0,
      "outputs": []
    },
    {
      "cell_type": "markdown",
      "metadata": {
        "id": "7Z9U2W7bi-XS",
        "colab_type": "text"
      },
      "source": [
        "Según el modelo para el espacio de soluciones<br>\n",
        "(*)¿Cual es la función objetivo?\n",
        "\n",
        "(*)¿Es un problema de maximización o minimización?"
      ]
    },
    {
      "cell_type": "markdown",
      "metadata": {
        "id": "hBalWLM7j1_d",
        "colab_type": "text"
      },
      "source": [
        "*Respuesta*\n",
        "\n",
        "La funcion objetivo busca determinar la audiencia dada una determinada solucion, haciendo uso de las estrucutras explicadas en la celda sueprior. Se calcula la audiendia que se obtiene en cada partido, teniendo en cuenta la categoría de los equipos, la franja horaria y cuanqos equipos coinciden en ella y se suman, obteniendo asi la audiencia total de la jornada.\n",
        "\n",
        "Es un problema de maximizacion."
      ]
    },
    {
      "cell_type": "code",
      "metadata": {
        "id": "pDA-rg3Gj5Lz",
        "colab_type": "code",
        "colab": {}
      },
      "source": [
        "def get_fitness(indiv):\n",
        "    '''\n",
        "    Evalúa a cada individuo. \n",
        "    Tiene en cuenta todos los aspectos que se mencionaron en la primera celda de este Notebook: \n",
        "    categoria de los equipos, hora a la que juegan y numero de coincidencias.\n",
        "    Si no hay individuo en la primera o la última franja horaria, el fitness del individuo es cero, \n",
        "    ya que no se cumple una condicón del problema por lo que la solcion condificada por el individuos no es válida. \n",
        "    '''\n",
        "    fitness = 0\n",
        "    for hora, i in enumerate(indiv):\n",
        "        if len(i) > 0:\n",
        "            for match in i:\n",
        "                tipo = ''.join(sorted( match[0][0] + match[1][0]))\n",
        "                audience = audiencia_max[tipo] * audiencia_percent[hora]\n",
        "                audience -= audience*coincidencias[len(i)-1]\n",
        "                fitness += audience\n",
        "    if (len(indiv[0]) == 0 or len(indiv[-1]) == 0 ):\n",
        "        fitness = 0\n",
        "    return fitness "
      ],
      "execution_count": 0,
      "outputs": []
    },
    {
      "cell_type": "markdown",
      "metadata": {
        "id": "rlnTYgY1j6I2",
        "colab_type": "text"
      },
      "source": [
        "Diseña un algoritmo para resolver el problema por fuerza bruta"
      ]
    },
    {
      "cell_type": "markdown",
      "metadata": {
        "id": "70rDgxYXkC8r",
        "colab_type": "text"
      },
      "source": [
        "*Respuesta*\n",
        "\n",
        "Resolver este problema por fuerza bruta tiene un coste computacional muy elevado. Sin embargo, se ha planteado como podría ser el algoritmo que lo resolviera, así como las principales funciones que serian necesarias.\n",
        "\n",
        "\n",
        "\n",
        "```\n",
        "combinaciones_partidos = obtenerPartidos(n_equipos)\n",
        "combinaciones_horas = obtenerHoras(n_equipos, n_horas)\n",
        "\n",
        "mejor_apt = 0\n",
        "mejor_solucion = None\n",
        "\n",
        "for horas in combinaciones_horas:\n",
        "    for partidos in combinaciones_partidos:\n",
        "        solucion = crear_solucion(horas, partidos)\n",
        "        aptitud = get_fitness(solucion)\n",
        "        if aptitud > mejor_apt:\n",
        "            mejor_apt = aptitud\n",
        "            mejor_solucion = solucion\n",
        "\n",
        "```\n",
        "A continuacion, se muestran las funciones que se implementaron para el algoritmo descrito. Para poder ejecutarlo, es recomendable modificar las estructuras de datos en las que se recogen los parametros del problema con el objetivo de reducir el problema, reduciendo el numero de equipos y el numero de horas.\n"
      ]
    },
    {
      "cell_type": "code",
      "metadata": {
        "id": "kwOh-m-wTavV",
        "colab_type": "code",
        "colab": {}
      },
      "source": [
        "import itertools\n",
        "\n",
        "def dele_duplicates(total): #elimina combinaciones repetidas\n",
        "    tipos = []\n",
        "    res = []\n",
        "    for i in range(len(total)):\n",
        "        if ''.join(sorted(total[i])) not in tipos:\n",
        "            res.append(total[i])\n",
        "            tipos.append(''.join(sorted(total[i])))\n",
        "    return res\n",
        "'''\n",
        "Funciones para crear los posibles partidos\n",
        "'''\n",
        "def crear_hijos_partidos(sol, partidos, i):\n",
        "    res = []\n",
        "\n",
        "    for p in partidos:\n",
        "        sol1 = sol[:]\n",
        "        sol1[i] = ''.join(p)\n",
        "        res.append(sol1)\n",
        "    return res\n",
        "\n",
        "def obtener_equipos(n):\n",
        "    alph = 'abcdefghijklmnopqrstuvwxyz'\n",
        "    equipos = [alph[i] for i in range(0, n)]\n",
        "    posibles = list(itertools.permutations(equipos, 2))\n",
        "    posibles = list(set([''.join(sorted(p)) for p in posibles]))\n",
        "    sol = []\n",
        "\n",
        "    for p in posibles:\n",
        "        pos = ['']*(n//2)\n",
        "        pos[0] = ''.join(p)\n",
        "        sol.append(pos)\n",
        "    sol = sorted(sol)[:n-1]  \n",
        "    for i in range(1, n//2):\n",
        "        nuevas = []\n",
        "        for s in sol:\n",
        "            p_usados = ''.join(s)\n",
        "            p_restantes = [p for p in equipos if p not in p_usados]\n",
        "            posibles = list(itertools.permutations(p_restantes, 2))\n",
        "            posibles = list(set([''.join(sorted(p)) for p in posibles]))\n",
        "            nuevas  = nuevas + crear_hijos_partidos(s, posibles, i)\n",
        "        sol = nuevas[:]\n",
        "    sol = dele_duplicates(sol)\n",
        "    return sol\n",
        "'''\n",
        "Funciones para crear los posibles horarios\n",
        "'''\n",
        "def crear_hijos(sol, partidos, horas):\n",
        "    res = []\n",
        "    for h in horas:\n",
        "        for p in partidos:\n",
        "            sol1 = sol[:]\n",
        "            sol1[h-1] = ''.join(sorted(sol[h-1]+p))\n",
        "            res.append(sol1)\n",
        "    return res\n",
        "\n",
        "def obtener_horas(n,h):\n",
        "    n = n//2\n",
        "    p = \"ABCDEFGHIJKLMNOPQRSTUVWXYZ\"\n",
        "    sol = []\n",
        "    horas = [i for i in range(1,h+1)]\n",
        "    partidos = p[:n]\n",
        "    for h in horas:\n",
        "        for p in partidos:\n",
        "            pos = ['']*len(partidos)\n",
        "            pos[h-1] = p\n",
        "            sol.append(pos)\n",
        "    start = len(sol)\n",
        "    end = 0\n",
        "    while  start!=end:\n",
        "        start = len(sol)\n",
        "        nuevas = sol[:]\n",
        "        for s in sol:\n",
        "            p_usados = ''.join(s)\n",
        "            p_restantes = [p for p in partidos if p not in p_usados]\n",
        "            if len(p_restantes) > 0:\n",
        "                hijos = crear_hijos(s, p_restantes, horas)\n",
        "                nuevas  = nuevas + hijos\n",
        "        nuevas.sort()\n",
        "        nuevas = list(nuevas for nuevas,_ in itertools.groupby(nuevas))\n",
        "        end = len(nuevas)\n",
        "        sol = nuevas[:]\n",
        "    resultado = [el for el in nuevas if sum(len(n) for n in el) == len(partidos)]\n",
        "    return resultado\n",
        "\n",
        "n_equipos = 4\n",
        "n_horas = 2\n",
        "combinaciones_partidos = obtener_equipos(n_equipos)\n",
        "combinaciones_horas = obtener_horas(n_equipos,n_horas)\n",
        "\n",
        "def rename_equipos(categorias):\n",
        "    equipos =  'abcdefghijklmnopqrstuvwxyz'\n",
        "    transform = {}\n",
        "    for i in range(len(categorias)):\n",
        "        transform[equipos[i]] = categorias[i]\n",
        "    return transform\n",
        "\n",
        "#el parametro equipos es el definido en preguntas anteriores\n",
        "def crear_solucion(partidos, horario, equipos):\n",
        "    nombres = rename_equipos(nombres)\n",
        "    p = \"ABCDEFGHIJKLMNOPQRSTUVWXYZ\"\n",
        "    prueba = {}\n",
        "    for i in range(len(partidos)):\n",
        "        prueba[p[i]] = partidos[i]\n",
        "    solucion = []\n",
        "    \n",
        "    for h in horario:\n",
        "        match = []\n",
        "        for a in h:\n",
        "            match.append((nombres[prueba[a][0]], nombres[prueba[a][1]]))\n",
        "        solucion.append(match) \n",
        "\n",
        "    return solucion\n",
        "\n",
        "solucion = crear_solucion(combinaciones_partidos[2], combinaciones_horas[2],nombres)"
      ],
      "execution_count": 0,
      "outputs": []
    },
    {
      "cell_type": "markdown",
      "metadata": {
        "id": "tgrnsC2nkFa8",
        "colab_type": "text"
      },
      "source": [
        "Calcula la complejidad del algoritmo por fuerza bruta"
      ]
    },
    {
      "cell_type": "markdown",
      "metadata": {
        "id": "9eUd3xwckP68",
        "colab_type": "text"
      },
      "source": [
        "Respuesta"
      ]
    },
    {
      "cell_type": "code",
      "metadata": {
        "id": "rvZWwL-ckRST",
        "colab_type": "code",
        "colab": {}
      },
      "source": [
        ""
      ],
      "execution_count": 0,
      "outputs": []
    },
    {
      "cell_type": "markdown",
      "metadata": {
        "id": "txbrmLmskReM",
        "colab_type": "text"
      },
      "source": [
        "(*)Diseña un algoritmo que mejore la complejidad del algortimo por fuerza bruta. Argumenta porque crees que mejora el algoritmo por fuerza bruta"
      ]
    },
    {
      "cell_type": "markdown",
      "metadata": {
        "id": "hLrVwt5QkZPD",
        "colab_type": "text"
      },
      "source": [
        "*Respuesta*\n",
        "\n",
        "Se ha decidido utilizar un Algoritmo Genético para la resolución del problema. Al ser un algoritmo heurístico, no podemos asegurar que la solucion que nos vaya a dar sea la mejor posible, pero es capaz de encontrar una en un tiempo razonable, cosa que, debido a la magnitud de las soluciones posibles en el algoritmo por fuerza bruta, no es posible. En  las siguientes celdas se va a mostrar y explicar el algoritmo diseñado.\n"
      ]
    },
    {
      "cell_type": "markdown",
      "metadata": {
        "id": "rPUk09X5hNyg",
        "colab_type": "text"
      },
      "source": [
        "Infomarcion relativa al problema a resolver:\n",
        "- Equipos que juegan: irán identificados de la siguiente manera: *{cateogria}{id}*\n",
        "- Numero de franjas horarias\n",
        "- Audienca según categorías: audiencia en millones que tendrá un partido en función de la categoría de los equipos que participen.\n",
        "- % Audiencia según horario: lista en la cual viene asignado el pocentaje de visualización que tendrá un partido en función de la hora. Viene ordenada de manera temporal, por lo que el primer elemento de la lista es el porcentaje para la primera franja horaria de la jornada y el último, para la última.\n",
        "- % reduccion de audiencia según coincidencias: porcentaje de reducción de audiencia en función del número de equipos que coincidan a la misma hora."
      ]
    },
    {
      "cell_type": "code",
      "metadata": {
        "id": "j7hJ8-XQhNyl",
        "colab_type": "code",
        "colab": {}
      },
      "source": [
        "equipos = [\"A1\", \"A2\", \"A3\", \"A4\", \"B1\", \"B2\", \"B3\", \"B4\", \"B5\", \n",
        "           \"B6\",\"B7\", \"B8\", \"B9\", \"B10\",\"C1\", \"C2\", \"C3\", \"C4\", \"C5\", \"C6\"] #equipos que toman parte en la comeptición\n",
        "horas = 10\n",
        "audiencia_max = {'AA': 2,\n",
        "    'AB': 1.3,\n",
        "    'AC': 1,\n",
        "    'BB': 0.9,\n",
        "    'BC': 0.75,\n",
        "    'CC': 0.47}\n",
        "audiencia_percent = [0.4, 0.55, 0.7, 0.8, 1, 0.45, 0.75,0.5, 1, 0.4]\n",
        "coincidencias = [0, 0.25, 0.45, 0.60, 0.70, 0.75, 0.78, 0.8, 0.8]"
      ],
      "execution_count": 0,
      "outputs": []
    },
    {
      "cell_type": "markdown",
      "metadata": {
        "id": "Hc5O2nO3hNy1",
        "colab_type": "text"
      },
      "source": [
        "Funciones para generar los individuos del Algoritmo Genético. Los indivudos son codificaciones de posibles soluciones."
      ]
    },
    {
      "cell_type": "code",
      "metadata": {
        "id": "U9Mt96gthNy5",
        "colab_type": "code",
        "colab": {}
      },
      "source": [
        "def generate_matchs(equipos):\n",
        "    '''\n",
        "    Función que genera los partido. \n",
        "    Escoge un equipo aleatorio de la lista, lo saca y, de los restantes, \n",
        "    obtiene el contrincante, el cual se elimina tambien de la lista.\n",
        "    Este proceso se repite mientras que la lista tenga elementos.\n",
        "    '''\n",
        "    teams = equipos.copy()\n",
        "    def_teams = []\n",
        "    while len(teams) != 0:\n",
        "        equipo1 = random.choice(teams)\n",
        "        teams.remove(equipo1)\n",
        "        equipo2 = random.choice(teams)\n",
        "        teams.remove(equipo2)\n",
        "        def_teams.append((equipo1, equipo2))\n",
        "    return def_teams\n",
        "\n",
        "def generate_indiv(horas, equipos):\n",
        "    '''\n",
        "    Función que genera los individuos para el algoritmo genético.\n",
        "    Cada individuo es una lista de listas, donde cada elemento de la lista \n",
        "    contiene la lista de partidos que se va a jugar a una hora determinada.\n",
        "    Longitud de la lista: numero de franjas horarias\n",
        "    Longitud de cada elemento: partidos que se juegan a una hora determinada (puede estar vacia)\n",
        "    IMPORTANTE: Nos asguramos de que a la primera y a la última hora haya siempre un partido.\n",
        "    '''\n",
        "    partidos = generate_matchs(equipos)\n",
        "    indiv = [[]  for i in range(horas)]\n",
        "    indiv[0].append(partidos[0])\n",
        "    indiv[horas-1].append(partidos[1])\n",
        "    for p in partidos[2:]:\n",
        "        hora =  random.randint(0,horas-1)\n",
        "        indiv[hora].append(p)\n",
        "    return indiv\n",
        "    \n",
        "def generate_population(size_population, horas, equipos):\n",
        "    '''\n",
        "    Generamos la población de individuos.\n",
        "    '''\n",
        "    population = [generate_indiv(horas, equipos) for i in range (size_population)]\n",
        "    return population\n",
        "            "
      ],
      "execution_count": 0,
      "outputs": []
    },
    {
      "cell_type": "markdown",
      "metadata": {
        "id": "0SS7huQ9hNzB",
        "colab_type": "text"
      },
      "source": [
        "Funciones para evaluar los individuos."
      ]
    },
    {
      "cell_type": "code",
      "metadata": {
        "id": "HxCsdlTlhNzE",
        "colab_type": "code",
        "colab": {}
      },
      "source": [
        "def get_fitness(indiv):\n",
        "    '''\n",
        "    Evalúa a cada individuo. \n",
        "    Tiene en cuenta todos los aspectos que se mencionaron en la primera celda de este Notebook: \n",
        "    categoria de los equipos, hora a la que juegan y numero de coincidencias.\n",
        "    Si no hay individuo en la primera o la última franja horaria, el fitness del individuo es cero, \n",
        "    ya que no se cumple una condicón del problema por lo que la solcion condificada por el individuos no es válida. \n",
        "    '''\n",
        "    fitness = 0\n",
        "    for hora, i in enumerate(indiv):\n",
        "        if len(i) > 0:\n",
        "            for match in i:\n",
        "                tipo = ''.join(sorted( match[0][0] + match[1][0]))\n",
        "                if tipo not in audiencia_max:\n",
        "                    print(match[0], match[1])\n",
        "                audience = audiencia_max[tipo] * audiencia_percent[hora]\n",
        "                audience -= audience*coincidencias[len(i)-1]\n",
        "                fitness += audience\n",
        "    if (len(indiv[0]) == 0 or len(indiv[-1]) == 0 ):\n",
        "        print(\"Individuo no válido. DEAD\")\n",
        "        fitness = 0\n",
        "    return fitness \n",
        "\n",
        "def rank_generation(population, order = True):\n",
        "    '''\n",
        "    Le asigna una puntuacion a cada elemento de la población. \n",
        "    Si el parametro order es True, se devuelven ordenados según su puntuación.\n",
        "    '''    \n",
        "    rank = {}\n",
        "    for i in range(len(population)):\n",
        "        rank[i] = get_fitness(population[i]) ** 2\n",
        "    if order:\n",
        "        rank = {k: v for k, v in sorted(rank.items(), key=lambda item: item[1], reverse= True)}\n",
        "    return rank\n",
        "    "
      ],
      "execution_count": 0,
      "outputs": []
    },
    {
      "cell_type": "markdown",
      "metadata": {
        "id": "Pug5-eIFhNzL",
        "colab_type": "text"
      },
      "source": [
        "Operadores del algoritmo    \n",
        "- **Elitismo**: se escogen los mejores individuos de la población y pasan directamente a\n",
        "la generación siguiente. La cantidad de individuos elegida se determina\n",
        "mediante un porcentaje de elitismo (pe)\n",
        "- **Selección**: se ha utilizado la selección por ruleta.\n",
        "- **Crossover**: operador más problematico. El crossover clásico no puede ser\n",
        "utilizado debido a que generaría muchos individuos no válidos, ya que al cruzar dos individuos es muy probable que dejaramos individuos sin algunos equipos y con otros repetidos, lo que no es posible. Como solución, se ha diseñado el siguiente método de crossover.\n",
        "Tenemos los siguientes individuos:\n",
        "\n",
        "<table>\n",
        "\n",
        "  <tr style=\"border:1px solid black\" >\n",
        "   <tr>\n",
        "    <th> </th>\n",
        "    <th>Hora 1</th>\n",
        "    <th>Hora 2</th> \n",
        "    <th>Hora 3</th>\n",
        "    <th>Hora 4</th>\n",
        "    <th>Hora 5</th>\n",
        "  </tr>\n",
        "    <th>Individuo 1</th>\n",
        "    <td>[A1,B2][A3,C1]</td>\n",
        "    <td>[A2,B1]</td>\n",
        "    <td> </td>\n",
        "    <td>[C2,B3]</td>\n",
        "    <td> </td>\n",
        "  </tr>\n",
        "  <tr>\n",
        "     <th>Individuo 2</th>\n",
        "    <td>[A3,C1]</td>\n",
        "    <td>[B3,A1]</td>\n",
        "    <td>[A2,C2]</td>\n",
        "    <td></td>\n",
        "    <td>[B1,B2]</td>\n",
        "  </tr>\n",
        "\n",
        "</table>\n",
        "\n",
        "Elegimos un equipo de manera aleatoria: **A2** <br>\n",
        "El cruce consiste en sustituir los adversarios del individuo seleccionado <br>\n",
        "\n",
        "<table>\n",
        "  <tr style=\"border:1px solid black\" >\n",
        "   <tr>\n",
        "    <th> </th>\n",
        "    <th>Hora 1</th>\n",
        "    <th>Hora 2</th> \n",
        "    <th>Hora 3</th>\n",
        "    <th>Hora 4</th>\n",
        "    <th>Hora 5</th>\n",
        "  </tr>\n",
        "    <th>Individuo 1</th>\n",
        "    <td>[A1,B2][A3,C1]</td>\n",
        "    <td>[A2,C2]</td>\n",
        "    <td> </td>\n",
        "    <td>[C2,B3]</td>\n",
        "    <td> </td>\n",
        "  </tr>\n",
        "  <tr>\n",
        "     <th>Individuo 2</th>\n",
        "    <td>[A3,C1]</td>\n",
        "    <td>[B3,A1]</td>\n",
        "    <td>[A2,B1]</td>\n",
        "    <td></td>\n",
        "    <td>[B1,B2]</td>\n",
        "  </tr>\n",
        "\n",
        "</table>\n",
        "\n",
        "Como es fácil observar, tras esta operación, se eliminaría un equipo de un\n",
        "individuo(el antiguo contrincante del equipo seleccionado) y otro estaría\n",
        "repetido (el nuevo contrincante). Esto se arreglaria como se ve en la\n",
        "siguiente tabla:\n",
        "\n",
        "<table>\n",
        "  <tr style=\"border:1px solid black\" >\n",
        "   <tr>\n",
        "    <th> </th>\n",
        "    <th>Hora 1</th>\n",
        "    <th>Hora 2</th> \n",
        "    <th>Hora 3</th>\n",
        "    <th>Hora 4</th>\n",
        "    <th>Hora 5</th>\n",
        "  </tr>\n",
        "    <th>Individuo 1</th>\n",
        "    <td>[A1,B2][A3,C1]</td>\n",
        "    <td>[A2,C2]</td>\n",
        "    <td> </td>\n",
        "    <td>[B1,B3]</td>\n",
        "    <td> </td>\n",
        "  </tr>\n",
        "  <tr>\n",
        "     <th>Individuo 2</th>\n",
        "    <td>[A3,C1]</td>\n",
        "    <td>[B3,A1]</td>\n",
        "    <td>[A2,B1]</td>\n",
        "    <td></td>\n",
        "    <td>[C2,B2]</td>\n",
        "  </tr>\n",
        "</table>\n",
        "\n",
        "- **Mutación**: el proceso de mutación consistiría en seleccionar aleatoriamente\n",
        "partido y moverlo a otra de manera aleatoria. Para evitar la creación\n",
        "de individuos no válidos, se pone como restricción que los partidos\n",
        "de la primera y la última franja horaria solo puedan ser elegidos si\n",
        "existen más de dos partidos."
      ]
    },
    {
      "cell_type": "code",
      "metadata": {
        "id": "VQux-dcIDiEv",
        "colab_type": "code",
        "colab": {}
      },
      "source": [
        "def elitism(g, rank, elitism = 0.2):\n",
        "    '''\n",
        "    Elige los mejores individos de una poblacion.\n",
        "    '''\n",
        "    best_indiv = list(rank.keys())[:round(len(g)*elitism)]\n",
        "    elit = [g[i] for i in best_indiv]\n",
        "    return elit"
      ],
      "execution_count": 0,
      "outputs": []
    },
    {
      "cell_type": "code",
      "metadata": {
        "id": "ygs262sDhNzN",
        "colab_type": "code",
        "colab": {}
      },
      "source": [
        "def selection(population, rank, size):\n",
        "    '''\n",
        "    Operador de seleccion mediante ruleta. \n",
        "    '''\n",
        "    g1 = [] #new generation\n",
        "\n",
        "    #Creacion de la ruleta\n",
        "    total = sum(list(rank.values())) #obtiene la suma total de todas las aptitudes\n",
        "    N= 100 #numero de casillas de la ruleta\n",
        "    roulette = []\n",
        "    for element in list(rank.keys()):   # para cada individuo\n",
        "        portion = rank[element]/total   # dividimos su aptitud entre la suma total\n",
        "        casillas = round(portion * N)   # multiplicamos por el numero de casillas de la ruleta, \n",
        "                                        #   para saber cuantas casillas le corresponden a ese individuo dentro de la ruleta\n",
        "       # print(\"Al elemento \", element, \"con valor \", portion, \"le corresponden \", casillas)\n",
        "        for i in range (casillas):\n",
        "            roulette.append(element)    # añadimos el numero de casillas correspondientes a este individuo a la ruleta\n",
        "\n",
        "    #Proceso de seleccion\n",
        "    N = len(roulette)                       # ajustamos el numero de casillas de la ruleta \n",
        "                                            # (Debido a los redondeos, puede que haya mas o menos casillas que las esteblecidas incialmente)\n",
        "    for i in range(size):                   # Sacamos un numero aletaorio entre 0 y N y añadimos a la poblacion final el individuo que este en la ruleta en la casilla en esa posicion\n",
        "        valor =  random.randint(0, N-1)     # Este proceso se realiza tantas veces como individuos deba tener la siguiente poblacion    \n",
        "        g1.append(g[roulette[valor]])\n",
        "    return g1                               \n"
      ],
      "execution_count": 0,
      "outputs": []
    },
    {
      "cell_type": "code",
      "metadata": {
        "id": "DScgPPc1hNzR",
        "colab_type": "code",
        "colab": {}
      },
      "source": [
        "def delete_element(match, elem):\n",
        "    '''\n",
        "    Function que elimina un equipo de un partido\n",
        "    '''\n",
        "    a = list(match)\n",
        "    a.remove(elem)\n",
        "    return a[0]\n",
        "\n",
        "def make_crossover(indiv1, indiv2):\n",
        "    '''\n",
        "    Funcion que realiza el crossover de dos individuos. \n",
        "    Sigue las instrucciones presentadas en celdas superiores\n",
        "    '''\n",
        "    global equipos\n",
        "    team = random.choice(equipos)       # Equipo que se someterá al cruce     \n",
        "    \n",
        "    i_val_1 = 0\n",
        "    j_val_1 = 0\n",
        "    i_val_2 = 0\n",
        "    j_val_2 = 0\n",
        "    for i in range(len(indiv1)):        # Buscamos el partido en el que juega el equipo y guardamos su adversario en el individuo 1\n",
        "        for j in range(len(indiv2[i])):\n",
        "            if team in indiv2[i][j]:\n",
        "                adversario2 = delete_element(indiv2[i][j], team)\n",
        "                i_val_2 = i\n",
        "                j_val_2 = j\n",
        "                break\n",
        "        for j in range(len(indiv1[i])):\n",
        "            if team in indiv1[i][j]:\n",
        "                adversario1 = delete_element(indiv1[i][j], team)\n",
        "                i_val_1 = i\n",
        "                j_val_1 = j\n",
        "                break\n",
        "\n",
        "    for i in range(len(indiv1)):\n",
        "        for j in range(len(indiv1[i])):\n",
        "            if adversario2 in indiv1[i][j]:\n",
        "                indiv1[i][j] = (delete_element(indiv1[i][j], adversario2) , adversario1)        # Hacemos el cambio de los adversarios\n",
        "                break\n",
        "        for j in range(len(indiv2[i])):\n",
        "            if adversario1 in indiv2[i][j]:\n",
        "                indiv2[i][j] = (delete_element(indiv2[i][j], adversario1) , adversario2)\n",
        "                break\n",
        "\n",
        "\n",
        "    indiv1[i_val_1][j_val_1] = (team, adversario2)\n",
        "    indiv2[i_val_2][j_val_2] = (team, adversario1)\n",
        "    return indiv1, indiv2\n",
        "\n",
        "def crossover(g1, pc):\n",
        "    '''\n",
        "    Función que divide entre los elementos que cruzan y los que no y realiza el crossover en los que si.\n",
        "    '''\n",
        "    A = []\n",
        "    g2 = []\n",
        "    for i in range(len(g1)):        #seleccionamos que elementos cruzan y cuales no\n",
        "        if random.random() < pc:\n",
        "            A.append(g1[i])\n",
        "        else:\n",
        "            g2.append(g1[i])\n",
        "    if len(A) %2 != 0:\n",
        "        g2.append(A.pop())\n",
        "    for i in range(0,len(A), 2):    #de entre los que cruzan, hacemos el cruce de dos en dos\n",
        "        indiv1, indiv2 = make_crossover(A[i], A[i+1])\n",
        "        g2.append(indiv1)\n",
        "        g2.append(indiv2)\n",
        "    return g2\n",
        " "
      ],
      "execution_count": 0,
      "outputs": []
    },
    {
      "cell_type": "code",
      "metadata": {
        "id": "Ar2NbmjmhNzV",
        "colab_type": "code",
        "colab": {}
      },
      "source": [
        "from copy import copy, deepcopy\n",
        "def make_mutations(indiv):\n",
        "    '''\n",
        "    Realizar la mutación de un individuo.\n",
        "    \n",
        "    '''\n",
        "    h_with_match = {}\n",
        "    for i in range(len(indiv)):     # obtenemos dentro de un individuo de qué franjas horarias podemos extraer un partido aletorio \n",
        "                                    # serian aquellas que tienen al menos un partido, menos la primera y la última, que deben tener al menos dos\n",
        "        n = len(indiv[i])\n",
        "        lim = 0                             \n",
        "        if i== 0 or i== len(indiv)-1 :\n",
        "            lim = 1\n",
        "        if n > lim:\n",
        "            h_with_match[i] = n\n",
        "\n",
        "    h = random.choice(list(h_with_match.keys()))    # obtenemos una franja aleatoria de las obtenidas en el paso anterior\n",
        "    m = random.randint(0, h_with_match[h]-1)        # obtenemos un partido aleatorio de los que hay en la franja horaria selecccionada\n",
        "    new_hour = random.randint(0, horas-1)           # obtenemos una nueva franja horaria, ahora de entre toads las disponibles y movemos el partido a esa hora\n",
        "    indiv[new_hour].append(indiv[h][m])\n",
        "    del indiv[h][m]\n",
        "    return indiv\n",
        "\n",
        "\n",
        "def mutation(g1, pm = 0.1):\n",
        "    #print(\"Mutation\")\n",
        "    g2 = []\n",
        "    for i in range(len(g1)):\n",
        "        if random.random() < pm:                            # aplicamos la probabilidad de mutacion para determinar si un indiv muta o no\n",
        "            new_indiv = make_mutations(deepcopy(g1[i]))\n",
        "            g2.append(new_indiv)\n",
        "        else:\n",
        "            g2.append(deepcopy(g1[i]))\n",
        "\n",
        "    return g2\n"
      ],
      "execution_count": 0,
      "outputs": []
    },
    {
      "cell_type": "markdown",
      "metadata": {
        "id": "xpw0s2f0om65",
        "colab_type": "text"
      },
      "source": [
        "Diseño del algoritmo\n",
        "\n",
        "A continuacion, se va a ver como las diferentes funciones que han sido explicadas son utilizadas."
      ]
    },
    {
      "cell_type": "code",
      "metadata": {
        "id": "Wt1f9-iZELb9",
        "colab_type": "code",
        "colab": {}
      },
      "source": [
        "def dibujar_resultado(mejor_indiv, mean_apt):\n",
        "    '''\n",
        "    Función para representar la aptitud de los resultados obtenidos\n",
        "    '''\n",
        "    plt.figure(figsize=(15,5))\n",
        "    plt.plot(mejor_indiv, label=\"Apt mejor individuo\")\n",
        "    plt.plot(mean_apt, label=\"Apt media\")\n",
        "    plt.ylabel(\"Aptitud\")\n",
        "    plt.xlabel(\"Generación\")\n",
        "    plt.title(\"Resultados\")\n",
        "    plt.legend()\n",
        "    plt.show()\n",
        "        "
      ],
      "execution_count": 0,
      "outputs": []
    },
    {
      "cell_type": "code",
      "metadata": {
        "id": "hm3oVeVyhNzc",
        "colab_type": "code",
        "outputId": "06ddabbf-cbe7-426f-e8d9-07495240c0da",
        "colab": {
          "base_uri": "https://localhost:8080/",
          "height": 384
        }
      },
      "source": [
        "import matplotlib.pyplot as plt\n",
        "import time\n",
        "import numpy as np \n",
        "import random\n",
        "\n",
        "res = []\n",
        "t = []\n",
        "epochs = 100\n",
        "pe = 0.2\n",
        "pm = 0.1\n",
        "pc = 0.8\n",
        "n = 50\n",
        "mejor_apt = 0\n",
        "mejor_solucion = None\n",
        "\n",
        "t1 = time.time()\n",
        "mejor_indiv = []    \n",
        "mean_apt = []\n",
        "g = generate_population(n, horas, equipos)\n",
        "\n",
        "for epoch in range(epochs):\n",
        "    rank = rank_generation(g)                           # Obtenemos una calificacion para cada individuo\n",
        "    mejor_apt_i = list(rank.values())[0]                # Guardamos la apt el mejor individuo y la media de la generacion. \n",
        "    mejor_indiv.append(mejor_apt_i)\n",
        "    mean_apt.append(np.mean(list(rank.values())))       \n",
        "    if mejor_apt_i > mejor_apt:                         # Si la aptitud del mejor individuo es la mejor hasta el momento, lo guardamos \n",
        "        mejor_apt =  mejor_apt_i  \n",
        "        mejor_solucion = g[list(rank.keys())[0]]     \n",
        "\n",
        "    #print(\"Mejor individiuo:\", mejor_indiv[-1])\n",
        "    elit = elitism(g, rank, pe)                         # Aplicamos elitismo. Los individuos devueltos pasan directamente a la siguietne generacion\n",
        "    size = len(g) -len(elit)\n",
        "    g1 = selection(g, rank,size )                       # Aplicamos seleccion\n",
        "    g1 = crossover(g1, pc)                              # Aplicamos crossover\n",
        "    g1 = mutation(g1, pm)                               # Aplicamos mutacion\n",
        "    g = g1 + elit                                       # Unimos la generacion obtenida con los individuos obtenidos en elitismo\n",
        "\n",
        "rank = rank_generation(g)\n",
        "mean_apt.append(np.mean(list(rank.values())))\n",
        "\n",
        "mejor_indiv.append(list(rank.values())[0])\n",
        "t2 = time.time()\n",
        "print(\"Tiempo de ejecucion (s):\", t2-t1)\n",
        "print(\"Aptitud del mejor individuo:\", max(mejor_indiv),\"Generacion:\",mejor_indiv.index(max(mejor_indiv)))\n",
        "dibujar_resultado(mejor_indiv, mean_apt)\n",
        "    \n"
      ],
      "execution_count": 42,
      "outputs": [
        {
          "output_type": "stream",
          "text": [
            "Tiempo de ejecucion (s): 0.2928614616394043\n",
            "Aptitud del mejor individuo: 57.87405625 Generacion: 33\n"
          ],
          "name": "stdout"
        },
        {
          "output_type": "display_data",
          "data": {
            "image/png": "[encoded data removed]",
            "text/plain": [
              "<Figure size 1080x360 with 1 Axes>"
            ]
          },
          "metadata": {
            "tags": []
          }
        }
      ]
    },
    {
      "cell_type": "markdown",
      "metadata": {
        "id": "eGDB4K6uk1iN",
        "colab_type": "text"
      },
      "source": [
        "(*)Calcula la complejidad del algoritmo "
      ]
    },
    {
      "cell_type": "markdown",
      "metadata": {
        "id": "NhpTh_BPk1ms",
        "colab_type": "text"
      },
      "source": [
        "*Respuesta*\n",
        "\n",
        "En un algoritmo genetico tenemos dos variables: \n",
        "- N: numero de individuos\n",
        "- l: longitud de cada individuo. \n",
        "- G: numero de iteraciones del algoritmo\n",
        "\n",
        "En el algortimo que he diseñado, cada uno de los operadores tiene la siguiente complejidad:\n",
        "- Fitness: recorremos cada toda la poblacion y cada gen del individuo, por lo tanto tendria complejidad O(Nl)\n",
        "- Seleccion: recorremos la poblacion entera, por lo tanto O(N)\n",
        "- Crossover: recorremos la poblacion entera, y en el peor caso (que todos haya crossover en todos los individuo), cada gen del individuo, por lo tanto O(Nl)\n",
        "- Mutacion: recorremos la pobalcion entera y, en el peor caso (que todos los individuos muten), cada gen del individuo, por lo tanto O(Nl).\n",
        "\n",
        "Todo ello se ejecuta en G ocasiones, por lo que podemos deducir que la complejidad del algoritmo es O(GNl). Recordemos que en este problema, el valor l es siempre el mismo e igual a 10. Sin embargo, el parametro N y el parametros G si que podemos modificarlos para buscar la configuración que nos proporciones mejores soluciones."
      ]
    },
    {
      "cell_type": "code",
      "metadata": {
        "id": "nREzhkStlCq8",
        "colab_type": "code",
        "colab": {}
      },
      "source": [
        ""
      ],
      "execution_count": 0,
      "outputs": []
    },
    {
      "cell_type": "markdown",
      "metadata": {
        "id": "3M6QjTsSkmYe",
        "colab_type": "text"
      },
      "source": [
        "Según el problema (y tenga sentido), diseña un juego de datos de entrada aleatorios"
      ]
    },
    {
      "cell_type": "markdown",
      "metadata": {
        "id": "Jc3_OlyNkvjZ",
        "colab_type": "text"
      },
      "source": [
        "*Respuesta*\n",
        "\n",
        "Vamos a generar unos datos de problema diferentes para probar el algoritmo. Por lo tanto, cambiaran las audiencias en función de la categoría (se sacaran valores aleatorios entre 0 y 3), los porcentajes de audiencia en funcion de la hora y de las coincidencias. Para estos dos ultimos, se sacarán valores aleatorios de entre 0 y 1."
      ]
    },
    {
      "cell_type": "code",
      "metadata": {
        "id": "sJ-N2etjkyWc",
        "colab_type": "code",
        "colab": {}
      },
      "source": [
        " audiencia_max = {'AA': 0,\n",
        "    'AB': 0,\n",
        "    'AC': 0,\n",
        "    'BB': 0,\n",
        "    'BC': 0,\n",
        "    'CC': 0}\n",
        "    \n",
        "for key in  audiencia_max.keys():\n",
        "    audiencia_max[key] = round(random.random() + random.randint(0,2),2)\n",
        "audiencia_percent = [random.random() for _ in range(10)]\n",
        "coincidencias = [random.random() for _ in range(9)]"
      ],
      "execution_count": 0,
      "outputs": []
    },
    {
      "cell_type": "markdown",
      "metadata": {
        "id": "zy5ZROmjlGo1",
        "colab_type": "text"
      },
      "source": [
        "Aplica el algoritmo al juego de datos generado"
      ]
    },
    {
      "cell_type": "markdown",
      "metadata": {
        "id": "_Cmj-PVylMsa",
        "colab_type": "text"
      },
      "source": [
        "Respuesta"
      ]
    },
    {
      "cell_type": "code",
      "metadata": {
        "id": "Jkx8GeiYlUz1",
        "colab_type": "code",
        "colab": {
          "base_uri": "https://localhost:8080/",
          "height": 384
        },
        "outputId": "e0818e92-5f4d-472c-bfd9-c1667bda8a76"
      },
      "source": [
        "import matplotlib.pyplot as plt\n",
        "import time\n",
        "import numpy as np \n",
        "import random\n",
        "\n",
        "res = []\n",
        "t = []\n",
        "epochs = 100\n",
        "pe = 0.2\n",
        "pm = 0.1\n",
        "pc = 0.8\n",
        "n = 50\n",
        "mejor_apt = 0\n",
        "mejor_solucion = None\n",
        "\n",
        "t1 = time.time()\n",
        "mejor_indiv = []    \n",
        "mean_apt = []\n",
        "g = generate_population(n, horas, equipos)\n",
        "\n",
        "for epoch in range(epochs):\n",
        "    rank = rank_generation(g)                           # Obtenemos una calificacion para cada individuo\n",
        "    mejor_apt_i = list(rank.values())[0]                # Guardamos la apt el mejor individuo y la media de la generacion. \n",
        "    mejor_indiv.append(mejor_apt_i)\n",
        "    mean_apt.append(np.mean(list(rank.values())))       \n",
        "    if mejor_apt_i > mejor_apt:                         # Si la aptitud del mejor individuo es la mejor hasta el momento, lo guardamos \n",
        "        mejor_apt =  mejor_apt_i  \n",
        "        mejor_solucion = g[list(rank.keys())[0]]     \n",
        "\n",
        "    #print(\"Mejor individiuo:\", mejor_indiv[-1])\n",
        "    elit = elitism(g, rank, pe)                         # Aplicamos elitismo. Los individuos devueltos pasan directamente a la siguietne generacion\n",
        "    size = len(g) -len(elit)\n",
        "    g1 = selection(g, rank,size )                       # Aplicamos seleccion\n",
        "    g1 = crossover(g1, pc)                              # Aplicamos crossover\n",
        "    g1 = mutation(g1, pm)                               # Aplicamos mutacion\n",
        "    g = g1 + elit                                       # Unimos la generacion obtenida con los individuos obtenidos en elitismo\n",
        "\n",
        "rank = rank_generation(g)\n",
        "mean_apt.append(np.mean(list(rank.values())))\n",
        "\n",
        "mejor_indiv.append(list(rank.values())[0])\n",
        "t2 = time.time()\n",
        "print(\"Tiempo de ejecucion (s):\", t2-t1)\n",
        "print(\"Aptitud del mejor individuo:\", max(mejor_indiv),\"Generacion:\",mejor_indiv.index(max(mejor_indiv)))\n",
        "dibujar_resultado(mejor_indiv, mean_apt)\n",
        "    "
      ],
      "execution_count": 33,
      "outputs": [
        {
          "output_type": "stream",
          "text": [
            "Tiempo de ejecucion (s): 0.3030357360839844\n",
            "Aptitud del mejor individuo: 201.06068069911487 Generacion: 44\n"
          ],
          "name": "stdout"
        },
        {
          "output_type": "display_data",
          "data": {
            "image/png": "[encoded data removed]",
            "text/plain": [
              "<Figure size 1080x360 with 1 Axes>"
            ]
          },
          "metadata": {
            "tags": []
          }
        }
      ]
    },
    {
      "cell_type": "markdown",
      "metadata": {
        "colab_type": "text",
        "id": "eTFWUJQrtGcv"
      },
      "source": [
        "Enumera las referencias que has utilizado(si ha sido necesario) para llevar a cabo el trabajo"
      ]
    },
    {
      "cell_type": "markdown",
      "metadata": {
        "id": "YKQ_mRBttWsP",
        "colab_type": "text"
      },
      "source": [
        "*Respuesta*\n",
        "\n",
        "Resolver combinatoria: https://www.unirioja.es/talleres/creatividad_matematica/SeminarioBachillerato/Combinatoria_teoria.pdf\n"
      ]
    },
    {
      "cell_type": "markdown",
      "metadata": {
        "id": "kAkDPUyRtYyH",
        "colab_type": "text"
      },
      "source": [
        "Describe brevemente las lineas de como crees que es posible avanzar en el estudio del problema. Ten en cuenta incluso posibles variaciones del problema y/o variaciones al alza del tamaño"
      ]
    },
    {
      "cell_type": "markdown",
      "metadata": {
        "id": "IE0uZmo-tZu-",
        "colab_type": "text"
      },
      "source": [
        "*Respuesta*\n",
        "\n",
        "La vía obvia para seguir el estudio de este problema sería generar el calendario completo de la liga, no solo una jornada. Sin embargo, me gustaría destacar que este problema lo podemos encontrar en numerosos campos. La generacion de un horario escolar en un colegio/insituto.. teniendo en cuenta que los profesores pueden dar más de una asignatura, a más de una clasa, y teniendo un recurso limitado de aulas puede ser un problema similar. En este caso no se buscaría maximizar un valor como la audiencia, si no ser capaces de generar soluciones que nos lleven a la válida. Debemos ser capaces de crear una funcion de aptitud que valores las soluciones teniendo en cuenta el potencial que tienen de convertirse en una solucion valida."
      ]
    },
    {
      "cell_type": "code",
      "metadata": {
        "id": "mUXLXRATJloi",
        "colab_type": "code",
        "colab": {}
      },
      "source": [
        ""
      ],
      "execution_count": 0,
      "outputs": []
    }
  ]
}