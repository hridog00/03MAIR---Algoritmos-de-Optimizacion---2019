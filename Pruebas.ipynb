{
  "nbformat": 4,
  "nbformat_minor": 0,
  "metadata": {
    "colab": {
      "name": "Pruebas.ipynb",
      "provenance": [],
      "authorship_tag": "ABX9TyPom0Fyew6nCas1XaIPla7+",
      "include_colab_link": true
    },
    "kernelspec": {
      "name": "python3",
      "display_name": "Python 3"
    }
  },
  "cells": [
    {
      "cell_type": "markdown",
      "metadata": {
        "id": "view-in-github",
        "colab_type": "text"
      },
      "source": [
        "<a href=\"https://colab.research.google.com/github/hridog00/03MAIR---Algoritmos-de-Optimizacion---2019/blob/master/Pruebas.ipynb\" target=\"_parent\"><img src=\"https://colab.research.google.com/assets/colab-badge.svg\" alt=\"Open In Colab\"/></a>"
      ]
    },
    {
      "cell_type": "markdown",
      "metadata": {
        "id": "lUlTfAODKKzL",
        "colab_type": "text"
      },
      "source": [
        "Mergesort"
      ]
    },
    {
      "cell_type": "code",
      "metadata": {
        "id": "G7hc2C-vKIvQ",
        "colab_type": "code",
        "colab": {}
      },
      "source": [
        "a = [54, 26, 93, 17, 77, 31, 44, 55, 20]"
      ],
      "execution_count": 0,
      "outputs": []
    },
    {
      "cell_type": "code",
      "metadata": {
        "id": "vugFKlG6KMby",
        "colab_type": "code",
        "colab": {}
      },
      "source": [
        "def merge_sort(a):\n",
        "    if len(a)>1:\n",
        "        m = len(a)//2\n",
        "        left = a[:m]\n",
        "        right = a[m:]\n",
        "        merge_sort(left)\n",
        "        merge_sort(right)\n",
        "\n",
        "        i = j = k = 0\n",
        "        while i < len(left) and j < len(right):\n",
        "            print(a)\n",
        "            if left[i] < right[j]:\n",
        "                a[k] = left[i]\n",
        "                i+=1\n",
        "            else:\n",
        "                a[k] = right[j]\n",
        "                j+=1\n",
        "            k+=1\n",
        "        while i < len(left): \n",
        "            a[k] = left[i] \n",
        "            i+=1\n",
        "            k+=1\n",
        "          \n",
        "        while j < len(right): \n",
        "            a[k] = right[j] \n",
        "            j+=1\n",
        "            k+=1"
      ],
      "execution_count": 0,
      "outputs": []
    },
    {
      "cell_type": "code",
      "metadata": {
        "id": "yaBZ7Z4CKvVj",
        "colab_type": "code",
        "colab": {
          "base_uri": "https://localhost:8080/",
          "height": 403
        },
        "outputId": "5e6831a3-4dc8-4200-974e-09256ba39172"
      },
      "source": [
        "a = [54, 26, 93, 17, 77, 31, 44, 55, 20]\n",
        "merge_sort(a)"
      ],
      "execution_count": 53,
      "outputs": [
        {
          "output_type": "stream",
          "text": [
            "[54, 26]\n",
            "[93, 17]\n",
            "[54, 26, 93, 17]\n",
            "[17, 26, 93, 17]\n",
            "[17, 26, 93, 17]\n",
            "[77, 31]\n",
            "[55, 20]\n",
            "[44, 55, 20]\n",
            "[20, 55, 20]\n",
            "[77, 31, 44, 55, 20]\n",
            "[20, 31, 44, 55, 20]\n",
            "[20, 31, 44, 55, 20]\n",
            "[20, 31, 44, 55, 20]\n",
            "[54, 26, 93, 17, 77, 31, 44, 55, 20]\n",
            "[17, 26, 93, 17, 77, 31, 44, 55, 20]\n",
            "[17, 20, 93, 17, 77, 31, 44, 55, 20]\n",
            "[17, 20, 26, 17, 77, 31, 44, 55, 20]\n",
            "[17, 20, 26, 31, 77, 31, 44, 55, 20]\n",
            "[17, 20, 26, 31, 44, 31, 44, 55, 20]\n",
            "[17, 20, 26, 31, 44, 54, 44, 55, 20]\n",
            "[17, 20, 26, 31, 44, 54, 55, 55, 20]\n"
          ],
          "name": "stdout"
        }
      ]
    },
    {
      "cell_type": "code",
      "metadata": {
        "id": "aTy8UsQXLFPg",
        "colab_type": "code",
        "colab": {}
      },
      "source": [
        ""
      ],
      "execution_count": 0,
      "outputs": []
    }
  ]
}