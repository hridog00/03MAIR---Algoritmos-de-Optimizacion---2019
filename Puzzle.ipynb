{
  "nbformat": 4,
  "nbformat_minor": 0,
  "metadata": {
    "colab": {
      "name": "Puzzle.ipynb",
      "provenance": [],
      "authorship_tag": "ABX9TyPvOEmWd4wW63S8QK7JLCPj",
      "include_colab_link": true
    },
    "kernelspec": {
      "name": "python3",
      "display_name": "Python 3"
    }
  },
  "cells": [
    {
      "cell_type": "markdown",
      "metadata": {
        "id": "view-in-github",
        "colab_type": "text"
      },
      "source": [
        "<a href=\"https://colab.research.google.com/github/hridog00/03MAIR---Algoritmos-de-Optimizacion---2019/blob/master/Puzzle.ipynb\" target=\"_parent\"><img src=\"https://colab.research.google.com/assets/colab-badge.svg\" alt=\"Open In Colab\"/></a>"
      ]
    },
    {
      "cell_type": "code",
      "metadata": {
        "colab_type": "code",
        "id": "ClJI0zhz9oh5",
        "colab": {}
      },
      "source": [
        "def imprimir(posicion):\n",
        "    print(\"------- \")\n",
        "    for i in posicion:\n",
        "        file = \"|\"\n",
        "        for j in i:\n",
        "            file += str(j) + str('|')\n",
        "        print(file)\n",
        "        print(\"------- \")"
      ],
      "execution_count": 0,
      "outputs": []
    },
    {
      "cell_type": "code",
      "metadata": {
        "colab_type": "code",
        "outputId": "5341bde5-6d36-48f9-e634-a156751086a9",
        "id": "6vBPo8oD9fom",
        "colab": {
          "base_uri": "https://localhost:8080/",
          "height": 289
        }
      },
      "source": [
        "posicion_inicial = [[1,2,3],[7,8,4],[6,'x',5]]\n",
        "posicion_deseada = [[1,2,3],[8,'x',4],[7,6,5]]\n",
        "print(\"Posicion incial\")\n",
        "imprimir(posicion_inicial)\n",
        "print(\"Posicion deseada\")\n",
        "imprimir(posicion_deseada)"
      ],
      "execution_count": 3,
      "outputs": [
        {
          "output_type": "stream",
          "text": [
            "Posicion incial\n",
            "------- \n",
            "|1|2|3|\n",
            "------- \n",
            "|7|8|4|\n",
            "------- \n",
            "|6|x|5|\n",
            "------- \n",
            "Posicion deseada\n",
            "------- \n",
            "|1|2|3|\n",
            "------- \n",
            "|8|x|4|\n",
            "------- \n",
            "|7|6|5|\n",
            "------- \n"
          ],
          "name": "stdout"
        }
      ]
    },
    {
      "cell_type": "code",
      "metadata": {
        "id": "dE-23zRcm2RD",
        "colab_type": "code",
        "colab": {
          "base_uri": "https://localhost:8080/",
          "height": 561
        },
        "outputId": "8a853114-f1c5-431f-fc55-62bcc420aa0a"
      },
      "source": [
        "import copy\n",
        "\n",
        "def get_prometedor(nodos):\n",
        "    recompensa =0\n",
        "    prometedor = None\n",
        "    for a in nodos:\n",
        "        if a['reward'] > recompensa:  \n",
        "            recompensa = a['reward'] \n",
        "            prometedor = a\n",
        "    return prometedor\n",
        "\n",
        "def reward(posicion, final): #funcion de coste, en este caso, de recompensa\n",
        "    total = 0\n",
        "    for i in range(len(posicion)):\n",
        "        for j in range(len(posicion[i])):\n",
        "            if posicion[i][j] == final[i][j] != 'x':\n",
        "                total += 1\n",
        "    return total\n",
        "\n",
        "def es_solucion(solucion): #conocer si una posicion determinada es solucion\n",
        "    if solucion == 8:\n",
        "        return True\n",
        "    return False\n",
        "\n",
        "def get_hueco(posicion): #obtener coordenadas del hueco\n",
        "    for i in range(len(posicion)):\n",
        "        for j in range(len(posicion[i])):\n",
        "            if posicion[i][j] == 'x':\n",
        "                return i, j\n",
        "\n",
        "def mover(posicion, tipo, i, j): #funcion para mover la pieza\n",
        "    hijo = copy.deepcopy(posicion)\n",
        "    if tipo == 'left':\n",
        "        hijo[i][j] = hijo[i][j+1]\n",
        "        hijo[i][j+1] = 'x'\n",
        "    elif tipo == 'right':\n",
        "        hijo[i][j] = hijo[i][j-1]\n",
        "        hijo[i][j-1] = 'x'\n",
        "    elif tipo == 'down':\n",
        "        hijo[i][j] = hijo[i-1][j]\n",
        "        hijo[i-1][j] = 'x'\n",
        "    elif tipo == 'up':\n",
        "        hijo[i][j] = hijo[i+1][j]\n",
        "        hijo[i+1][j] = 'x'\n",
        "    return hijo\n",
        "\n",
        "\n",
        "\n",
        "def get_hijos(posicion):\n",
        "    hijos = []\n",
        "    i, j = get_hueco(posicion)\n",
        "    if i == 0 and j==0: #en funcion de la posicion en la que este el hueco, se realizaran diferentes movimientos\n",
        "        hijos.append(mover(posicion, 'up', i, j))\n",
        "        hijos.append(mover(posicion, 'left', i, j))\n",
        "    elif i==0 and j==1:\n",
        "        hijos.append(mover(posicion, 'up', i, j))\n",
        "        hijos.append(mover(posicion, 'right', i, j))\n",
        "        hijos.append(mover(posicion, 'left', i, j))\n",
        "    elif i==0 and j==2:\n",
        "        hijos.append(mover(posicion, 'up', i, j))\n",
        "        hijos.append(mover(posicion, 'right', i, j))\n",
        "    elif i==1 and j==0:\n",
        "        hijos.append(mover(posicion, 'up', i, j))\n",
        "        hijos.append(mover(posicion, 'left', i, j))\n",
        "        hijos.append(mover(posicion, 'down', i, j))\n",
        "    elif i==1 and j==1:\n",
        "        hijos.append(mover(posicion, 'up', i, j))\n",
        "        hijos.append(mover(posicion, 'right', i, j))\n",
        "        hijos.append(mover(posicion, 'left', i, j))\n",
        "        hijos.append(mover(posicion, 'down', i, j))\n",
        "    elif i==1 and j==2:\n",
        "        hijos.append(mover(posicion, 'up', i, j))\n",
        "        hijos.append(mover(posicion, 'right', i, j))\n",
        "        hijos.append(mover(posicion, 'down', i, j))\n",
        "    elif i==2 and j==0:\n",
        "        hijos.append(mover(posicion, 'left', i, j))\n",
        "        hijos.append(mover(posicion, 'down', i, j))\n",
        "    elif i==2 and j==1:\n",
        "        hijos.append(mover(posicion, 'down', i, j))\n",
        "        hijos.append(mover(posicion, 'right', i, j))\n",
        "        hijos.append(mover(posicion, 'left', i, j))\n",
        "    elif i==2 and j==2:\n",
        "        hijos.append(mover(posicion, 'right', i, j))\n",
        "        hijos.append(mover(posicion, 'down', i, j))\n",
        "\n",
        "    return hijos\n",
        "\n",
        "def es_prometedor(hijo, prometedor):\n",
        "    for i in range(len(hijo)):\n",
        "        for j in range(len(hijo[i])):\n",
        "            if hijo[i][j] != prometedor[i][j]:\n",
        "                return False\n",
        "    return True \n",
        "\n",
        "def algoritmo(posicion, final):\n",
        "    nodos = []\n",
        "    nodos.append({'S':posicion, 'reward': reward(posicion, final)})\n",
        "    cota = nodos[0]['reward']\n",
        "    iteracion = 0\n",
        "    while(len(nodos)>0):\n",
        "        iteracion += 1\n",
        "        prometedor = get_prometedor(nodos)\n",
        "        print('Prometedor con valor', prometedor['reward'])\n",
        "        imprimir(prometedor['S'])\n",
        "        hijos = get_hijos(prometedor['S'])\n",
        "        hijos = [{'S': hijo, 'reward': reward(hijo, final)} for hijo in hijos]\n",
        "        for hijo in hijos:\n",
        "            if es_solucion(hijo['reward']):\n",
        "                print('Solucion encontrada en',iteracion, 'iteraciones')\n",
        "                imprimir(hijo['S'])\n",
        "                return hijo #como solo hay una solucion posible finalizamos aqui la busqueda\n",
        "        #Poda\n",
        "        hijos = [x for x in hijos if x['reward'] >= cota] #eliminamos \n",
        "\n",
        "        #Añadimos los hijos \n",
        "        nodos.extend(hijos) \n",
        "\n",
        "        #Eliminamos el nodo ramificado\n",
        "        nodos =  [x for x in nodos if es_prometedor(x['S'], prometedor['S']) == False]\n",
        "        \n",
        "solucion = algoritmo(posicion_inicial, posicion_deseada)\n"
      ],
      "execution_count": 4,
      "outputs": [
        {
          "output_type": "stream",
          "text": [
            "Prometedor con valor 5\n",
            "------- \n",
            "|1|2|3|\n",
            "------- \n",
            "|7|8|4|\n",
            "------- \n",
            "|6|x|5|\n",
            "------- \n",
            "Prometedor con valor 6\n",
            "------- \n",
            "|1|2|3|\n",
            "------- \n",
            "|7|8|4|\n",
            "------- \n",
            "|x|6|5|\n",
            "------- \n",
            "Prometedor con valor 7\n",
            "------- \n",
            "|1|2|3|\n",
            "------- \n",
            "|x|8|4|\n",
            "------- \n",
            "|7|6|5|\n",
            "------- \n",
            "Solucion encontrada en 3 iteraciones\n",
            "------- \n",
            "|1|2|3|\n",
            "------- \n",
            "|8|x|4|\n",
            "------- \n",
            "|7|6|5|\n",
            "------- \n"
          ],
          "name": "stdout"
        }
      ]
    },
    {
      "cell_type": "code",
      "metadata": {
        "id": "21Zs0IoHtSqQ",
        "colab_type": "code",
        "colab": {}
      },
      "source": [
        ""
      ],
      "execution_count": 0,
      "outputs": []
    }
  ]
}