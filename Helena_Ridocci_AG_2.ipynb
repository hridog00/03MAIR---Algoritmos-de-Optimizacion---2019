{
  "nbformat": 4,
  "nbformat_minor": 0,
  "metadata": {
    "colab": {
      "name": "Helena Ridocci AG-2.ipynb",
      "provenance": [],
      "authorship_tag": "ABX9TyMWPwJZI621fP5Kwo1GfJ03",
      "include_colab_link": true
    },
    "kernelspec": {
      "name": "python3",
      "display_name": "Python 3"
    }
  },
  "cells": [
    {
      "cell_type": "markdown",
      "metadata": {
        "id": "view-in-github",
        "colab_type": "text"
      },
      "source": [
        "<a href=\"https://colab.research.google.com/github/hridog00/03MAIR---Algoritmos-de-Optimizacion---2019/blob/master/Helena_Ridocci_AG_2.ipynb\" target=\"_parent\"><img src=\"https://colab.research.google.com/assets/colab-badge.svg\" alt=\"Open In Colab\"/></a>"
      ]
    },
    {
      "cell_type": "markdown",
      "metadata": {
        "id": "fgRYbnUCBCeQ",
        "colab_type": "text"
      },
      "source": [
        "Nombre: Helena Ridocci \n",
        "\n",
        "Link Colab: https://colab.research.google.com/drive/1ICXuM51Ov3LvDoRN96oFCx3PrVO3znCM\n",
        "\n",
        "Link GitHub: https://github.com/hridog00/03MAIR---Algoritmos-de-Optimizacion---2019/blob/master/Helena_Ridocci_AG_2.ipynb\n",
        "\n",
        "Actividad Guiada 2\n",
        "\n"
      ]
    },
    {
      "cell_type": "markdown",
      "metadata": {
        "id": "vGEAuCie8pEm",
        "colab_type": "text"
      },
      "source": [
        "Porgramacion dinamica"
      ]
    },
    {
      "cell_type": "code",
      "metadata": {
        "id": "bjUlpwryB62d",
        "colab_type": "code",
        "colab": {}
      },
      "source": [
        "tarifas = [\n",
        "[0,5,4,3,999,999,999],\n",
        "[999,0,999,2,3,999,11],\n",
        "[999,999,0,1,999,4,10],\n",
        "[999,999,999,0,5,6,9],\n",
        "[999,999,999,999,0,999,4],\n",
        "[999,999,999,999,999,0,3],\n",
        "[999,999,999,999,999,999,0]\n",
        "]"
      ],
      "execution_count": 0,
      "outputs": []
    },
    {
      "cell_type": "code",
      "metadata": {
        "id": "5T5fDZn-wjHQ",
        "colab_type": "code",
        "colab": {}
      },
      "source": [
        "def get_precios(tarifas):\n",
        "    N = len(tarifas[0])\n",
        "\n",
        "    precios =  [[9999]*N for i in [9999]*N]\n",
        "    ruta = [[\"\"]*N for i in [\"\"]*N]\n",
        "\n",
        "    for i in range(N-1):\n",
        "        for j in range(i+1, N):\n",
        "            min_ =  tarifas[i][j]\n",
        "            ruta[i][j] = i\n",
        "\n",
        "            for k in range(i,j):\n",
        "                if precios[i][k] + tarifas[k][j] < min_:\n",
        "                    min_ = min(min_, precios[i][k] + tarifas[k][j])\n",
        "                    ruta[i][j] = k\n",
        "                precios[i][j] =  min_\n",
        "    return precios, ruta"
      ],
      "execution_count": 0,
      "outputs": []
    },
    {
      "cell_type": "code",
      "metadata": {
        "id": "MbNV0O1JEwCj",
        "colab_type": "code",
        "colab": {}
      },
      "source": [
        "def calcular_ruta(ruta, desde, hasta):\n",
        "    if desde == hasta:\n",
        "        return desde\n",
        "    else:\n",
        "        return str(calcular_ruta(ruta, desde, ruta[desde][hasta])) + ',' + str(ruta[desde][hasta])"
      ],
      "execution_count": 0,
      "outputs": []
    },
    {
      "cell_type": "code",
      "metadata": {
        "id": "6vuF8TLoEq-p",
        "colab_type": "code",
        "outputId": "335b3ac2-b975-4037-aec9-eec5ce842ecb",
        "colab": {
          "base_uri": "https://localhost:8080/",
          "height": 306
        }
      },
      "source": [
        "precios, ruta = get_precios(tarifas)\n",
        "\n",
        "print(\"Precios\")\n",
        "for i in range(len(tarifas)):\n",
        "    print(precios[i])\n",
        "\n",
        "print()\n",
        "print(\"Ruta\")\n",
        "for i in range(len(tarifas)):\n",
        "    print(ruta[i])"
      ],
      "execution_count": 7,
      "outputs": [
        {
          "output_type": "stream",
          "text": [
            "Precios\n",
            "[9999, 5, 4, 3, 8, 8, 11]\n",
            "[9999, 9999, 999, 2, 3, 8, 7]\n",
            "[9999, 9999, 9999, 1, 6, 4, 7]\n",
            "[9999, 9999, 9999, 9999, 5, 6, 9]\n",
            "[9999, 9999, 9999, 9999, 9999, 999, 4]\n",
            "[9999, 9999, 9999, 9999, 9999, 9999, 3]\n",
            "[9999, 9999, 9999, 9999, 9999, 9999, 9999]\n",
            "\n",
            "Ruta\n",
            "['', 0, 0, 0, 1, 2, 5]\n",
            "['', '', 1, 1, 1, 3, 4]\n",
            "['', '', '', 2, 3, 2, 5]\n",
            "['', '', '', '', 3, 3, 3]\n",
            "['', '', '', '', '', 4, 4]\n",
            "['', '', '', '', '', '', 5]\n",
            "['', '', '', '', '', '', '']\n"
          ],
          "name": "stdout"
        }
      ]
    },
    {
      "cell_type": "code",
      "metadata": {
        "id": "sMAq3YaaGHg7",
        "colab_type": "code",
        "outputId": "cadf7250-be1b-4500-a62a-31da303c9105",
        "colab": {
          "base_uri": "https://localhost:8080/",
          "height": 34
        }
      },
      "source": [
        "calcular_ruta(ruta, 0, 6)"
      ],
      "execution_count": 8,
      "outputs": [
        {
          "output_type": "execute_result",
          "data": {
            "text/plain": [
              "'0,0,2,5'"
            ]
          },
          "metadata": {
            "tags": []
          },
          "execution_count": 8
        }
      ]
    },
    {
      "cell_type": "markdown",
      "metadata": {
        "id": "f9qwi-i_H1Km",
        "colab_type": "text"
      },
      "source": [
        "Ramificacion y poda"
      ]
    },
    {
      "cell_type": "code",
      "metadata": {
        "id": "LV1z-7VMH06_",
        "colab_type": "code",
        "colab": {}
      },
      "source": [
        "costes  =[[11,12,18,40],\n",
        "          [14,15,13,22],\n",
        "          [11,17,19,23],\n",
        "          [17,14,20,28]]"
      ],
      "execution_count": 0,
      "outputs": []
    },
    {
      "cell_type": "code",
      "metadata": {
        "id": "DXVagZbdGi0T",
        "colab_type": "code",
        "outputId": "426fc689-b17e-4645-fc93-b3290bcaf1ac",
        "colab": {
          "base_uri": "https://localhost:8080/",
          "height": 34
        }
      },
      "source": [
        "def valor(s, costes):\n",
        "    valor_ = 0\n",
        "    for i in range(len(s)):\n",
        "        valor_ += costes[s[i]][i]\n",
        "    return valor_\n",
        "\n",
        "valor((0,1,2,3), costes)"
      ],
      "execution_count": 0,
      "outputs": [
        {
          "output_type": "execute_result",
          "data": {
            "text/plain": [
              "73"
            ]
          },
          "metadata": {
            "tags": []
          },
          "execution_count": 17
        }
      ]
    },
    {
      "cell_type": "code",
      "metadata": {
        "id": "1ttVHy_kmG_8",
        "colab_type": "code",
        "outputId": "5a3b5840-b0ea-4b92-b75f-6989948806cc",
        "colab": {
          "base_uri": "https://localhost:8080/",
          "height": 34
        }
      },
      "source": [
        "import itertools\n",
        "def fuerza_bruta(costes):\n",
        "    mejor_valor = 10e10\n",
        "    mejor_solucion = ()\n",
        "\n",
        "    for s in list(itertools.permutations(range(len(costes)))):\n",
        "        valor_tmp =  valor(s, costes)\n",
        "        if valor_tmp < mejor_valor:\n",
        "            mejor_valor = valor_tmp\n",
        "            mejor_solucion = s\n",
        "    print(\"La mejor solucion es :\", mejor_solucion, \"con valor :\", mejor_valor)\n",
        "\n",
        "fuerza_bruta(costes)"
      ],
      "execution_count": 0,
      "outputs": [
        {
          "output_type": "stream",
          "text": [
            "La mejor solucion es : (0, 3, 1, 2) con valor : 61\n"
          ],
          "name": "stdout"
        }
      ]
    },
    {
      "cell_type": "code",
      "metadata": {
        "id": "I_uo-lGXlD7r",
        "colab_type": "code",
        "colab": {}
      },
      "source": [
        "def coste_inferior(s,costes):\n",
        "    valor = 0\n",
        "    for i in range(len(s)):\n",
        "        valor += costes[i][s[i]]\n",
        "    for i in range(len(costes)):\n",
        "        if i not in s:\n",
        "            valor += min([costes[j][i] for j in range(len(s), len(costes))])\n",
        "    return valor"
      ],
      "execution_count": 0,
      "outputs": []
    },
    {
      "cell_type": "code",
      "metadata": {
        "id": "2RcB5DNCmFVD",
        "colab_type": "code",
        "colab": {}
      },
      "source": [
        "def crear_hijos(nodo, n):\n",
        "    hijos = []\n",
        "    for i in range(n):\n",
        "        if i not in nodo:\n",
        "            hijos.append({'s':nodo+(i,)})\n",
        "    return hijos"
      ],
      "execution_count": 0,
      "outputs": []
    },
    {
      "cell_type": "code",
      "metadata": {
        "id": "-dNswSJjo2Vh",
        "colab_type": "code",
        "colab": {}
      },
      "source": [
        "def cota_superior(S,COSTES):\n",
        "  VALOR = 0\n",
        "  #Valores establecidos\n",
        "  for i in range(len(S)):\n",
        "    VALOR += COSTES[i][S[i]]\n",
        "\n",
        "  #Estimacion\n",
        "  for i in range(  len(COSTES)):\n",
        "    if i not in S:\n",
        "      VALOR += max( [ COSTES[j][i] for j in range(len(S), len(COSTES))  ])\n",
        "  return VALOR"
      ],
      "execution_count": 0,
      "outputs": []
    },
    {
      "cell_type": "code",
      "metadata": {
        "id": "2QERSCJLndIj",
        "colab_type": "code",
        "outputId": "b204a53f-e5b8-467d-f25a-0ca8f44203a4",
        "colab": {
          "base_uri": "https://localhost:8080/",
          "height": 255
        }
      },
      "source": [
        "def ramificacion_y_poda(COSTES):\n",
        "#Construccion iterativa de soluciones(arbol). En cada etapa asignamos un agente(ramas).\n",
        "#Nodos del grafo  { s:(1,2),CI:3,CS:5  }\n",
        "  #print(COSTES)\n",
        "  DIMENSION = len(COSTES)  \n",
        "  MEJOR_SOLUCION=tuple( i for i in range(len(COSTES)) )\n",
        "  CotaSup = valor(MEJOR_SOLUCION,COSTES)\n",
        "  #print(\"Cota Superior:\", CotaSup)\n",
        "\n",
        "  NODOS=[]\n",
        "  NODOS.append({'s':(), 'ci':coste_inferior((),COSTES)    } )\n",
        "\n",
        "  iteracion = 0\n",
        "\n",
        "  while( len(NODOS) > 0):\n",
        "    iteracion +=1\n",
        "\n",
        "    nodo_prometedor = [ min(NODOS, key=lambda x:x['ci']) ][0]['s']\n",
        "    #print(\"Nodo prometedor:\", nodo_prometedor)\n",
        "\n",
        "    #Ramificacion\n",
        "    #Se generan los hijos\n",
        "    HIJOS =[ {'s':x['s'], 'ci':coste_inferior(x['s'], COSTES)   } for x in crear_hijos(nodo_prometedor, DIMENSION) ]\n",
        "\n",
        "    #Revisamos la cota superior y nos quedamos con la mejor solucion si llegamos a una solucion final\n",
        "    NODO_FINAL = [x for x in HIJOS if len(x['s']) == DIMENSION  ]\n",
        "    if len(NODO_FINAL ) >0: \n",
        "      #print(\"\\n********Soluciones:\",  [x for x in HIJOS if len(x['s']) == DIMENSION  ] )\n",
        "      if NODO_FINAL[0]['ci'] < CotaSup:\n",
        "        CotaSup = NODO_FINAL[0]['ci']\n",
        "        MEJOR_SOLUCION = NODO_FINAL\n",
        " \n",
        "    #Poda\n",
        "    HIJOS = [x for x in HIJOS if x['ci'] < CotaSup   ]\n",
        "\n",
        "    #Añadimos los hijos \n",
        "    NODOS.extend(HIJOS) \n",
        "\n",
        "    #Eliminamos el nodo ramificado\n",
        "    NODOS =  [  x for x in NODOS if x['s'] != nodo_prometedor    ]\n",
        "   \n",
        "    print(\"La solucion final es:\" ,MEJOR_SOLUCION , \" en \" , iteracion , \" iteraciones\" , \" para dimension: \" ,DIMENSION  )\n",
        "      \n",
        "\n",
        "\n",
        "ramificacion_y_poda(costes)"
      ],
      "execution_count": 0,
      "outputs": [
        {
          "output_type": "stream",
          "text": [
            "La solucion final es: (0, 1, 2, 3)  en  1  iteraciones  para dimension:  4\n",
            "La solucion final es: (0, 1, 2, 3)  en  2  iteraciones  para dimension:  4\n",
            "La solucion final es: (0, 1, 2, 3)  en  3  iteraciones  para dimension:  4\n",
            "La solucion final es: (0, 1, 2, 3)  en  4  iteraciones  para dimension:  4\n",
            "La solucion final es: (0, 1, 2, 3)  en  5  iteraciones  para dimension:  4\n",
            "La solucion final es: [{'s': (0, 2, 3, 1), 'ci': 61}]  en  6  iteraciones  para dimension:  4\n",
            "La solucion final es: [{'s': (0, 2, 3, 1), 'ci': 61}]  en  7  iteraciones  para dimension:  4\n",
            "La solucion final es: [{'s': (0, 2, 3, 1), 'ci': 61}]  en  8  iteraciones  para dimension:  4\n",
            "La solucion final es: [{'s': (0, 2, 3, 1), 'ci': 61}]  en  9  iteraciones  para dimension:  4\n",
            "La solucion final es: [{'s': (0, 2, 3, 1), 'ci': 61}]  en  10  iteraciones  para dimension:  4\n",
            "La solucion final es: [{'s': (0, 2, 3, 1), 'ci': 61}]  en  11  iteraciones  para dimension:  4\n",
            "La solucion final es: [{'s': (0, 2, 3, 1), 'ci': 61}]  en  12  iteraciones  para dimension:  4\n",
            "La solucion final es: [{'s': (0, 2, 3, 1), 'ci': 61}]  en  13  iteraciones  para dimension:  4\n",
            "La solucion final es: [{'s': (0, 2, 3, 1), 'ci': 61}]  en  14  iteraciones  para dimension:  4\n"
          ],
          "name": "stdout"
        }
      ]
    },
    {
      "cell_type": "code",
      "metadata": {
        "id": "Tx7LrsC5qzvC",
        "colab_type": "code",
        "colab": {}
      },
      "source": [
        ""
      ],
      "execution_count": 0,
      "outputs": []
    }
  ]
}