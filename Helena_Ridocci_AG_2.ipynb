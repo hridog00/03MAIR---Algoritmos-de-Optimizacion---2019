{
  "nbformat": 4,
  "nbformat_minor": 0,
  "metadata": {
    "colab": {
      "name": "Helena Ridocci AG-2.ipynb",
      "provenance": [],
      "authorship_tag": "ABX9TyNFKHLGsmDXWcDe3l/dZsut",
      "include_colab_link": true
    },
    "kernelspec": {
      "name": "python3",
      "display_name": "Python 3"
    }
  },
  "cells": [
    {
      "cell_type": "markdown",
      "metadata": {
        "id": "view-in-github",
        "colab_type": "text"
      },
      "source": [
        "<a href=\"https://colab.research.google.com/github/hridog00/03MAIR---Algoritmos-de-Optimizacion---2019/blob/master/Helena_Ridocci_AG_2.ipynb\" target=\"_parent\"><img src=\"https://colab.research.google.com/assets/colab-badge.svg\" alt=\"Open In Colab\"/></a>"
      ]
    },
    {
      "cell_type": "markdown",
      "metadata": {
        "id": "fgRYbnUCBCeQ",
        "colab_type": "text"
      },
      "source": [
        "Nombre: Helena Ridocci \n",
        "\n",
        "Link: https://colab.research.google.com/drive/1ICXuM51Ov3LvDoRN96oFCx3PrVO3znCM\n",
        "\n",
        "Actividad Guiada 2\n",
        "\n"
      ]
    },
    {
      "cell_type": "markdown",
      "metadata": {
        "id": "vGEAuCie8pEm",
        "colab_type": "text"
      },
      "source": [
        "Porgramacion dinamica"
      ]
    },
    {
      "cell_type": "code",
      "metadata": {
        "id": "bjUlpwryB62d",
        "colab_type": "code",
        "colab": {}
      },
      "source": [
        "tarifas = [\n",
        "[0,5,4,3,999,999,999],\n",
        "[999,0,999,2,3,999,11],\n",
        "[999,999,0,1,999,4,10],\n",
        "[999,999,999,0,5,6,9],\n",
        "[999,999,999,999,0,999,4],\n",
        "[999,999,999,999,999,0,3],\n",
        "[999,999,999,999,999,999,0]\n",
        "]"
      ],
      "execution_count": 0,
      "outputs": []
    },
    {
      "cell_type": "code",
      "metadata": {
        "id": "5T5fDZn-wjHQ",
        "colab_type": "code",
        "colab": {}
      },
      "source": [
        "def get_precios(tarifas):\n",
        "    N = len(tarifas[0])\n",
        "\n",
        "    precios =  [[9999]*N for i in [9999]*N]\n",
        "    ruta = [[\"\"]*N for i in [\"\"]*N]\n",
        "\n",
        "    for i in range(N-1):\n",
        "        for j in range(i+1, N):\n",
        "            min_ =  tarifas[i][j]\n",
        "            ruta[i][j] = i\n",
        "\n",
        "            for k in range(i,j):\n",
        "                if precios[i][k] + tarifas[k][j] < min_:\n",
        "                    min_ = min(min_, precios[i][k] + tarifas[k][j])\n",
        "                    ruta[i][j] = k\n",
        "                precios[i][j] =  min_\n",
        "    return precios, ruta"
      ],
      "execution_count": 0,
      "outputs": []
    },
    {
      "cell_type": "code",
      "metadata": {
        "id": "MbNV0O1JEwCj",
        "colab_type": "code",
        "colab": {}
      },
      "source": [
        "def calcular_ruta(ruta, desde, hasta):\n",
        "    if desde == hasta:\n",
        "        return desde\n",
        "    else:\n",
        "        return str(calcular_ruta(ruta, desde, ruta[desde][hasta])) + ',' + str(ruta[desde][hasta])"
      ],
      "execution_count": 0,
      "outputs": []
    },
    {
      "cell_type": "code",
      "metadata": {
        "id": "6vuF8TLoEq-p",
        "colab_type": "code",
        "colab": {
          "base_uri": "https://localhost:8080/",
          "height": 306
        },
        "outputId": "28a8dafb-3d36-4fe0-d467-41d71f0e02e0"
      },
      "source": [
        "precios, ruta = get_precios(tarifas)\n",
        "\n",
        "print(\"Precios\")\n",
        "for i in range(len(tarifas)):\n",
        "    print(precios[i])\n",
        "\n",
        "print()\n",
        "print(\"Ruta\")\n",
        "for i in range(len(tarifas)):\n",
        "    print(ruta[i])"
      ],
      "execution_count": 8,
      "outputs": [
        {
          "output_type": "stream",
          "text": [
            "Precios\n",
            "[9999, 5, 4, 3, 8, 8, 11]\n",
            "[9999, 9999, 999, 2, 3, 8, 7]\n",
            "[9999, 9999, 9999, 1, 6, 4, 7]\n",
            "[9999, 9999, 9999, 9999, 5, 6, 9]\n",
            "[9999, 9999, 9999, 9999, 9999, 999, 4]\n",
            "[9999, 9999, 9999, 9999, 9999, 9999, 3]\n",
            "[9999, 9999, 9999, 9999, 9999, 9999, 9999]\n",
            "\n",
            "Ruta\n",
            "['', 0, 0, 0, 1, 2, 5]\n",
            "['', '', 1, 1, 1, 3, 4]\n",
            "['', '', '', 2, 3, 2, 5]\n",
            "['', '', '', '', 3, 3, 3]\n",
            "['', '', '', '', '', 4, 4]\n",
            "['', '', '', '', '', '', 5]\n",
            "['', '', '', '', '', '', '']\n"
          ],
          "name": "stdout"
        }
      ]
    },
    {
      "cell_type": "code",
      "metadata": {
        "id": "sMAq3YaaGHg7",
        "colab_type": "code",
        "colab": {
          "base_uri": "https://localhost:8080/",
          "height": 34
        },
        "outputId": "bdbe5237-e1d0-40d6-8583-356b94c30030"
      },
      "source": [
        "calcular_ruta(ruta, 0, 6)"
      ],
      "execution_count": 11,
      "outputs": [
        {
          "output_type": "execute_result",
          "data": {
            "text/plain": [
              "'0,0,2,5'"
            ]
          },
          "metadata": {
            "tags": []
          },
          "execution_count": 11
        }
      ]
    },
    {
      "cell_type": "markdown",
      "metadata": {
        "id": "f9qwi-i_H1Km",
        "colab_type": "text"
      },
      "source": [
        "Ramificacion y poda"
      ]
    },
    {
      "cell_type": "code",
      "metadata": {
        "id": "LV1z-7VMH06_",
        "colab_type": "code",
        "colab": {}
      },
      "source": [
        ""
      ],
      "execution_count": 0,
      "outputs": []
    },
    {
      "cell_type": "code",
      "metadata": {
        "id": "DXVagZbdGi0T",
        "colab_type": "code",
        "colab": {}
      },
      "source": [
        ""
      ],
      "execution_count": 0,
      "outputs": []
    }
  ]
}